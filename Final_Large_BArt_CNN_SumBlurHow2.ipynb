{
  "cells": [
    {
      "cell_type": "markdown",
      "metadata": {
        "id": "rIJ4cTvPCK_U"
      },
      "source": [
        "# Summarization with blurr\n",
        "> blurr is a libray I started that integrates huggingface transformers with the world of fastai v2, giving fastai devs everything they need to train, evaluate, and deploy transformer specific models.  In this article, I provide a simple example of how to use blurr's new summarization capabilities to train, evaluate, and deploy a BART summarization model.\n",
        "\n",
        "*Updated on 08/21/2020 to use fastai 2.0.0 and also demo batch-time padding*.  \n",
        "*Updated on 09/25/2020 to use on the fly batch-time tokenization*.  \n",
        "*Updated on 11/12/2020 with support for fastai >= 2.1.5 and mixed precision*.\n",
        "*Updated on 12/31/2020 (too much for one sentence, see the docs for more).*  \n",
        "*Updated on 05/13/2022 (using blurr 1.0.x)*\n",
        "- toc: false\n",
        "- badges: true\n",
        "- comments: true\n",
        "- author: Wayde Gilliam\n",
        "- categories: [fastai, huggingface, blurr, summarization, text generation]\n",
        "- image: images/articles/blurr-logo-small.png\n",
        "- hide: false\n",
        "- search_exclude: false\n",
        "- show_tags: true"
      ]
    },
    {
      "cell_type": "code",
      "execution_count": null,
      "metadata": {
        "colab": {
          "base_uri": "https://localhost:8080/"
        },
        "id": "4uHRuifyCK_V",
        "outputId": "fbca98a3-a480-4c60-ac79-0d7cc80fcd9e"
      },
      "outputs": [
        {
          "output_type": "stream",
          "name": "stdout",
          "text": [
            "\u001b[K     |████████████████████████████████| 4.7 MB 7.4 MB/s \n",
            "\u001b[K     |████████████████████████████████| 6.6 MB 33.8 MB/s \n",
            "\u001b[K     |████████████████████████████████| 120 kB 53.0 MB/s \n",
            "\u001b[K     |████████████████████████████████| 365 kB 7.8 MB/s \n",
            "\u001b[K     |████████████████████████████████| 115 kB 39.6 MB/s \n",
            "\u001b[K     |████████████████████████████████| 212 kB 35.9 MB/s \n",
            "\u001b[K     |████████████████████████████████| 127 kB 42.4 MB/s \n",
            "\u001b[K     |████████████████████████████████| 60 kB 3.7 MB/s \n",
            "\u001b[?25hLooking in indexes: https://pypi.org/simple, https://us-python.pkg.dev/colab-wheels/public/simple/\n",
            "Collecting sacremoses\n",
            "  Downloading sacremoses-0.0.53.tar.gz (880 kB)\n",
            "\u001b[K     |████████████████████████████████| 880 kB 7.5 MB/s \n",
            "\u001b[?25hRequirement already satisfied: regex in /usr/local/lib/python3.7/dist-packages (from sacremoses) (2022.6.2)\n",
            "Requirement already satisfied: six in /usr/local/lib/python3.7/dist-packages (from sacremoses) (1.15.0)\n",
            "Requirement already satisfied: click in /usr/local/lib/python3.7/dist-packages (from sacremoses) (7.1.2)\n",
            "Requirement already satisfied: joblib in /usr/local/lib/python3.7/dist-packages (from sacremoses) (1.1.0)\n",
            "Requirement already satisfied: tqdm in /usr/local/lib/python3.7/dist-packages (from sacremoses) (4.64.0)\n",
            "Building wheels for collected packages: sacremoses\n",
            "  Building wheel for sacremoses (setup.py) ... \u001b[?25l\u001b[?25hdone\n",
            "  Created wheel for sacremoses: filename=sacremoses-0.0.53-py3-none-any.whl size=895260 sha256=fef26ee5cd99b3c5997eadf05d0b15f774bff632b3760c2f5793742f04def77c\n",
            "  Stored in directory: /root/.cache/pip/wheels/87/39/dd/a83eeef36d0bf98e7a4d1933a4ad2d660295a40613079bafc9\n",
            "Successfully built sacremoses\n",
            "Installing collected packages: sacremoses\n",
            "Successfully installed sacremoses-0.0.53\n",
            "\u001b[K     |████████████████████████████████| 81 kB 5.3 MB/s \n",
            "\u001b[K     |████████████████████████████████| 96 kB 6.1 MB/s \n",
            "\u001b[K     |████████████████████████████████| 1.3 MB 57.1 MB/s \n",
            "\u001b[K     |████████████████████████████████| 43 kB 2.1 MB/s \n",
            "\u001b[?25h  Building wheel for rouge-score (setup.py) ... \u001b[?25l\u001b[?25hdone\n",
            "  Building wheel for seqeval (setup.py) ... \u001b[?25l\u001b[?25hdone\n",
            "Looking in indexes: https://pypi.org/simple, https://us-python.pkg.dev/colab-wheels/public/simple/\n",
            "Collecting contractions\n",
            "  Downloading contractions-0.1.72-py2.py3-none-any.whl (8.3 kB)\n",
            "Collecting textsearch>=0.0.21\n",
            "  Downloading textsearch-0.0.21-py2.py3-none-any.whl (7.5 kB)\n",
            "Collecting anyascii\n",
            "  Downloading anyascii-0.3.1-py3-none-any.whl (287 kB)\n",
            "\u001b[K     |████████████████████████████████| 287 kB 7.4 MB/s \n",
            "\u001b[?25hCollecting pyahocorasick\n",
            "  Downloading pyahocorasick-1.4.4-cp37-cp37m-manylinux_2_17_x86_64.manylinux2014_x86_64.whl (106 kB)\n",
            "\u001b[K     |████████████████████████████████| 106 kB 53.7 MB/s \n",
            "\u001b[?25hInstalling collected packages: pyahocorasick, anyascii, textsearch, contractions\n",
            "Successfully installed anyascii-0.3.1 contractions-0.1.72 pyahocorasick-1.4.4 textsearch-0.0.21\n"
          ]
        }
      ],
      "source": [
        " # only run this cell if you are in collab\n",
        "!pip install transformers -Uqq\n",
        "!pip install datasets -Uqq\n",
        "!pip install bert-score -Uqq\n",
        "!pip install sacremoses\n",
        "!pip install ohmeow-blurr -Uqq\n",
        "!pip install contractions"
      ]
    },
    {
      "cell_type": "code",
      "execution_count": null,
      "metadata": {
        "colab": {
          "base_uri": "https://localhost:8080/",
          "height": 99,
          "referenced_widgets": [
            "189d8d13a1fc455987f959235a4f11f4",
            "239f3b480f7e487cac440e8b10ef0d8c",
            "16c4694f60ed4a0e9a1b50b3cc103f54",
            "16fbd2c6879946178188f929217e2e5f",
            "d7a2eb26ee964557bbe72b78d74c2074",
            "0081ec227102487fbc23177d0092eaf2",
            "99ee595dbefb4eb59c91fc93e36a4b38",
            "cc42073f36104fa791490ac0c1f59c72",
            "414f7ca58b4e4eff9f22571b5dfc9b78",
            "b7e76446b6ad4f02ae75c34847e83c27",
            "a414e99b20614e0f983c7c4e68d7b9d9",
            "58e0f91d6c82403699c1cd95a58d29cb",
            "e37a12ff90364fe48aa73fb035df4db8",
            "a12c40e0f6ab4fb2bdb1b9125541222f",
            "58558b4c19d54bb2a497d10d8139fe08",
            "c2a2a89cacff4978a113eec8a809b5e6",
            "a3d3444e608a4ebb831710525aafd36b",
            "cc41c529ca314218a5be5763991d07ea",
            "c522ed8dcede492e9463b5c856b91e8b",
            "87ff6f4825db47ed94377fc9d4beb230",
            "23e44a18e1fc47e284762a2f8a354e68",
            "f9e1e4b976bc449a8915957ef4206008"
          ]
        },
        "id": "fq1pD_JCCK_Y",
        "outputId": "dd90bf57-c8a4-410e-eea3-7644ec87ef8c"
      },
      "outputs": [
        {
          "output_type": "display_data",
          "data": {
            "text/plain": [
              "Downloading builder script:   0%|          | 0.00/1.72k [00:00<?, ?B/s]"
            ],
            "application/vnd.jupyter.widget-view+json": {
              "version_major": 2,
              "version_minor": 0,
              "model_id": "189d8d13a1fc455987f959235a4f11f4"
            }
          },
          "metadata": {}
        },
        {
          "output_type": "display_data",
          "data": {
            "text/plain": [
              "Downloading extra modules:   0%|          | 0.00/1.12k [00:00<?, ?B/s]"
            ],
            "application/vnd.jupyter.widget-view+json": {
              "version_major": 2,
              "version_minor": 0,
              "model_id": "58e0f91d6c82403699c1cd95a58d29cb"
            }
          },
          "metadata": {}
        },
        {
          "output_type": "execute_result",
          "data": {
            "text/plain": [
              "True"
            ]
          },
          "metadata": {},
          "execution_count": 2
        }
      ],
      "source": [
        "import datasets\n",
        "import random\n",
        "import pandas as pd\n",
        "from fastai.text.all import *\n",
        "from transformers import *\n",
        "import contractions\n",
        "from blurr.text.data.all import *\n",
        "from blurr.text.modeling.all import *\n",
        "import nltk\n",
        "nltk.download('punkt', quiet=True)"
      ]
    },
    {
      "cell_type": "code",
      "execution_count": null,
      "metadata": {
        "colab": {
          "base_uri": "https://localhost:8080/"
        },
        "id": "PCFSYOSrMpDW",
        "outputId": "4bd9ea12-04cf-4f69-dd6a-7032f107db19"
      },
      "outputs": [
        {
          "output_type": "stream",
          "name": "stdout",
          "text": [
            "Mounted at /content/drive\n"
          ]
        }
      ],
      "source": [
        "from google.colab import drive\n",
        "drive.mount('/content/drive')"
      ]
    },
    {
      "cell_type": "code",
      "execution_count": null,
      "metadata": {
        "id": "HiCpP5ApM95l"
      },
      "outputs": [],
      "source": [
        "transcript='/content/drive/MyDrive/How2 Dataset/text/sum_train/tran.tok.txt'\n",
        "summary='/content/drive/MyDrive/How2 Dataset/text/sum_train/desc.tok.txt'"
      ]
    },
    {
      "cell_type": "code",
      "execution_count": null,
      "metadata": {
        "id": "qLylh3bvOcHF"
      },
      "outputs": [],
      "source": [
        "import re\n",
        "transcripts=[]\n",
        "summaries=[]"
      ]
    },
    {
      "cell_type": "code",
      "source": [
        "n=1000"
      ],
      "metadata": {
        "id": "mbjJ5vMWcuZf"
      },
      "execution_count": null,
      "outputs": []
    },
    {
      "cell_type": "code",
      "execution_count": null,
      "metadata": {
        "colab": {
          "base_uri": "https://localhost:8080/"
        },
        "id": "8mPeMVIRN8H7",
        "outputId": "6f84a57e-da99-4cd6-ef76-e9a7656dd879"
      },
      "outputs": [
        {
          "output_type": "execute_result",
          "data": {
            "text/plain": [
              "['when choosing a martial art choose an informed and talented instructor choose a martial arts fighting system with tips from a martial arts teacher in this free self defense video',\n",
              " 'using front layers as a guide cut back layers into curly hair learn to cut layers in curly hair with expert tips from a hairstylist in this free video about curly hairstyles',\n",
              " 'the intonation on a guitar means a lot in its playability learn about all the facets that you can modify to adjust your guitar s action in this free video clip',\n",
              " 'leveling out tracks is another way of evening out the sound learn how to level out beats in ultrabeat using logic 8 in this free music software video from a music studio owner and producer',\n",
              " 'learn how to use a saw to cut gourds for decorative gourd art in this free online video arts and crafts lesson',\n",
              " 'sparkling wines of spain produced in catalonia are called cava learn about spanish sparkling wines with tips from a sommelier in this free sparkling wine video',\n",
              " 'move into the squash ball when hitting drives or boasts learn how to practice diagonal backhands from the backcourt in this free video on squash drills',\n",
              " 'watering orchids once a week during the summer and once a month during the winter keeps them healthy to continue growing water orchids when the soil feels completely dried out with tips from a professional gardener in this free video on gardening',\n",
              " 'how to play beat 7 on the drums get professional tips and instruction from an expert drummer on playing percussion instruments in this free music lesson video',\n",
              " 'punk is more about lifestyle attitude and going against the mainstream learn about various punk trends from a fashion specialist in this free fashion video']"
            ]
          },
          "metadata": {},
          "execution_count": 7
        }
      ],
      "source": [
        "with open(summary, \"r\") as file1:\n",
        "    FileContent = file1.read()\n",
        "\n",
        "    s=re.split(r\"\\n\", FileContent)\n",
        "\n",
        "for i in range(n):\n",
        "  rs=\"\"\n",
        "  s[i] = re.sub(r'.', '', s[i], count = 11)\n",
        "  expanded_words=[]\n",
        "  for word in s[i].split():\n",
        "      expanded_words.append(contractions.fix(word))\n",
        "  expanded_text = ' '.join(expanded_words)\n",
        "  words = re.findall(r'\\w+', expanded_text.lower())\n",
        "  rs= ' '.join(words)\n",
        "  summaries.append(rs)\n",
        "\n",
        "summaries[0:10]\n"
      ]
    },
    {
      "cell_type": "code",
      "execution_count": null,
      "metadata": {
        "id": "muSJmOsUUGN5",
        "colab": {
          "base_uri": "https://localhost:8080/"
        },
        "outputId": "5be1dc32-07f0-4da8-9831-9583d3bb86d6"
      },
      "outputs": [
        {
          "output_type": "execute_result",
          "data": {
            "text/plain": [
              "['hi everybody i m john graden from the martial arts teacher s association and johngraden com one of the questions i have been asked through the years how do you choose a martial art it really varies it depends on what your goal is are you trying to get in better shape do you want to learn self defense do you want to compete or are you just interested in the mental benefits of the martial arts offer you mental benefits such as self confidence self discipline self control respect so there is a lot of variables in my mind when people say what style is best what style should i do the only style that is really important is the teaching style of the instructor so how do you choose a good martial arts it is really more about choosing a good martial arts instructor it s about choosing a good martial arts school so when you are going to make the decision make sure first you know what your goal is if you really want a strong self defense oriented system you want to be working with an instructor who may have a police background a law enforcement background some practical application in street self defense if you are just looking to become a martial artist or a good black belt here is the key you want to go and visit and watch the students watch the beginner students and study in particular the teaching style of the instructor how does that instructor interact with the students how does that instructor conduct a class then go look at the advanced students we want to make sure that they are impressive we want to make sure that they are in shape we want to make sure there is lots of them what does that mean if there is lots of advanced students that means the school has a high retention that means that it is a good school or she is a good instructor and she is able to keep her students for a long time when you have a school that has lots of brown and black belts and they are impressive then you know you have an instructor that has a curriculum designed to keep students in the school so the teaching style is the most important style of any martial art there are a variety of different styles tai kwon do kempo kung fu karate i m not that interested in the style i m interested in the teacher making sure that teacher can help me or you to reach your goals i m john graden for the martial arts teacher s association thanks tune in for more martial arts excitement thanks',\n",
              " 'we are going to continue with the remainder of her quadrants which is quadrant no 4 and this is the section right here i m going to use a little bit of water it s very important that you keep the hair moist because the hair stretches so what we are going to do with this section is we are going to do the exact same thing that we did with quadrant no 1 okay i m going to place shelly facing me i m going to take my first subsection brush her hair down comb it down bring it straight up and the section that i m going to use as a guide will be the one from quadrant no 1 bring it straight up remember from where it grows this is not going forward this is not going backward this is going straight up and cut to my previous guide you see that right there if you ca n t find your subsection if you can not find the previous guide all you have to do is bring the hair that you are about to cut back and you will find that the previous guide is right there and that is your guide for this subsection cut to that right there section no 3 straight up same manner and cut to the previous guide this is my last section for quadrant no 4 i want you to see how this is perfectly coming from straight from where the hair grows see my comb right there align to the subsection that is how it needs to be okay you do n t want to bring it backwards you do n t want to bring it forward you bring it straight out if you need to use your comb to measure that place it right there and cut to the previous guide that s it the layers are done',\n",
              " 'so we ve determined that we are a little bit sharp and it s due to the thickness of the string so we want to make that adjustment we wanted this the harmonic to match that the adjustment is made usually through the end of the bridge and test it still sharp still sharp i have shifted it too much we will go back the other way it will go a little flat almost a little bit more maybe another half a turn boy that s about as close as we are going to be able to get it saying a little sharp a little flat now it s a little flat keep making adjustments until the two until the two work together this just requires patience oh so close there we go that s what we want do that with all six strings and your guitar will be properly set up',\n",
              " 'the next thing we are going to do is we are going to level out our tracks we are going to put it where it should be and try to level out the drums somewhere what i m going to do is i m going to try my kick and just try to even it out a little bit more maybe turn on my snare a little bit too and maybe change the high hat just a little bit then i will be going like that now once you have these all set just make sure that they are all going out to the same thing you could also do things like pan them out right here mute and solo and highlight any tracks you can also arrange the outputs as well and output them to different sources',\n",
              " 'on behalf of expert village my name is karen locasale and i am here to tell you about crafting with gourds so there is our pilot hole and this will allow you to either put a craft knife in here or in my case i am going to use a jig saw so once you get it cut the way you like it you can also use sand paper to take off those rough edges and you know change your design or whatever it is you are going to do if you like it the way it is perfect i did n t mention before hand but this particular bowl i had a large crack down the side of it so i just when with below the crack so instead of the bowl being this large it s now going to be a little bit shallower but you know you work with what you have got and mistakes sometimes are a good thing',\n",
              " 'hi i am mark middlebrook and i am here in the paul marcus wines wine cellar and in this segment i am going to talk about cava the sparkling wine of spain cava is a catalan word word from catalonia and it simply means cave or where you store and age the wine but it is also a legal term in spanish wine and it refers to a sparkling wine made in a particular style somewhere in spain the vast majority of cava is made in catalonia in northeastern spain near barcelona the central area is called penedes but it is possible to make legally make cava in other regions in catalonia and other parts of spain cava is made principally from xarello parellada macabeo and sometimes chardonnay four grape varieties that grow principally in again catalonia and it is made in the same way as champagne pretty much with that secondary fermentation in the bottle one big distinction is that cava tends to cost a lot less than champagne in part because it is usually less complex less elegant but for all that immensely satisfying you can get good cavas for under twenty bucks well under twenty bucks these days this one is pereventura s cava brut nature which is a great bargain and one that i enjoy a lot and then this is a special vintage cava from a producer called d abbatis i pretty much always have a bottle or two of cava in my refrigerator for when friends drop by and i pretty much recommend that you do the same',\n",
              " 'okay in this portion we are going to be getting our focus on the diagonal drill on the back court player so i want you to watch how gary and myself when we hit a boast how we move into the ball or how if we hit a straight drive we move into the ball and sometimes it s hard to tell and that s when you get good deception because the key to squash if i go into the corner and show boast and can hit a straight drive i might have really put him in a tough position or win the point so we are going to focus on the back court so watch and see how we do here so he pushed me all the way to the back wall but now i can hit a straight drive and move him into the corner now i can put him into the corner again so gary turned the tables on me with a really good boast good deep shot now i turn the tables on him and i just did a front court boast but he recovered and he recovered pretty nicely and he won that rally so see if i can get a little revenge on him so i take the volley and i can speed up the pace on it but he puts me deep i have no choice but to boast alright so i ended the point on a drop which was n t in the drill but that s the diagonal game focusing on the front court and the back court players and i hope you learned something front that',\n",
              " 'hi this is yolanda vanveen from vanveenbulbs com in this segment we are going to talk about when is the best time to water orchids books will tell you to water them in the morning because that way they wo n t be sitting in water all evening and not drying out so that they have all day to soak up the water you do n t want to water them in the heat of the day because then they can get burned because the water sits on the leaves but these are indoors so they seem to handle water pretty much anytime of the day and whenever i get a chance to water them is the best time to water them so this plant and the easy way to tell when is the best time or when they need to be watered is when they are really dry this one is still really wet i m sticking my finger in it and it s still wet and the good way to tell is if i put this upside down and there s no water coming out but it s still really wet then i know that this one is doing really well and it does n t need any water at this point so it s fine i do n t need to water that right now but this orchid feels really light it s really really light and i can feel it is just bone dry there s a little moss in there and it is so dry and the leaves itself too you can tell they have n t had water in a while so my rule of thumb is once a week water your orchids in the heat of the summer and in the winter sometimes i go once a month and i do n t water them at all so when i water them too a key that i found is not to use cold water make sure and use lukewarm water closest to the outside temperature and the inside of your house temperature so you do n t want it too hot or too cold more lukewarm and i try to wash off all the leaves too because they get dust on them and this way if you wash the leaves off they can get air back into the leaf because the dust covers them up and it clogs up all their pores just like our skin it clogs it up so you want to wash all of that off and i really run the water through it because you want all the salt to run back out that s gathered and the chlorine and all the other different contaminants that buildup so i really try to soak and soak and soak my orchids and what i do too since this one is so dry is that i would just leave it for maybe 10 15 minutes with the water in it it does n t have a hole on the bottom so the water is not going out it s soaking inside so that can be dangerous because you do n t want that sitting in water all the time so you want to make sure that there s no standing water so what i would probably actually let this sit for 10 15 minutes so it can really soak up the water and once it s pretty much soaked up too i just pour all the loose water out because you never want water sitting in it so make sure that you always take all the extra water out another good thing you can do for your orchids is to actually wipe off the leaves if you leave the water on the leaves they kind of dry out and they make spots but if you wipe it off it s just like cleaning your face you are wiping off all the impurities that can clog up the pores of the plant so you want to actually wipe off your leaves here and there too i do n t go to this trouble every time i water but at least once a month i try really cleanup my orchids and they seem to do really well that way and when you have orchids in bloom too i would n t put water right on the blooms because i always trash them i might mist them a little bit or stick them in the bathroom with me when i take a shower they love the moisture so the best time to water your orchids is when you think about it we all lead very busy lives and so when they are kind of droopy they are letting you know when they need water and i water them really well but the key is to let them dry out again never let them sit in water because you can kill them with taking care of them much more than neglect',\n",
              " 'joel siegel okay so we ve done eighth notes on one and three and then one and three what we are going to do next is we are going to do we are going to keep that quarter note on one in the kick drum and we are going to put an eighth note instead of after beat three like that first one we did in this eighth note series we are going to put it before beat three which means it s going to be on the upbeat of two okay so i will count and play at the same time just the kick drum it s going to sound like one two three four one two and three four all right so if you think about this think about what s lining up and where the things are in relation to each other with the hi hat you are going to have those eighth notes lining up okay so you have one two three four one two three four and go ahead and i want you to think about too what s happening the interplay between the snare and the kick drum because this is going to feel a little different than maybe what we ve done so far it s going to feel like one two and three right so the snare kind of falls right into the bass drum okay so it sounds like this one two and three four one two and three four all right this is the idea we will go ahead and put all that altogether in this next clip',\n",
              " 'so this is how to dress punk which is a little bit of an oxymoron punk is more of a lifestyle or an attitude and it s really all about rebellion and going against mainstream society or against the mainstream of what s going on so the idea of telling somebody how be a punk sort of goes against the entire idea of being a punk that being said there are certain elements to punk fashion that have been consistent and that we can certainly look at here and talk a little bit about what they mean so in this series we are going to talk about punk accessories hairstyle makeup and several different veins of punk clothing and we are only going to really touch on mainstream punk there are other subsets of punk fashion in general like i said it s more of an attitude or a lifestyle and so if you are looking to incorporate elements of that into your lifestyle it s really great but it should be warned that deciding suddenly to dress like a punk without adopting any of the lifestyle or really understanding what goes on behind it would sort of be out of the ordinary and so we are going to take a look at that and here is how to dress punk']"
            ]
          },
          "metadata": {},
          "execution_count": 8
        }
      ],
      "source": [
        "with open(transcript, \"r\") as file1:\n",
        "    FileContent = file1.read()\n",
        "\n",
        "    s=re.split(r\"\\n\", FileContent)\n",
        "\n",
        "for i in range(n):\n",
        "\n",
        "  rs=\"\"\n",
        "  s[i] = re.sub(r'.', '', s[i], count = 11)\n",
        "  expanded_words=[]\n",
        "  for word in s[i].split():\n",
        "      expanded_words.append(contractions.fix(word))\n",
        "  expanded_text = ' '.join(expanded_words)\n",
        "  words = re.findall(r'\\w+', expanded_text.lower())\n",
        "  rs= ' '.join(words)\n",
        "  transcripts.append(rs)\n",
        "\n",
        "transcripts[0:10]\n"
      ]
    },
    {
      "cell_type": "code",
      "execution_count": null,
      "metadata": {
        "colab": {
          "base_uri": "https://localhost:8080/"
        },
        "id": "ac637txxjkdB",
        "outputId": "7773a06b-62d1-41da-82d1-643c516afd0a"
      },
      "outputs": [
        {
          "output_type": "stream",
          "name": "stdout",
          "text": [
            "1000 1000\n"
          ]
        }
      ],
      "source": [
        "print(len(transcripts),len(summaries))"
      ]
    },
    {
      "cell_type": "markdown",
      "source": [],
      "metadata": {
        "id": "I3P250q1PW65"
      }
    },
    {
      "cell_type": "code",
      "source": [
        "articles=transcripts\n",
        "summary=summaries"
      ],
      "metadata": {
        "id": "xNHlK9Z5ytzg"
      },
      "execution_count": null,
      "outputs": []
    },
    {
      "cell_type": "code",
      "source": [
        "import re\n",
        "def getLength(art):\n",
        "  res = len(re.findall(r'\\w+', art))\n",
        "  return res"
      ],
      "metadata": {
        "id": "70cdIbGPdKEg"
      },
      "execution_count": null,
      "outputs": []
    },
    {
      "cell_type": "code",
      "source": [
        "len_art=[]\n",
        "len_sum=[]\n",
        "for i in articles:\n",
        "  len_art.append(getLength(i))\n",
        "for i in summary:\n",
        "  len_sum.append(getLength(i))"
      ],
      "metadata": {
        "id": "muS2xoCad90o"
      },
      "execution_count": null,
      "outputs": []
    },
    {
      "cell_type": "code",
      "source": [
        "max(len_art)"
      ],
      "metadata": {
        "colab": {
          "base_uri": "https://localhost:8080/"
        },
        "id": "Y9p2FcM5l2pj",
        "outputId": "a1ad4ef3-ebb0-4b4a-e669-26d035ed14e1"
      },
      "execution_count": null,
      "outputs": [
        {
          "output_type": "execute_result",
          "data": {
            "text/plain": [
              "956"
            ]
          },
          "metadata": {},
          "execution_count": 13
        }
      ]
    },
    {
      "cell_type": "code",
      "source": [
        "max(len_sum)"
      ],
      "metadata": {
        "colab": {
          "base_uri": "https://localhost:8080/"
        },
        "id": "dqGKH_gOn1s4",
        "outputId": "ad26fc5e-4ecc-406b-cd4c-8224c077452c"
      },
      "execution_count": null,
      "outputs": [
        {
          "output_type": "execute_result",
          "data": {
            "text/plain": [
              "68"
            ]
          },
          "metadata": {},
          "execution_count": 14
        }
      ]
    },
    {
      "cell_type": "code",
      "source": [
        "avg_art=sum(len_art)/len(len_art)\n",
        "avg_sum=sum(len_sum)/len(len_sum)"
      ],
      "metadata": {
        "id": "eq4rKG-oeRpj"
      },
      "execution_count": null,
      "outputs": []
    },
    {
      "cell_type": "code",
      "source": [
        "print(avg_art,avg_sum)"
      ],
      "metadata": {
        "colab": {
          "base_uri": "https://localhost:8080/"
        },
        "id": "-SDCXSF1lskR",
        "outputId": "4ba8227e-ca77-4b35-9f0f-8a97bb33fdc5"
      },
      "execution_count": null,
      "outputs": [
        {
          "output_type": "stream",
          "name": "stdout",
          "text": [
            "256.237 31.082\n"
          ]
        }
      ]
    },
    {
      "cell_type": "code",
      "execution_count": null,
      "metadata": {
        "id": "h8C_h0ijV5kO",
        "colab": {
          "base_uri": "https://localhost:8080/",
          "height": 615
        },
        "outputId": "f734322b-c09a-4d0a-8c3c-bc54c088dbba"
      },
      "outputs": [
        {
          "output_type": "stream",
          "name": "stdout",
          "text": [
            "<class 'pandas.core.frame.DataFrame'>\n"
          ]
        },
        {
          "output_type": "execute_result",
          "data": {
            "text/plain": [
              "                                                                                                                                                                                                                                                                                                                                                                                                                                                                                                                                                                                                                Transcript  \\\n",
              "0  hi everybody i m john graden from the martial arts teacher s association and johngraden com one of the questions i have been asked through the years how do you choose a martial art it really varies it depends on what your goal is are you trying to get in better shape do you want to learn self defense do you want to compete or are you just interested in the mental benefits of the martial arts offer you mental benefits such as self confidence self discipline self control respect so there is a lot of variables in my mind when people say what style is best what style should i do the only style...   \n",
              "1  we are going to continue with the remainder of her quadrants which is quadrant no 4 and this is the section right here i m going to use a little bit of water it s very important that you keep the hair moist because the hair stretches so what we are going to do with this section is we are going to do the exact same thing that we did with quadrant no 1 okay i m going to place shelly facing me i m going to take my first subsection brush her hair down comb it down bring it straight up and the section that i m going to use as a guide will be the one from quadrant no 1 bring it straight up remem...   \n",
              "2  so we ve determined that we are a little bit sharp and it s due to the thickness of the string so we want to make that adjustment we wanted this the harmonic to match that the adjustment is made usually through the end of the bridge and test it still sharp still sharp i have shifted it too much we will go back the other way it will go a little flat almost a little bit more maybe another half a turn boy that s about as close as we are going to be able to get it saying a little sharp a little flat now it s a little flat keep making adjustments until the two until the two work together this j...   \n",
              "3  the next thing we are going to do is we are going to level out our tracks we are going to put it where it should be and try to level out the drums somewhere what i m going to do is i m going to try my kick and just try to even it out a little bit more maybe turn on my snare a little bit too and maybe change the high hat just a little bit then i will be going like that now once you have these all set just make sure that they are all going out to the same thing you could also do things like pan them out right here mute and solo and highlight any tracks you can also arrange the outputs as wel...   \n",
              "4  on behalf of expert village my name is karen locasale and i am here to tell you about crafting with gourds so there is our pilot hole and this will allow you to either put a craft knife in here or in my case i am going to use a jig saw so once you get it cut the way you like it you can also use sand paper to take off those rough edges and you know change your design or whatever it is you are going to do if you like it the way it is perfect i did n t mention before hand but this particular bowl i had a large crack down the side of it so i just when with below the crack so instead of the bow...   \n",
              "\n",
              "                                                                                                                                                                                        Summary  \n",
              "0            when choosing a martial art choose an informed and talented instructor choose a martial arts fighting system with tips from a martial arts teacher in this free self defense video  \n",
              "1                 using front layers as a guide cut back layers into curly hair learn to cut layers in curly hair with expert tips from a hairstylist in this free video about curly hairstyles  \n",
              "2                               the intonation on a guitar means a lot in its playability learn about all the facets that you can modify to adjust your guitar s action in this free video clip  \n",
              "3  leveling out tracks is another way of evening out the sound learn how to level out beats in ultrabeat using logic 8 in this free music software video from a music studio owner and producer  \n",
              "4                                                                                learn how to use a saw to cut gourds for decorative gourd art in this free online video arts and crafts lesson  "
            ],
            "text/html": [
              "\n",
              "  <div id=\"df-91112275-f58b-4c80-b9a9-77d5c991ac52\">\n",
              "    <div class=\"colab-df-container\">\n",
              "      <div>\n",
              "<style scoped>\n",
              "    .dataframe tbody tr th:only-of-type {\n",
              "        vertical-align: middle;\n",
              "    }\n",
              "\n",
              "    .dataframe tbody tr th {\n",
              "        vertical-align: top;\n",
              "    }\n",
              "\n",
              "    .dataframe thead th {\n",
              "        text-align: right;\n",
              "    }\n",
              "</style>\n",
              "<table border=\"1\" class=\"dataframe\">\n",
              "  <thead>\n",
              "    <tr style=\"text-align: right;\">\n",
              "      <th></th>\n",
              "      <th>Transcript</th>\n",
              "      <th>Summary</th>\n",
              "    </tr>\n",
              "  </thead>\n",
              "  <tbody>\n",
              "    <tr>\n",
              "      <th>0</th>\n",
              "      <td>hi everybody i m john graden from the martial arts teacher s association and johngraden com one of the questions i have been asked through the years how do you choose a martial art it really varies it depends on what your goal is are you trying to get in better shape do you want to learn self defense do you want to compete or are you just interested in the mental benefits of the martial arts offer you mental benefits such as self confidence self discipline self control respect so there is a lot of variables in my mind when people say what style is best what style should i do the only style...</td>\n",
              "      <td>when choosing a martial art choose an informed and talented instructor choose a martial arts fighting system with tips from a martial arts teacher in this free self defense video</td>\n",
              "    </tr>\n",
              "    <tr>\n",
              "      <th>1</th>\n",
              "      <td>we are going to continue with the remainder of her quadrants which is quadrant no 4 and this is the section right here i m going to use a little bit of water it s very important that you keep the hair moist because the hair stretches so what we are going to do with this section is we are going to do the exact same thing that we did with quadrant no 1 okay i m going to place shelly facing me i m going to take my first subsection brush her hair down comb it down bring it straight up and the section that i m going to use as a guide will be the one from quadrant no 1 bring it straight up remem...</td>\n",
              "      <td>using front layers as a guide cut back layers into curly hair learn to cut layers in curly hair with expert tips from a hairstylist in this free video about curly hairstyles</td>\n",
              "    </tr>\n",
              "    <tr>\n",
              "      <th>2</th>\n",
              "      <td>so we ve determined that we are a little bit sharp and it s due to the thickness of the string so we want to make that adjustment we wanted this the harmonic to match that the adjustment is made usually through the end of the bridge and test it still sharp still sharp i have shifted it too much we will go back the other way it will go a little flat almost a little bit more maybe another half a turn boy that s about as close as we are going to be able to get it saying a little sharp a little flat now it s a little flat keep making adjustments until the two until the two work together this j...</td>\n",
              "      <td>the intonation on a guitar means a lot in its playability learn about all the facets that you can modify to adjust your guitar s action in this free video clip</td>\n",
              "    </tr>\n",
              "    <tr>\n",
              "      <th>3</th>\n",
              "      <td>the next thing we are going to do is we are going to level out our tracks we are going to put it where it should be and try to level out the drums somewhere what i m going to do is i m going to try my kick and just try to even it out a little bit more maybe turn on my snare a little bit too and maybe change the high hat just a little bit then i will be going like that now once you have these all set just make sure that they are all going out to the same thing you could also do things like pan them out right here mute and solo and highlight any tracks you can also arrange the outputs as wel...</td>\n",
              "      <td>leveling out tracks is another way of evening out the sound learn how to level out beats in ultrabeat using logic 8 in this free music software video from a music studio owner and producer</td>\n",
              "    </tr>\n",
              "    <tr>\n",
              "      <th>4</th>\n",
              "      <td>on behalf of expert village my name is karen locasale and i am here to tell you about crafting with gourds so there is our pilot hole and this will allow you to either put a craft knife in here or in my case i am going to use a jig saw so once you get it cut the way you like it you can also use sand paper to take off those rough edges and you know change your design or whatever it is you are going to do if you like it the way it is perfect i did n t mention before hand but this particular bowl i had a large crack down the side of it so i just when with below the crack so instead of the bow...</td>\n",
              "      <td>learn how to use a saw to cut gourds for decorative gourd art in this free online video arts and crafts lesson</td>\n",
              "    </tr>\n",
              "  </tbody>\n",
              "</table>\n",
              "</div>\n",
              "      <button class=\"colab-df-convert\" onclick=\"convertToInteractive('df-91112275-f58b-4c80-b9a9-77d5c991ac52')\"\n",
              "              title=\"Convert this dataframe to an interactive table.\"\n",
              "              style=\"display:none;\">\n",
              "        \n",
              "  <svg xmlns=\"http://www.w3.org/2000/svg\" height=\"24px\"viewBox=\"0 0 24 24\"\n",
              "       width=\"24px\">\n",
              "    <path d=\"M0 0h24v24H0V0z\" fill=\"none\"/>\n",
              "    <path d=\"M18.56 5.44l.94 2.06.94-2.06 2.06-.94-2.06-.94-.94-2.06-.94 2.06-2.06.94zm-11 1L8.5 8.5l.94-2.06 2.06-.94-2.06-.94L8.5 2.5l-.94 2.06-2.06.94zm10 10l.94 2.06.94-2.06 2.06-.94-2.06-.94-.94-2.06-.94 2.06-2.06.94z\"/><path d=\"M17.41 7.96l-1.37-1.37c-.4-.4-.92-.59-1.43-.59-.52 0-1.04.2-1.43.59L10.3 9.45l-7.72 7.72c-.78.78-.78 2.05 0 2.83L4 21.41c.39.39.9.59 1.41.59.51 0 1.02-.2 1.41-.59l7.78-7.78 2.81-2.81c.8-.78.8-2.07 0-2.86zM5.41 20L4 18.59l7.72-7.72 1.47 1.35L5.41 20z\"/>\n",
              "  </svg>\n",
              "      </button>\n",
              "      \n",
              "  <style>\n",
              "    .colab-df-container {\n",
              "      display:flex;\n",
              "      flex-wrap:wrap;\n",
              "      gap: 12px;\n",
              "    }\n",
              "\n",
              "    .colab-df-convert {\n",
              "      background-color: #E8F0FE;\n",
              "      border: none;\n",
              "      border-radius: 50%;\n",
              "      cursor: pointer;\n",
              "      display: none;\n",
              "      fill: #1967D2;\n",
              "      height: 32px;\n",
              "      padding: 0 0 0 0;\n",
              "      width: 32px;\n",
              "    }\n",
              "\n",
              "    .colab-df-convert:hover {\n",
              "      background-color: #E2EBFA;\n",
              "      box-shadow: 0px 1px 2px rgba(60, 64, 67, 0.3), 0px 1px 3px 1px rgba(60, 64, 67, 0.15);\n",
              "      fill: #174EA6;\n",
              "    }\n",
              "\n",
              "    [theme=dark] .colab-df-convert {\n",
              "      background-color: #3B4455;\n",
              "      fill: #D2E3FC;\n",
              "    }\n",
              "\n",
              "    [theme=dark] .colab-df-convert:hover {\n",
              "      background-color: #434B5C;\n",
              "      box-shadow: 0px 1px 3px 1px rgba(0, 0, 0, 0.15);\n",
              "      filter: drop-shadow(0px 1px 2px rgba(0, 0, 0, 0.3));\n",
              "      fill: #FFFFFF;\n",
              "    }\n",
              "  </style>\n",
              "\n",
              "      <script>\n",
              "        const buttonEl =\n",
              "          document.querySelector('#df-91112275-f58b-4c80-b9a9-77d5c991ac52 button.colab-df-convert');\n",
              "        buttonEl.style.display =\n",
              "          google.colab.kernel.accessAllowed ? 'block' : 'none';\n",
              "\n",
              "        async function convertToInteractive(key) {\n",
              "          const element = document.querySelector('#df-91112275-f58b-4c80-b9a9-77d5c991ac52');\n",
              "          const dataTable =\n",
              "            await google.colab.kernel.invokeFunction('convertToInteractive',\n",
              "                                                     [key], {});\n",
              "          if (!dataTable) return;\n",
              "\n",
              "          const docLinkHtml = 'Like what you see? Visit the ' +\n",
              "            '<a target=\"_blank\" href=https://colab.research.google.com/notebooks/data_table.ipynb>data table notebook</a>'\n",
              "            + ' to learn more about interactive tables.';\n",
              "          element.innerHTML = '';\n",
              "          dataTable['output_type'] = 'display_data';\n",
              "          await google.colab.output.renderOutput(dataTable, element);\n",
              "          const docLink = document.createElement('div');\n",
              "          docLink.innerHTML = docLinkHtml;\n",
              "          element.appendChild(docLink);\n",
              "        }\n",
              "      </script>\n",
              "    </div>\n",
              "  </div>\n",
              "  "
            ]
          },
          "metadata": {},
          "execution_count": 17
        }
      ],
      "source": [
        "import numpy as np\n",
        "import pandas as pd\n",
        "train=[]\n",
        "test=[]\n",
        "for i in range(n):\n",
        "  train.append(np.array([articles[i],summary[i]]))\n",
        "df_train = pd.DataFrame(train, columns = ['Transcript','Summary'])\n",
        "print(type(df_train))\n",
        "df_train.head()"
      ]
    },
    {
      "cell_type": "code",
      "source": [
        "# for i in range(len(articles_test)):\n",
        "#   test.append(np.array([articles_test[i],summary_test[i]]))\n",
        "\n",
        "# df_test = pd.DataFrame(test, columns = ['Transcript','Summary'])\n",
        "\n",
        "\n",
        "# print(type(df_test))\n",
        "# df_test.head()"
      ],
      "metadata": {
        "id": "GOjZEgnhNP72"
      },
      "execution_count": null,
      "outputs": []
    },
    {
      "cell_type": "code",
      "source": [
        "print(len(df_train))"
      ],
      "metadata": {
        "colab": {
          "base_uri": "https://localhost:8080/"
        },
        "id": "yy8gTlyzOAid",
        "outputId": "7be64e47-4adc-4a6d-9e5f-17ec89af391f"
      },
      "execution_count": null,
      "outputs": [
        {
          "output_type": "stream",
          "name": "stdout",
          "text": [
            "1000\n"
          ]
        }
      ]
    },
    {
      "cell_type": "markdown",
      "metadata": {
        "id": "xELtw2ccCK_a"
      },
      "source": [
        "## Data Preparation"
      ]
    },
    {
      "cell_type": "markdown",
      "metadata": {
        "id": "Ri2T8Ih6CK_b"
      },
      "source": [
        "We're going to use to use the  [datasets](https://huggingface.co/datasets) library from huggingface to grab your raw data.  This package gives you access to all kinds of NLP related datasets, explanations of each, and various task specific metrics to use in evaluating your model.  The best part being everything comes down to you in JSON!  This makes it a breeze to get up and running quickly!"
      ]
    },
    {
      "cell_type": "markdown",
      "metadata": {
        "id": "LYT8--DL8u-A"
      },
      "source": [
        "We'll just use a subset of the training set to build both our training and validation DataLoaders"
      ]
    },
    {
      "cell_type": "markdown",
      "metadata": {
        "id": "xB6-PtQy9ikf"
      },
      "source": [
        "We begin by getting our hugginface objects needed for this task (e.g., the architecture, tokenizer, config, and model).  We'll use blurr's `get_hf_objects` helper method here."
      ]
    },
    {
      "cell_type": "code",
      "execution_count": null,
      "metadata": {
        "colab": {
          "base_uri": "https://localhost:8080/",
          "height": 248,
          "referenced_widgets": [
            "286b043dbb824cd8929d8c70dd740380",
            "6b063334cae540c59de6a48e03d7eb1b",
            "299f2f64160b47e181609e9c21a598f1",
            "782c842c1fc04690837fc20c54b7af5c",
            "9e4b59b796c9432eab9a608f75dbf2a9",
            "73624f498543451590a25ced9910b113",
            "eb5a01d8ed8d4f32bdb50fb6caaf82da",
            "a1e6a7a5196144a59189caef95c04533",
            "f257847c32644611b2d1762736f3022f",
            "346a146526404c1ea1eeafd040753a59",
            "d937cd035e0c418e971e31ab15bf1b89",
            "cb9aa0a107564279a74d087fc63c46f8",
            "430ddd308c2b45b09b8bb18be449ab8e",
            "4da9ed39cb5b43248adf319a4028845f",
            "6d5239111bef4daa9a7217911d34db5a",
            "05339dfb184749fc8a078beaa17ad396",
            "2fbf9b80fe2245dbb8a678adafa6347f",
            "a44d081179d34d1da611491c87f76e89",
            "4aee0586926d4e7e8253a8545df490a5",
            "825764a96f3a41ef9708d39e149b3066",
            "292afa7f7baa431d9ff4ea9500b84803",
            "ac261de1251a410a8635d63672a7a51d",
            "8d1b43a7436d49729bc66deb541b98ac",
            "1ac7c116f652464ea2c0868833485800",
            "3767fb1d1d9c458d8d3513cbbc64d01c",
            "fbe208890acc4924a295745677263569",
            "555c8cd4302740eba876afacd0d3f49d",
            "2610862229654e43afc16d200361b3ad",
            "fab972d8712a4550b617ac2f72ef8ad6",
            "e03f1eac34bb49f0b412d1d855f171b7",
            "8f3baa9bfe714670ab01ae3c762813cd",
            "0a2b78f22673431eaf95b18f860ef0ac",
            "0ede8c7a47764f3a9756ee6177b3e181",
            "e7937857f3084fe0b93b97f00025c4cb",
            "d85bb54f81e144f58772e2820a892075",
            "788765559f2d4fbaabbf6b14e8fa0ee5",
            "e51ab6364fbb4773a6dc3a0bebbae279",
            "867ca0ba46e54564a0f6465aa18183e0",
            "5c5ed32b63cf491aa872b000dbdaf1b3",
            "478d8c28e0904a45a8e76288754e0bcc",
            "37690231253f442d845a5904f1447bde",
            "3e5aef5b417b4436ae687de517f37a56",
            "09f8981fcb8d4c209e4e920c6cf527df",
            "db861b3c24d847278ddfe32009b34aae",
            "a06828cdc0ec44568590ea7d4b1e5d06",
            "aa2dbe9d2ec7492db9156dfe94c709eb",
            "e6fd0735da2c4e7f86a95390f9df0edd",
            "abdd782151e64cae89710c8258e9e3ca",
            "b5ed94c348024789bb448a3e09a932c9",
            "cd035a6a4f424abab45af8faaf85b3f8",
            "e914245ff4fd4f37be11a3e5dad20216",
            "b4f367a64a4d41f3a4057fc50e5e3f2f",
            "2e3474fc4ba747c1ad4033b0d79486a8",
            "d911ce3eb38b496aa2f4c477cfd8a340",
            "d54756ae62064410814bb229c76ac81f"
          ]
        },
        "id": "AOPDC8zo9QhS",
        "outputId": "3b306199-976c-4b6e-f27b-bab10e7e3ab1"
      },
      "outputs": [
        {
          "output_type": "display_data",
          "data": {
            "text/plain": [
              "Downloading config.json:   0%|          | 0.00/1.55k [00:00<?, ?B/s]"
            ],
            "application/vnd.jupyter.widget-view+json": {
              "version_major": 2,
              "version_minor": 0,
              "model_id": "286b043dbb824cd8929d8c70dd740380"
            }
          },
          "metadata": {}
        },
        {
          "output_type": "display_data",
          "data": {
            "text/plain": [
              "Downloading vocab.json:   0%|          | 0.00/878k [00:00<?, ?B/s]"
            ],
            "application/vnd.jupyter.widget-view+json": {
              "version_major": 2,
              "version_minor": 0,
              "model_id": "cb9aa0a107564279a74d087fc63c46f8"
            }
          },
          "metadata": {}
        },
        {
          "output_type": "display_data",
          "data": {
            "text/plain": [
              "Downloading merges.txt:   0%|          | 0.00/446k [00:00<?, ?B/s]"
            ],
            "application/vnd.jupyter.widget-view+json": {
              "version_major": 2,
              "version_minor": 0,
              "model_id": "8d1b43a7436d49729bc66deb541b98ac"
            }
          },
          "metadata": {}
        },
        {
          "output_type": "display_data",
          "data": {
            "text/plain": [
              "Downloading tokenizer.json:   0%|          | 0.00/1.29M [00:00<?, ?B/s]"
            ],
            "application/vnd.jupyter.widget-view+json": {
              "version_major": 2,
              "version_minor": 0,
              "model_id": "e7937857f3084fe0b93b97f00025c4cb"
            }
          },
          "metadata": {}
        },
        {
          "output_type": "display_data",
          "data": {
            "text/plain": [
              "Downloading pytorch_model.bin:   0%|          | 0.00/1.51G [00:00<?, ?B/s]"
            ],
            "application/vnd.jupyter.widget-view+json": {
              "version_major": 2,
              "version_minor": 0,
              "model_id": "a06828cdc0ec44568590ea7d4b1e5d06"
            }
          },
          "metadata": {}
        },
        {
          "output_type": "execute_result",
          "data": {
            "text/plain": [
              "('bart',\n",
              " transformers.models.bart.configuration_bart.BartConfig,\n",
              " transformers.models.bart.tokenization_bart_fast.BartTokenizerFast,\n",
              " transformers.models.bart.modeling_bart.BartForConditionalGeneration)"
            ]
          },
          "metadata": {},
          "execution_count": 20
        }
      ],
      "source": [
        "pretrained_model_name = \"facebook/bart-large-cnn\"\n",
        "hf_arch, hf_config, hf_tokenizer, hf_model = get_hf_objects(pretrained_model_name, model_cls=BartForConditionalGeneration)\n",
        "hf_arch, type(hf_config), type(hf_tokenizer), type(hf_model)"
      ]
    },
    {
      "cell_type": "markdown",
      "metadata": {
        "id": "0HjtQ7Y0-DpN"
      },
      "source": [
        "Next we need to build out our DataBlock.  Remember tha a DataBlock is a blueprint describing how to move your raw data into something modelable.  That blueprint is executed when we pass it a data source, which in our case, will be the DataFrame we created above. We'll use a random subset to get things moving along a bit faster for the demo as well.\n",
        "\n",
        "Notice that the blurr DataBlock as been dramatically simplified given the shift to on-the-fly batch-time tokenization.  All we need is to define a single `Seq2SeqBatchTokenizeTransform` instance, optionally passing a list to any of the tokenization arguments to differentiate the values for the input and summary sequences.  In addition to specifying a custom max length for the inputs, we can also do the same for the output sequences ... and with the latest release of blurr, we can even customize the text generation by passing in `text_gen_kwargs`.\n",
        "\n",
        "We pass `noop` as a type transform for our targets because everything is already handled by the batch transform now."
      ]
    },
    {
      "cell_type": "code",
      "execution_count": null,
      "metadata": {
        "colab": {
          "base_uri": "https://localhost:8080/"
        },
        "id": "l3ilVY3mRC7W",
        "outputId": "a5bfc06a-0237-4cbb-d47f-872f1f3e0445"
      },
      "outputs": [
        {
          "output_type": "execute_result",
          "data": {
            "text/plain": [
              "{'max_length': 142,\n",
              " 'min_length': 56,\n",
              " 'do_sample': False,\n",
              " 'early_stopping': True,\n",
              " 'num_beams': 4,\n",
              " 'temperature': 1.0,\n",
              " 'top_k': 50,\n",
              " 'top_p': 1.0,\n",
              " 'typical_p': 1.0,\n",
              " 'repetition_penalty': 1.0,\n",
              " 'bad_words_ids': None,\n",
              " 'bos_token_id': 0,\n",
              " 'pad_token_id': 1,\n",
              " 'eos_token_id': 2,\n",
              " 'length_penalty': 2.0,\n",
              " 'no_repeat_ngram_size': 3,\n",
              " 'encoder_no_repeat_ngram_size': 0,\n",
              " 'num_return_sequences': 1,\n",
              " 'decoder_start_token_id': 2,\n",
              " 'use_cache': True,\n",
              " 'num_beam_groups': 1,\n",
              " 'diversity_penalty': 0.0,\n",
              " 'output_attentions': False,\n",
              " 'output_hidden_states': False,\n",
              " 'output_scores': False,\n",
              " 'return_dict_in_generate': False,\n",
              " 'forced_bos_token_id': 0,\n",
              " 'forced_eos_token_id': 2,\n",
              " 'remove_invalid_values': False,\n",
              " 'exponential_decay_length_penalty': None}"
            ]
          },
          "metadata": {},
          "execution_count": 21
        }
      ],
      "source": [
        "text_gen_kwargs = default_text_gen_kwargs(hf_config, hf_model, task='summarization');\n",
        "text_gen_kwargs"
      ]
    },
    {
      "cell_type": "code",
      "execution_count": null,
      "metadata": {
        "id": "jWk1XPms9QdO"
      },
      "outputs": [],
      "source": [
        "hf_batch_tfm = Seq2SeqBatchTokenizeTransform(\n",
        "    hf_arch, hf_config, hf_tokenizer, hf_model, max_length=max(len_art), max_tgt_length=max(len_sum), text_gen_kwargs=text_gen_kwargs\n",
        ")\n",
        "\n",
        "blocks = (Seq2SeqTextBlock(batch_tokenize_tfm=hf_batch_tfm), noop)\n",
        "dblock = DataBlock(blocks=blocks, get_x=ColReader('Transcript'), get_y=ColReader('Summary'), splitter=RandomSplitter())"
      ]
    },
    {
      "cell_type": "code",
      "execution_count": null,
      "metadata": {
        "id": "wqtapqCn9QZk"
      },
      "outputs": [],
      "source": [
        "dls = dblock.dataloaders(df_train, bs=2)"
      ]
    },
    {
      "cell_type": "code",
      "execution_count": null,
      "metadata": {
        "colab": {
          "base_uri": "https://localhost:8080/"
        },
        "id": "Y3G8lCYhZq9o",
        "outputId": "e42ba233-d0d5-49ce-ec90-fea3cc99bc63"
      },
      "outputs": [
        {
          "output_type": "execute_result",
          "data": {
            "text/plain": [
              "(800, 200)"
            ]
          },
          "metadata": {},
          "execution_count": 24
        }
      ],
      "source": [
        "len(dls.train.items), len(dls.valid.items)"
      ]
    },
    {
      "cell_type": "markdown",
      "metadata": {
        "id": "Dmu9FMXY_D4m"
      },
      "source": [
        "It's always a good idea to check out a batch of data and make sure the shapes look right."
      ]
    },
    {
      "cell_type": "code",
      "execution_count": null,
      "metadata": {
        "colab": {
          "base_uri": "https://localhost:8080/"
        },
        "id": "sMqn2v4w9P4J",
        "outputId": "f36b3b2a-b4d6-4811-8727-63f01547c8e7"
      },
      "outputs": [
        {
          "output_type": "execute_result",
          "data": {
            "text/plain": [
              "(2, torch.Size([2, 956]), torch.Size([2, 39]))"
            ]
          },
          "metadata": {},
          "execution_count": 25
        }
      ],
      "source": [
        "b = dls.one_batch()\n",
        "len(b), b[0]['input_ids'].shape, b[1].shape"
      ]
    },
    {
      "cell_type": "markdown",
      "metadata": {
        "id": "ZVjYYbQV_N2z"
      },
      "source": [
        "Even better, we can take advantage of blurr's TypeDispatched version of `show_batch` to look at things a bit more intuitively.  We pass in the `dls` via the `dataloaders` argument so we can access all tokenization/modeling configuration stored in our batch transform above."
      ]
    },
    {
      "cell_type": "code",
      "execution_count": null,
      "metadata": {
        "colab": {
          "base_uri": "https://localhost:8080/",
          "height": 1000
        },
        "id": "34yZKJCX_NJp",
        "outputId": "01574080-6b40-44c7-8064-722e125347bf"
      },
      "outputs": [
        {
          "output_type": "display_data",
          "data": {
            "text/plain": [
              "<IPython.core.display.HTML object>"
            ],
            "text/html": [
              "<table border=\"1\" class=\"dataframe\">\n",
              "  <thead>\n",
              "    <tr style=\"text-align: right;\">\n",
              "      <th></th>\n",
              "      <th>text</th>\n",
              "      <th>target</th>\n",
              "    </tr>\n",
              "  </thead>\n",
              "  <tbody>\n",
              "    <tr>\n",
              "      <th>0</th>\n",
              "      <td>&lt;s&gt; hi i m lisa goldsworthy vice president of ace carpet and upholstery care in denver colorado and in this segment i m going to talk about a very popular spill and that s the red wine spill rule number one obviously is to have immediacy and tackle that spill as quickly as you can you are going to notice that spill went all the way through to the back of the carpet too so rule number one get it as quick as possible and you can do that with white paper towels or a white towel now in most of these segments i ve been using white towels but just for the heck of it i m going to mix it up and go with our white paper towels because often times that s what i m using in my own basement so let s go ahead and blot ok and what we want to do is just gently blot and get that spill up as quickly as possible and always keep in mind that you should never scrub your carpet i know that it sort of goes against what we were always taught that the more elbow grease we put into it the better and scrubbing is always getting it clean but never the case in a carpet because basically what you are going to do is you are going to damage that carpet fiber and it s going to look fuzzy and there s no fixing that at all so we are going to blot now one important note also for this little carpet sample is that it does have scotchgard on it scotchgard comes with any new carpeting comes with a teflon protectant such as scotchgard on it and so therefore it buys you time with spills and so forth and do n t be alarmed if your carpet is older and you do n t have scotchgard this is still a good technique for you to use so what i ve done is i ve blotted this and what i m doing right now is i m bringing that nap of the carpet back up because the blotting really mushed it down so i m bringing it back up i still have some there you will see on this corner here so and this is a tough one because you know obviously this is already a pink carpet but i still see some red in there so blot now once you are done blotting and getting that spill up what you want to do is you want to get you can stick with the white paper towels certainly and that s probably what we will do for this instance let s get a brand new one make sure that we are not re soiling that area and take your white paper towel with ice cold water and the reason why it s ice cold is because often time s hot water can set a stain and just get that paper towel a little damp and then continue your blotting just gently and another movement that you can do that is effective is just gently going back and forth into the carpet nap wow look at that i m still getting some transfer so continue this motion and really it s the safest way until you do n t see any more color transfer onto your white paper towel but continue that let s see if we have any more yes still getting it up it was a big spill so we can anticipate that so you will find that that s really probably going to get you the best result your cold water one other option would be to use a spotter that has the same ph as water and that s a ph of 7 and just put that on there lightly and continue your blotting now this spotter being the same ph as water is nice because it will not leave a soapy residue in your carpet soapy residue will not only attract dirt on your carpet but will also decrease chances of any good success of a professional carpet cleaner coming into your home we are still getting a tremendous amount of color transfer here so we are really having fantastic results and just remain patient when it comes to cleaning up spills on your carpet that s the best rule of thumb just be patient one other important part is that once we have this clean through our blotting and through the cold water and if you have a spotter with a ph of 7 continue to do that you are most likely going to have this carpet fiber then clean and free of that spill but ultimately you will have that spill at the bottom of your carpet soaking all the way to your carpet pad and just keep in mind that wine will be in your carpet pad until that is extracted through a professional steam cleaning so if you are able to get good results through home cleaning methods fantastic but make a note to yourself perhaps write it down somewhere where when you do call your carpet cleaner next time say hey i had my wine spill i was able to get the carpet fiber clean through the cold water white towel method however i know it s going to be in my carpet pad so this area right in here i spilled some&lt;/s&gt;</td>\n",
              "      <td>clean a red wine carpet stain with paper towels get more help removing red wine carpet stains with cleaning tips from a vice president of a carpet cleaning company in this free video on housecleaning</td>\n",
              "    </tr>\n",
              "    <tr>\n",
              "      <th>1</th>\n",
              "      <td>&lt;s&gt; my name is lauren and on behalf of expert village i am here to talk to you about styles on the go ashley has a side sweep in and now it s becoming evening she s going to go out tonight so we are going to transform her style a little bit many women transform their style and change their hair from day to evening it depends on where you are going who you are doing it with what you are wearing as outfits change women like to change their hair according to their outfits i m going to show you a few quick ways to take your style you are little bit more conservative side sweep and change it into something a little bit funnier for your evening or even something a little bit more elegant you can keep exactly what you have done if you need to go in and refresh your tease or smooth over it again then by all means use a little bit of spray smooth it and if you need to go over your tease you can then form the hair into different sections you do n t have to be particular in where these sections are going to lay or what their going to do you simply just grab i was n t concentrating so much on partings because she already has her tease up here so that s already going to get rid of some of your partings grab your hair spray it just a little bit of product for smoothing you can roll it under let it hang you are then going to take your bobby pins and on the inside of that curl you are going to place a pin now the way that we locked your bobby pins on the side can be the same exact thing that you do for your barrel curls so that way they are going to stay grab another random section spray it smooth it with your fingers decide how you would like for it to fall this one i m going to weft up and over so it s going to overweigh that other curl i simply clip the hair and let it fall what you are really doing is a crises cross pattern or any pattern that you choose to have fun with it it s very important the point of this is to use minimal pins and to get your hair to stay sometimes stubborn hair will take more than one pin grab another section see i m just grabbing random pieces spray this one i m going to move the previous section of pieces i m going to simply pick it up and roll it under place your pin in smooth some of those ends grab one more place it in now all i ve really done with her hair and i have n t used much spray because we are not getting very particular she s not going to a five course dinner or a wedding she s just going out with her friends wift and let it go take your one pin place it in you are going to continue to do that throughout the back of the hair but as you can see she s already has something that s a little bit more fun a little bit more flirty and now she s getting ready to go out the rest of the hair you would just continue to do the same pattern and let those pieces just hand after you re done you can take something that s a little bit on the whiter side i like more of your pomme for something like this rather than a wax just go through and if you find any pieces that need smoothing you can just go ahead and smooth them out if you need to if you have unruly hairs say that you ve finished it and now you have a hair that s sticking up grab one of your extra pins you are simply going to place the pin on that hair just like so wift up and just stick it in and that unruly hair is gone&lt;/s&gt;&lt;pad&gt;&lt;pad&gt;&lt;pad&gt;&lt;pad&gt;&lt;pad&gt;&lt;pad&gt;&lt;pad&gt;&lt;pad&gt;&lt;pad&gt;&lt;pad&gt;&lt;pad&gt;&lt;pad&gt;&lt;pad&gt;&lt;pad&gt;&lt;pad&gt;&lt;pad&gt;&lt;pad&gt;&lt;pad&gt;&lt;pad&gt;&lt;pad&gt;&lt;pad&gt;&lt;pad&gt;&lt;pad&gt;&lt;pad&gt;&lt;pad&gt;&lt;pad&gt;&lt;pad&gt;&lt;pad&gt;&lt;pad&gt;&lt;pad&gt;&lt;pad&gt;&lt;pad&gt;&lt;pad&gt;&lt;pad&gt;&lt;pad&gt;&lt;pad&gt;&lt;pad&gt;&lt;pad&gt;&lt;pad&gt;&lt;pad&gt;&lt;pad&gt;&lt;pad&gt;&lt;pad&gt;&lt;pad&gt;&lt;pad&gt;&lt;pad&gt;&lt;pad&gt;&lt;pad&gt;&lt;pad&gt;&lt;pad&gt;&lt;pad&gt;&lt;pad&gt;&lt;pad&gt;&lt;pad&gt;&lt;pad&gt;&lt;pad&gt;&lt;pad&gt;&lt;pad&gt;&lt;pad&gt;&lt;pad&gt;&lt;pad&gt;&lt;pad&gt;&lt;pad&gt;&lt;pad&gt;&lt;pad&gt;&lt;pad&gt;&lt;pad&gt;&lt;pad&gt;&lt;pad&gt;&lt;pad&gt;&lt;pad&gt;&lt;pad&gt;&lt;pad&gt;&lt;pad&gt;&lt;pad&gt;&lt;pad&gt;&lt;pad&gt;&lt;pad&gt;&lt;pad&gt;&lt;pad&gt;&lt;pad&gt;&lt;pad&gt;&lt;pad&gt;&lt;pad&gt;&lt;pad&gt;&lt;pad&gt;&lt;pad&gt;&lt;pad&gt;&lt;pad&gt;&lt;pad&gt;&lt;pad&gt;&lt;pad&gt;&lt;pad&gt;&lt;pad&gt;&lt;pad&gt;&lt;pad&gt;&lt;pad&gt;&lt;pad&gt;&lt;pad&gt;&lt;pad&gt;&lt;pad&gt;&lt;pad&gt;&lt;pad&gt;&lt;pad&gt;&lt;pad&gt;&lt;pad&gt;&lt;pad&gt;&lt;pad&gt;&lt;pad&gt;&lt;pad&gt;&lt;pad&gt;&lt;pad&gt;&lt;pad&gt;&lt;pad&gt;&lt;pad&gt;&lt;pad&gt;&lt;pad&gt;&lt;pad&gt;&lt;pad&gt;&lt;pad&gt;&lt;pad&gt;&lt;pad&gt;&lt;pad&gt;&lt;pad&gt;&lt;pad&gt;&lt;pad&gt;&lt;pad&gt;&lt;pad&gt;&lt;pad&gt;&lt;pad&gt;&lt;pad&gt;&lt;pad&gt;&lt;pad&gt;&lt;pad&gt;&lt;pad&gt;&lt;pad&gt;&lt;pad&gt;&lt;pad&gt;&lt;pad&gt;&lt;pad&gt;&lt;pad&gt;&lt;pad&gt;&lt;pad&gt;&lt;pad&gt;&lt;pad&gt;&lt;pad&gt;&lt;pad&gt;&lt;pad&gt;&lt;pad&gt;&lt;pad&gt;&lt;pad&gt;&lt;pad&gt;&lt;pad&gt;&lt;pad&gt;&lt;pad&gt;&lt;pad&gt;&lt;pad&gt;&lt;pad&gt;&lt;pad&gt;&lt;pad&gt;&lt;pad&gt;&lt;pad&gt;&lt;pad&gt;&lt;pad&gt;&lt;pad&gt;&lt;pad&gt;&lt;pad&gt;&lt;pad&gt;&lt;pad&gt;&lt;pad&gt;&lt;pad&gt;&lt;pad&gt;&lt;pad&gt;&lt;pad&gt;&lt;pad&gt;&lt;pad&gt;&lt;pad&gt;&lt;pad&gt;&lt;pad&gt;&lt;pad&gt;&lt;pad&gt;&lt;pad&gt;&lt;pad&gt;&lt;pad&gt;&lt;pad&gt;&lt;pad&gt;&lt;pad&gt;&lt;pad&gt;&lt;pad&gt;&lt;pad&gt;&lt;pad&gt;&lt;pad&gt;&lt;pad&gt;&lt;pad&gt;&lt;pad&gt;&lt;pad&gt;&lt;pad&gt;&lt;pad&gt;&lt;pad&gt;&lt;pad&gt;&lt;pad&gt;&lt;pad&gt;&lt;pad&gt;&lt;pad&gt;&lt;pad&gt;&lt;pad&gt;&lt;pad&gt;&lt;pad&gt;&lt;pad&gt;&lt;pad&gt;&lt;pad&gt;&lt;pad&gt;&lt;pad&gt;&lt;pad&gt;&lt;pad&gt;&lt;pad&gt;&lt;pad&gt;&lt;pad&gt;&lt;pad&gt;&lt;pad&gt;&lt;pad&gt;&lt;pad&gt;&lt;pad&gt;&lt;pad&gt;&lt;pad&gt;&lt;pad&gt;&lt;pad&gt;&lt;pad&gt;&lt;pad&gt;&lt;pad&gt;&lt;pad&gt;&lt;pad&gt;</td>\n",
              "      <td>how to make a sexy evening quick and easy hairstyle get professional tips and advice on methods techniques and products for doing your own hairstyling in this free beauty video</td>\n",
              "    </tr>\n",
              "  </tbody>\n",
              "</table>"
            ]
          },
          "metadata": {}
        }
      ],
      "source": [
        "dls.show_batch(dataloaders=dls, max_n=2)"
      ]
    },
    {
      "cell_type": "markdown",
      "metadata": {
        "id": "IgH4EGhpG4tk"
      },
      "source": [
        "## Training"
      ]
    },
    {
      "cell_type": "markdown",
      "metadata": {
        "id": "ys5tnLAy_Za4"
      },
      "source": [
        "We'll prepare our BART model for training by wrapping it in blurr's `BaseModelWrapper` object and using the callback, `BaseModelCallback`, as usual.  A new `Seq2SeqMetricsCallback` object allows us to specify Seq2Seq metrics we want to use, things like rouge and bertscore for tasks like summarization as well as metrics such as meteor, bleu, and sacrebleu for translations tasks. Using huggingface's metrics library is as easy as specifying a metrics configuration such as below.\n",
        "\n",
        "Once we have everything in place, we'll freeze our model so that only the last layer group's parameters of trainable.  See [here](https://docs.fast.ai/basic_train.html#Discriminative-layer-training) for our discriminitative learning rates work in fastai.\n",
        "\n",
        "**Note:** This has been tested with ALOT of other Seq2Seq models; see the docs for more information."
      ]
    },
    {
      "cell_type": "code",
      "execution_count": null,
      "metadata": {
        "id": "TP4s7DbVQSc6"
      },
      "outputs": [],
      "source": [
        "seq2seq_metrics = {\n",
        "        'rouge': {\n",
        "            'compute_kwargs': { 'rouge_types': [\"rouge1\", \"rouge2\", \"rougeL\"], 'use_stemmer': True },\n",
        "            'returns': [\"rouge1\", \"rouge2\", \"rougeL\"]\n",
        "        },\n",
        "        'bertscore': {\n",
        "            'compute_kwargs': { 'lang': 'en' },\n",
        "            'returns': [\"precision\", \"recall\", \"f1\"]\n",
        "        }\n",
        "    }"
      ]
    },
    {
      "cell_type": "code",
      "execution_count": null,
      "metadata": {
        "id": "9GVhlRA8_NGs",
        "colab": {
          "base_uri": "https://localhost:8080/",
          "height": 81,
          "referenced_widgets": [
            "3c0702b16b8e44059455178b5f5cb8d9",
            "88516e410f5c494b95fb14e5a16e7988",
            "9a7487d7898b4bca996bb479debf89bb",
            "8dca31a4148740a9ba8f3b3dfb1e80be",
            "0968f6d6ad6b4a0bbf8ae9529866dfef",
            "9480cf38e76e46a2be598aa2fec4a808",
            "421528bfa80a4d59bc1f653e47645f3f",
            "42b7e32233f640ac9d555ceba4339867",
            "1299b39079e64b5581d298b23bac7f4c",
            "6125b31f2a8d41c5870600a96519d75c",
            "0e0e1791c78e4851b183ecacfe09fb61",
            "36c5d2673de642b19fe8eb7c298c16f2",
            "ee3997529c174fe986fdd5012ae0433e",
            "e62211e1bdb24956bc2204e46080431a",
            "1ebadc7c0fa241c5a5f34a05335d0688",
            "888d83fc61524d73a3d46e753139342a",
            "b42b6fdd13be46f68413dc9f394b619a",
            "79d6abb2272e4f15b7fd5fa7a0b8e65f",
            "c033f9c04b9b4a7193166c64dc53bf3b",
            "d5879790c419450ca8f983321391e5ff",
            "a1aab94f00b94c47acb8313e5f63f37d",
            "eb343d6580b346249a2459c0717534ff"
          ]
        },
        "outputId": "2cf08f85-6941-4ad4-926f-8fd7514b3bff"
      },
      "outputs": [
        {
          "output_type": "display_data",
          "data": {
            "text/plain": [
              "Downloading builder script:   0%|          | 0.00/2.16k [00:00<?, ?B/s]"
            ],
            "application/vnd.jupyter.widget-view+json": {
              "version_major": 2,
              "version_minor": 0,
              "model_id": "3c0702b16b8e44059455178b5f5cb8d9"
            }
          },
          "metadata": {}
        },
        {
          "output_type": "display_data",
          "data": {
            "text/plain": [
              "Downloading builder script:   0%|          | 0.00/2.92k [00:00<?, ?B/s]"
            ],
            "application/vnd.jupyter.widget-view+json": {
              "version_major": 2,
              "version_minor": 0,
              "model_id": "36c5d2673de642b19fe8eb7c298c16f2"
            }
          },
          "metadata": {}
        }
      ],
      "source": [
        "model = BaseModelWrapper(hf_model)\n",
        "learn_cbs = [BaseModelCallback]\n",
        "fit_cbs = [Seq2SeqMetricsCallback(custom_metrics=seq2seq_metrics)]\n",
        "\n",
        "learn = Learner(dls,\n",
        "                model,\n",
        "                opt_func=ranger,\n",
        "                loss_func=CrossEntropyLossFlat(),\n",
        "                cbs=learn_cbs,\n",
        "                splitter=partial(blurr_seq2seq_splitter, arch=hf_arch)).to_fp16()\n",
        "\n",
        "learn.create_opt()\n",
        "learn.freeze()"
      ]
    },
    {
      "cell_type": "markdown",
      "metadata": {
        "id": "WcpCHm2_A68D"
      },
      "source": [
        "Still experimenting with how to use fastai's learning rate finder for these kinds of models.  If you all have any suggestions or interesting insights to share, please let me know.  We're only going to train the frozen model for one epoch for this demo, but feel free to progressively unfreeze the model and train the other layers to see if you can best my results below."
      ]
    },
    {
      "cell_type": "code",
      "execution_count": null,
      "metadata": {
        "colab": {
          "base_uri": "https://localhost:8080/",
          "height": 392
        },
        "id": "vYMzd76Z_M_3",
        "outputId": "4a1dd2e6-d1bf-4b45-ea9b-10466fc8a590"
      },
      "outputs": [
        {
          "output_type": "stream",
          "name": "stderr",
          "text": [
            "/usr/local/lib/python3.7/dist-packages/torch/amp/autocast_mode.py:198: UserWarning: User provided device_type of 'cuda', but CUDA is not available. Disabling\n",
            "  warnings.warn('User provided device_type of \\'cuda\\', but CUDA is not available. Disabling')\n",
            "/usr/local/lib/python3.7/dist-packages/torch/cuda/amp/grad_scaler.py:115: UserWarning: torch.cuda.amp.GradScaler is enabled, but CUDA is not available.  Disabling.\n",
            "  warnings.warn(\"torch.cuda.amp.GradScaler is enabled, but CUDA is not available.  Disabling.\")\n"
          ]
        },
        {
          "output_type": "display_data",
          "data": {
            "text/plain": [
              "<IPython.core.display.HTML object>"
            ],
            "text/html": [
              "\n",
              "<style>\n",
              "    /* Turns off some styling */\n",
              "    progress {\n",
              "        /* gets rid of default border in Firefox and Opera. */\n",
              "        border: none;\n",
              "        /* Needs to be in here for Safari polyfill so background images work as expected. */\n",
              "        background-size: auto;\n",
              "    }\n",
              "    progress:not([value]), progress:not([value])::-webkit-progress-bar {\n",
              "        background: repeating-linear-gradient(45deg, #7e7e7e, #7e7e7e 10px, #5c5c5c 10px, #5c5c5c 20px);\n",
              "    }\n",
              "    .progress-bar-interrupted, .progress-bar-interrupted::-webkit-progress-bar {\n",
              "        background: #F44336;\n",
              "    }\n",
              "</style>\n"
            ]
          },
          "metadata": {}
        },
        {
          "output_type": "display_data",
          "data": {
            "text/plain": [
              "<IPython.core.display.HTML object>"
            ],
            "text/html": [
              ""
            ]
          },
          "metadata": {}
        },
        {
          "output_type": "execute_result",
          "data": {
            "text/plain": [
              "SuggestedLRs(valley=6.30957365501672e-05)"
            ]
          },
          "metadata": {},
          "execution_count": 29
        },
        {
          "output_type": "display_data",
          "data": {
            "text/plain": [
              "<Figure size 432x288 with 1 Axes>"
            ],
            "image/png": "[encoded data removed]"
          },
          "metadata": {
            "needs_background": "light"
          }
        }
      ],
      "source": [
        "learn.lr_find()"
      ]
    },
    {
      "cell_type": "markdown",
      "metadata": {
        "id": "9_xhrbcgAtS0"
      },
      "source": [
        "It's also not a bad idea to run a batch through your model and make sure the shape of what goes in, and comes out, looks right."
      ]
    },
    {
      "cell_type": "code",
      "execution_count": null,
      "metadata": {
        "colab": {
          "base_uri": "https://localhost:8080/",
          "height": 204
        },
        "id": "FYTk9W-s_NC_",
        "outputId": "8f0a85bf-2745-4dea-f566-0508c8095090"
      },
      "outputs": [
        {
          "output_type": "error",
          "ename": "NameError",
          "evalue": "ignored",
          "traceback": [
            "\u001b[0;31m---------------------------------------------------------------------------\u001b[0m",
            "\u001b[0;31mNameError\u001b[0m                                 Traceback (most recent call last)",
            "\u001b[0;32m<ipython-input-1-7e981cdd296f>\u001b[0m in \u001b[0;36m<module>\u001b[0;34m\u001b[0m\n\u001b[0;32m----> 1\u001b[0;31m \u001b[0mb\u001b[0m \u001b[0;34m=\u001b[0m \u001b[0mdls\u001b[0m\u001b[0;34m.\u001b[0m\u001b[0mone_batch\u001b[0m\u001b[0;34m(\u001b[0m\u001b[0;34m)\u001b[0m\u001b[0;34m\u001b[0m\u001b[0;34m\u001b[0m\u001b[0m\n\u001b[0m\u001b[1;32m      2\u001b[0m \u001b[0mpreds\u001b[0m \u001b[0;34m=\u001b[0m \u001b[0mlearn\u001b[0m\u001b[0;34m.\u001b[0m\u001b[0mmodel\u001b[0m\u001b[0;34m(\u001b[0m\u001b[0mb\u001b[0m\u001b[0;34m[\u001b[0m\u001b[0;36m0\u001b[0m\u001b[0;34m]\u001b[0m\u001b[0;34m)\u001b[0m\u001b[0;34m\u001b[0m\u001b[0;34m\u001b[0m\u001b[0m\n\u001b[1;32m      3\u001b[0m \u001b[0mlen\u001b[0m\u001b[0;34m(\u001b[0m\u001b[0mpreds\u001b[0m\u001b[0;34m)\u001b[0m\u001b[0;34m,\u001b[0m\u001b[0mpreds\u001b[0m\u001b[0;34m[\u001b[0m\u001b[0;36m0\u001b[0m\u001b[0;34m]\u001b[0m\u001b[0;34m,\u001b[0m \u001b[0mpreds\u001b[0m\u001b[0;34m[\u001b[0m\u001b[0;36m1\u001b[0m\u001b[0;34m]\u001b[0m\u001b[0;34m.\u001b[0m\u001b[0mshape\u001b[0m\u001b[0;34m\u001b[0m\u001b[0;34m\u001b[0m\u001b[0m\n",
            "\u001b[0;31mNameError\u001b[0m: name 'dls' is not defined"
          ]
        }
      ],
      "source": [
        "b = dls.one_batch()\n",
        "preds = learn.model(b[0])\n",
        "len(preds),preds[0], preds[1].shape"
      ]
    },
    {
      "cell_type": "code",
      "execution_count": null,
      "metadata": {
        "colab": {
          "base_uri": "https://localhost:8080/",
          "height": 95
        },
        "id": "7nLRDgWB_M6A",
        "outputId": "59cbe62d-fa39-43fe-c722-7395d5a252ec"
      },
      "outputs": [
        {
          "output_type": "display_data",
          "data": {
            "text/plain": [
              "<IPython.core.display.HTML object>"
            ],
            "text/html": [
              "\n",
              "<style>\n",
              "    /* Turns off some styling */\n",
              "    progress {\n",
              "        /* gets rid of default border in Firefox and Opera. */\n",
              "        border: none;\n",
              "        /* Needs to be in here for Safari polyfill so background images work as expected. */\n",
              "        background-size: auto;\n",
              "    }\n",
              "    progress:not([value]), progress:not([value])::-webkit-progress-bar {\n",
              "        background: repeating-linear-gradient(45deg, #7e7e7e, #7e7e7e 10px, #5c5c5c 10px, #5c5c5c 20px);\n",
              "    }\n",
              "    .progress-bar-interrupted, .progress-bar-interrupted::-webkit-progress-bar {\n",
              "        background: #F44336;\n",
              "    }\n",
              "</style>\n"
            ]
          },
          "metadata": {}
        },
        {
          "output_type": "display_data",
          "data": {
            "text/plain": [
              "<IPython.core.display.HTML object>"
            ],
            "text/html": [
              "\n",
              "    <div>\n",
              "      <progress value='0' class='' max='10' style='width:300px; height:20px; vertical-align: middle;'></progress>\n",
              "      0.00% [0/10 00:00&lt;?]\n",
              "    </div>\n",
              "    \n",
              "<table border=\"1\" class=\"dataframe\">\n",
              "  <thead>\n",
              "    <tr style=\"text-align: left;\">\n",
              "      <th>epoch</th>\n",
              "      <th>train_loss</th>\n",
              "      <th>valid_loss</th>\n",
              "      <th>rouge1</th>\n",
              "      <th>rouge2</th>\n",
              "      <th>rougeL</th>\n",
              "      <th>bertscore_precision</th>\n",
              "      <th>bertscore_recall</th>\n",
              "      <th>bertscore_f1</th>\n",
              "      <th>time</th>\n",
              "    </tr>\n",
              "  </thead>\n",
              "  <tbody>\n",
              "  </tbody>\n",
              "</table><p>\n",
              "\n",
              "    <div>\n",
              "      <progress value='1' class='' max='400' style='width:300px; height:20px; vertical-align: middle;'></progress>\n",
              "      0.25% [1/400 00:38&lt;4:14:09]\n",
              "    </div>\n",
              "    "
            ]
          },
          "metadata": {}
        }
      ],
      "source": [
        "learn.fit_one_cycle(10, lr_max= 1.9054606673308001e-4, cbs=fit_cbs)"
      ]
    },
    {
      "cell_type": "markdown",
      "metadata": {
        "id": "fyY99QfQBRD1"
      },
      "source": [
        "And now we can look at the generated predictions using our `text_gen_kwargs` above"
      ]
    },
    {
      "cell_type": "code",
      "execution_count": null,
      "metadata": {
        "id": "FjkuilnLBWB_"
      },
      "outputs": [],
      "source": [
        "learn.show_results(learner=learn, max_n=2)"
      ]
    },
    {
      "cell_type": "markdown",
      "metadata": {
        "id": "AcmpeMrOBaox"
      },
      "source": [
        "Even better though, blurr augments the fastai Learner with a `blurr_summarize` method that allows you to use huggingface's `PreTrainedModel.generate` method to create something more human-like."
      ]
    },
    {
      "cell_type": "code",
      "execution_count": null,
      "metadata": {
        "id": "fwUkWbYJ_M3B"
      },
      "outputs": [],
      "source": [
        "test_article = \"\"\"\n",
        "The past 12 months have been the worst for aviation fatalities so far this decade - with the total of number of people killed if airline\n",
        "crashes reaching 1,050 even before the Air Asia plane vanished. Two incidents involving Malaysia Airlines planes - one over eastern Ukraine and the other in the Indian Ocean - led to the deaths of 537 people, while an Air Algerie crash in Mali killed 116 and TransAsia Airways crash in Taiwan killed a further 49 people. The remaining 456 fatalities were largely in incidents involving small commercial planes or private aircraft operating on behalf of companies, governments or organisations. Despite 2014 having the highest number of fatalities so far this decade, the total number of crashes was in fact the lowest since the first commercial jet airliner took off in 1949 - totalling just 111 across the whole world over the past 12 months. The all-time deadliest year for aviation was 1972 when a staggering 2,429 people were killed in a total of 55 plane crashes - including the crash of Aeroflot Flight 217, which killed 174 people in Russia, and Convair 990 Coronado, which claimed 155 lives in Spain. However this year's total death count of 1,212, including those presumed dead on board the missing Air Asia flight, marks a significant rise on the very low 265 fatalities in 2013 - which led to it being named the safest year in aviation since the end of the Second World War. Scroll down for videos. Deadly: The past 12 months have been the worst for aviation fatalities so far this decade - with the total of number of people killed if airline crashes reaching 1,158 even before the Air Asia plane (pictured) vanished. Fatal: Two incidents involving Malaysia Airlines planes - one over eastern Ukraine (pictured) and the other in the Indian Ocean - led to the deaths of 537 people. Surprising: Despite 2014 having the highest number of fatalities so far this decade, the total number of crashes was in fact the lowest since the first commercial jet airliner took off in 1949. 2014 has been a horrific year for Malaysia-based airlines, with 537 people dying on Malaysia Airlines planes, and a further 162 people missing and feared dead in this week's Air Asia incident. In total more than half the people killed in aviation incidents this year had been flying on board Malaysia-registered planes. In January a total of 12 people lost their lives in five separate incidents, while the same number of crashes in February killed 107.\n",
        "\"\"\""
      ]
    },
    {
      "cell_type": "markdown",
      "metadata": {
        "id": "aN99vo5gRtEO"
      },
      "source": [
        "We can override the `text_gen_kwargs` we specified for our `DataLoaders` when we generate text using blurr's `Learner.blurr_generate` method"
      ]
    },
    {
      "cell_type": "code",
      "execution_count": null,
      "metadata": {
        "id": "tzxPEvEX_MzJ"
      },
      "outputs": [],
      "source": [
        "outputs = learn.blurr_summarize(test_article, early_stopping=True, num_beams=4, num_return_sequences=3)\n",
        "\n",
        "for idx, o in enumerate(outputs):\n",
        "    print(f'=== Prediction {idx+1} ===\\n{o}\\n')"
      ]
    },
    {
      "cell_type": "markdown",
      "metadata": {
        "id": "FW4Lzf_6B0el"
      },
      "source": [
        "What about inference?  Easy!"
      ]
    },
    {
      "cell_type": "code",
      "execution_count": null,
      "metadata": {
        "id": "a0NMTcsA_Mr5"
      },
      "outputs": [],
      "source": [
        "learn.metrics = None\n",
        "learn.export(fname='ft_cnndm_export.pkl')"
      ]
    },
    {
      "cell_type": "code",
      "execution_count": null,
      "metadata": {
        "id": "i131wpNq_MmQ"
      },
      "outputs": [],
      "source": [
        "inf_learn = load_learner(fname='ft_cnndm_export.pkl')\n",
        "# x=inf_learn.blurr_summarize(test_article)"
      ]
    },
    {
      "cell_type": "code",
      "execution_count": null,
      "metadata": {
        "id": "DuiRK-l89X33"
      },
      "outputs": [],
      "source": [
        "outputs = inf_learn.blurr_generate(test_article, early_stopping=False, num_return_sequences=1)\n",
        "\n",
        "for idx, o in enumerate(outputs):\n",
        "    print(f'=== Prediction {idx+1} ===\\n{o}\\n')"
      ]
    },
    {
      "cell_type": "code",
      "execution_count": null,
      "metadata": {
        "id": "4mwhL1Q79hgb"
      },
      "outputs": [],
      "source": [
        "# x[0]['summary_texts']"
      ]
    },
    {
      "cell_type": "code",
      "execution_count": null,
      "metadata": {
        "id": "7vG8Hphb9i3X"
      },
      "outputs": [],
      "source": [
        "# a = list(outputs[0].values())\n",
        "# a[0]"
      ]
    },
    {
      "cell_type": "code",
      "execution_count": null,
      "metadata": {
        "id": "xcnko1gV-SyH"
      },
      "outputs": [],
      "source": [
        "pred_summary = []\n",
        "for i in range(50):\n",
        "  outputs = inf_learn.blurr_generate(articles[500+i], early_stopping=False, num_return_sequences=1)\n",
        "  a = list(outputs[0].values())\n",
        "  pred_summary.append(a[0])"
      ]
    },
    {
      "cell_type": "code",
      "source": [
        "len(pred_summary )"
      ],
      "metadata": {
        "id": "nbwFdpCRTfaP"
      },
      "execution_count": null,
      "outputs": []
    },
    {
      "cell_type": "code",
      "source": [
        "pred_summary[0]"
      ],
      "metadata": {
        "id": "6bgO46pGbv3j"
      },
      "execution_count": null,
      "outputs": []
    },
    {
      "cell_type": "code",
      "source": [
        "# summary_test[0]"
      ],
      "metadata": {
        "id": "RWpQkCpSb3dH"
      },
      "execution_count": null,
      "outputs": []
    },
    {
      "cell_type": "code",
      "source": [
        "# articles_test[0]"
      ],
      "metadata": {
        "id": "cjZww2-Gb-Sc"
      },
      "execution_count": null,
      "outputs": []
    },
    {
      "cell_type": "markdown",
      "metadata": {
        "id": "v_oaq8tA7g_d"
      },
      "source": [
        "# Computing Scores"
      ]
    },
    {
      "cell_type": "code",
      "execution_count": null,
      "metadata": {
        "id": "RB6tp3p-75Wv"
      },
      "outputs": [],
      "source": [
        "!pip install rouge_score"
      ]
    },
    {
      "cell_type": "code",
      "source": [
        "from datasets import load_dataset, load_metric\n",
        "rouge = load_metric('rouge')"
      ],
      "metadata": {
        "id": "CUwl_F59UUk1"
      },
      "execution_count": null,
      "outputs": []
    },
    {
      "cell_type": "code",
      "execution_count": null,
      "metadata": {
        "id": "Lvu0cNJChvof"
      },
      "outputs": [],
      "source": [
        "def computeScore(score):\n",
        "  precision = []\n",
        "  recall = []\n",
        "  f1 = []\n",
        "  for i in range(200):\n",
        "      result = rouge.compute(predictions=[pred_summary[i]], references=[summary[800+i]])\n",
        "      precision.append(result[score].high.precision)\n",
        "      recall.append(result[score].high.recall)\n",
        "      f1.append(result[score].high.fmeasure)\n",
        "  pavg = sum(precision)/len(precision)\n",
        "  print(\"_______\",score,\"____________\")\n",
        "  print('Precision:', pavg)\n",
        "\n",
        "  ravg = sum(recall)/len(recall)\n",
        "  print('Recall', ravg)\n",
        "\n",
        "  favg = sum(f1)/len(f1)\n",
        "  print('F1- Score', favg)\n",
        "  plotGraph(precision,recall,f1,score)\n",
        "  print(\"______________________________\")"
      ]
    },
    {
      "cell_type": "code",
      "execution_count": null,
      "metadata": {
        "id": "xsuUZm0Dr_KW"
      },
      "outputs": [],
      "source": [
        "indices=[i for i in range(200)]\n",
        "def plotGraph(precision,recall,f1,score):\n",
        "  plt.plot(indices, precision, label = \"precision\")\n",
        "  plt.plot(indices, recall, label = \"recall\")\n",
        "  plt.plot(indices, f1, label = \"f1-score\")\n",
        "  plt.xlabel('id')\n",
        "  plt.ylabel('score')\n",
        "  plt.title('ROUGE Score')\n",
        "  plt.savefig(score)"
      ]
    },
    {
      "cell_type": "code",
      "execution_count": null,
      "metadata": {
        "id": "NqCK_trjsxfR"
      },
      "outputs": [],
      "source": [
        "computeScore('rouge1')"
      ]
    },
    {
      "cell_type": "code",
      "execution_count": null,
      "metadata": {
        "id": "Bz30Xc0otYVg"
      },
      "outputs": [],
      "source": [
        "computeScore('rouge2')"
      ]
    },
    {
      "cell_type": "code",
      "execution_count": null,
      "metadata": {
        "id": "dFRTr1Lgtaax"
      },
      "outputs": [],
      "source": [
        "computeScore('rougeLsum')"
      ]
    },
    {
      "cell_type": "markdown",
      "metadata": {
        "id": "I62bUlZ-CK_b"
      },
      "source": [
        "# That's it\n",
        "\n",
        "[blurr](https://ohmeow.github.io/blurr/) supports a number of huggingface transformer model tasks in addition to summarization (e.g., sequence classification , token classification, and question/answering, causal language modeling, and transation). The docs include examples for each of these tasks if you're curious to learn more.\n",
        "\n",
        "For more information about ohmeow or to get in contact with me, head over to [ohmeow.com](ohmeow.com) for all the details.\n",
        "\n",
        "Thanks!"
      ]
    },
    {
      "cell_type": "code",
      "source": [
        "!pip install pytube\n",
        "!pip install pysrt\n",
        "!pip install moviepy"
      ],
      "metadata": {
        "id": "swiel2Drdj2J"
      },
      "execution_count": null,
      "outputs": []
    },
    {
      "cell_type": "code",
      "source": [
        "pip install SpeechRecognition"
      ],
      "metadata": {
        "id": "WyX4JOBAd20o"
      },
      "execution_count": null,
      "outputs": []
    },
    {
      "cell_type": "code",
      "source": [
        "pip install imageio_ffmpeg"
      ],
      "metadata": {
        "id": "K7SPKzrKec4P"
      },
      "execution_count": null,
      "outputs": []
    },
    {
      "cell_type": "code",
      "source": [
        "pip install noisereduce"
      ],
      "metadata": {
        "id": "uQRX-gs5eild"
      },
      "execution_count": null,
      "outputs": []
    },
    {
      "cell_type": "code",
      "source": [
        "pip install pydub"
      ],
      "metadata": {
        "id": "euL6u82i9HnJ"
      },
      "execution_count": null,
      "outputs": []
    },
    {
      "cell_type": "code",
      "source": [
        "from moviepy.video.io.VideoFileClip import VideoFileClip as mp"
      ],
      "metadata": {
        "id": "PKpz2XMIeKHf"
      },
      "execution_count": null,
      "outputs": []
    },
    {
      "cell_type": "code",
      "execution_count": null,
      "metadata": {
        "id": "ZmFkD6C4LTX3"
      },
      "outputs": [],
      "source": [
        "import os\n",
        "import csv\n",
        "import pandas as pd\n",
        "import matplotlib.pyplot as plt\n",
        "import pytube, pysrt\n",
        "# import moviepy.editor as mp\n",
        "import speech_recognition as sr\n",
        "from transformers import pipeline, TFAutoModelWithLMHead, AutoTokenizer\n",
        "from pydub import AudioSegment\n",
        "from pydub.silence import split_on_silence\n",
        "from datasets import load_dataset, load_metric\n",
        "from scipy.io import wavfile\n",
        "import noisereduce as nr"
      ]
    },
    {
      "cell_type": "code",
      "execution_count": null,
      "metadata": {
        "id": "kHLyOaIrUz1A"
      },
      "outputs": [],
      "source": [
        "url = input(\"Please enter a YouTube URL:\")\n",
        "youtube = pytube.YouTube(url)"
      ]
    },
    {
      "cell_type": "code",
      "source": [
        "pip install youtube_transcript_api"
      ],
      "metadata": {
        "id": "K8_BL22Gtafz"
      },
      "execution_count": null,
      "outputs": []
    },
    {
      "cell_type": "code",
      "source": [
        "from youtube_transcript_api import YouTubeTranscriptApi"
      ],
      "metadata": {
        "id": "Ukfco-5ttbnf"
      },
      "execution_count": null,
      "outputs": []
    },
    {
      "cell_type": "code",
      "source": [
        "_id = url.split(\"=\")[1].split(\"&\")[0]"
      ],
      "metadata": {
        "id": "SeLU4ODiLGeT"
      },
      "execution_count": null,
      "outputs": []
    },
    {
      "cell_type": "code",
      "source": [
        "# try:\n",
        "#   YouTubeTranscriptApi.get_transcript(_id)\n",
        "# else:\n"
      ],
      "metadata": {
        "id": "OytPTIWeLu2_"
      },
      "execution_count": null,
      "outputs": []
    },
    {
      "cell_type": "code",
      "execution_count": null,
      "metadata": {
        "id": "YD5h1YM3Vs1z"
      },
      "outputs": [],
      "source": [
        "# if(youtube.captions.get_by_language_code('en')):\n",
        "\n",
        "try:\n",
        "    # YouTubeTranscriptApi.get_transcript(_id)\n",
        "\n",
        "    # video = youtube.streams.first()\n",
        "    # print(video)\n",
        "    # print('Downloading Video.....')\n",
        "    # video.download(filename='fyp')\n",
        "    # print('Video Downloaded')\n",
        "    # print(\"Caption Available....\")\n",
        "    # en_caption = youtube.captions.get_by_language_code('en')\n",
        "    # # print(en_caption.xml_captions)\n",
        "    # # xml_caption = xml_caption_to_srt(en_caption.xml_captions)\n",
        "    # # en_caption_convert_to_srt=xml_caption_to_srt(en_caption.xml_captions)\n",
        "    # # print(ElementTree.tostring(en_caption.xml_captions))\n",
        "    # tree =ElementTree.parse(en_caption.xml_captions)\n",
        "    # root = tree.getroot()\n",
        "    # for description in root.iter('p'):\n",
        "    #     print(description.text)\n",
        "    # en_caption_convert_to_srt = ElementTree.tostring(en_caption.xml_captions, encoding='unicode')\n",
        "    # # en_caption_convert_to_srt =(en_caption.generate_srt_captions())\n",
        "    # #print(en_caption_convert_to_srt)\n",
        "    # #save the caption to a file named Output.txt\n",
        "    # text_file = open(\"fyp.srt\", \"w\")\n",
        "    # text_file.write(en_caption_convert_to_srt)\n",
        "    # text_file.close()\n",
        "    # subs = pysrt.open(\"fyp.srt\")\n",
        "    # text_file1 = open(\"fyp.txt\",\"w\")\n",
        "    # for sub in subs:\n",
        "    #     print(sub.text)\n",
        "    #     #text_file1 = open(path, \"a\")\n",
        "    #     text_file1.write(sub.text)\n",
        "    # text_file1.close()\n",
        "    # _id = url.split(\"=\")[1].split(\"&\")[0]\n",
        "    # transcript = YouTubeTranscriptApi.get_transcript(_id)\n",
        "    # textTrans=\"\"\n",
        "    # for i in transcript:\n",
        "    #   textTrans=textTrans+i[\"text\"]\n",
        "\n",
        "    # transcript = YouTubeTranscriptApi.get_transcript(_id)\n",
        "    # script = \"\"\n",
        "\n",
        "    # for text in transcript:\n",
        "    #     t = text[\"text\"]\n",
        "    #     if t != '[Music]':\n",
        "    #         script += t + \" \"\n",
        "    input_text=generate_transcript(url)\n",
        "\n",
        "\n",
        "except:\n",
        "    print(\"There are no Captions!!!!\")\n",
        "    video = youtube.streams.first()\n",
        "    print(video)\n",
        "    print('Downloading.....')\n",
        "    video.download(filename='fyp')\n",
        "    print('Downloaded')\n",
        "    clip = mp(r\"/content/fyp\")\n",
        "    clip.audio.write_audiofile(r\"fyp.wav\")\n",
        "    r = sr.Recognizer()\n",
        "    def get_large_audio_transcription(path):\n",
        "      sound = AudioSegment.from_wav(path)\n",
        "      chunks = split_on_silence(sound,\n",
        "          min_silence_len = 500,\n",
        "          silence_thresh = sound.dBFS-14,\n",
        "          keep_silence=500,\n",
        "      )\n",
        "      folder_name = \"audio-chunks\"\n",
        "      if not os.path.isdir(folder_name):\n",
        "          os.mkdir(folder_name)\n",
        "      whole_text = \"\"\n",
        "      for i, audio_chunk in enumerate(chunks, start=1):\n",
        "          chunk_filename = os.path.join(folder_name, f\"chunk{i}.wav\")\n",
        "          audio_chunk.export(chunk_filename, format=\"wav\")\n",
        "          with sr.AudioFile(chunk_filename) as source:\n",
        "              audio_listened = r.record(source)\n",
        "              try:\n",
        "                  text = r.recognize_google(audio_listened\n",
        "                                            # ,language='hi-In'\n",
        "                                            )\n",
        "              except sr.UnknownValueError as e:\n",
        "                  print(\"Error:\", str(e))\n",
        "              else:\n",
        "                  text = f\"{text.capitalize()}.\"\n",
        "                  print(chunk_filename, \":\", text)\n",
        "                  whole_text += text\n",
        "      return whole_text\n",
        "    path = \"fyp.wav\"\n",
        "    text = get_large_audio_transcription(path)\n",
        "    f = open(\"fyp.txt\", \"w\")\n",
        "    f.write(text)\n",
        "    f.close()\n",
        "    f = open(\"fyp.txt\", \"r\", encoding=\"utf8\")\n",
        "    with open('fyp.csv', 'w', newline='', encoding=\"utf8\") as file:\n",
        "      writer = csv.writer(file)\n",
        "      writer.writerow([\"text\"])\n",
        "      writer.writerow([f.read()])\n",
        "    df1 = pd.read_csv('fyp.csv')\n",
        "    input_text = df1['text'][0]\n",
        "# # load data\n",
        "# rate, data = wavfile.read(path)\n",
        "# # perform noise reduction\n",
        "# reduced_noise = nr.reduce_noise(y=data, sr=rate)\n",
        "# wavfile.write(\"fyp2.wav\", rate, reduced_noise)\n",
        "# path=\"fyp2.wav\""
      ]
    },
    {
      "cell_type": "code",
      "execution_count": null,
      "metadata": {
        "id": "aU2WBhNQrwW0"
      },
      "outputs": [],
      "source": [
        "# path = \"fyp.wav\"\n",
        "# # load data\n",
        "# rate, data = wavfile.read(path)\n",
        "# # perform noise reduction\n",
        "# reduced_noise = nr.reduce_noise(y=data, sr=rate)\n",
        "# wavfile.write(\"fyp2.wav\", rate, reduced_noise)\n",
        "# path=\"fyp2.wav\"\n",
        "# text = get_large_audio_transcription(path)\n",
        "# f = open(\"fyp.txt\", \"w\")\n",
        "# f.write(text)\n",
        "# f.close()"
      ]
    },
    {
      "cell_type": "code",
      "execution_count": null,
      "metadata": {
        "id": "wxQUEwnAV1DQ"
      },
      "outputs": [],
      "source": [
        "# f = open(\"fyp.txt\", \"r\", encoding=\"utf8\")\n",
        "# with open('fyp.csv', 'w', newline='', encoding=\"utf8\") as file:\n",
        "#   writer = csv.writer(file)\n",
        "#   writer.writerow([\"text\"])\n",
        "#   writer.writerow([f.read()])\n",
        "# df1 = pd.read_csv('fyp.csv')"
      ]
    },
    {
      "cell_type": "code",
      "execution_count": null,
      "metadata": {
        "id": "R5GsIhNTWGpG"
      },
      "outputs": [],
      "source": [
        "# input_text = df1['text'][0]\n",
        "input_text"
      ]
    },
    {
      "cell_type": "code",
      "execution_count": null,
      "metadata": {
        "id": "2VAZgjnuWIzR"
      },
      "outputs": [],
      "source": [
        "# !pip install googletrans==3.1.0a0"
      ]
    },
    {
      "cell_type": "code",
      "execution_count": null,
      "metadata": {
        "id": "iOprVTz2WMEb"
      },
      "outputs": [],
      "source": [
        "# import googletrans\n",
        "# from googletrans import Translator\n",
        "# translator = Translator()\n",
        "# result = translator.translate(input_text)\n",
        "# result.text"
      ]
    },
    {
      "cell_type": "code",
      "execution_count": null,
      "metadata": {
        "id": "j7TdhzlSWVBy"
      },
      "outputs": [],
      "source": [
        "# cvtart = result.text\n",
        "cvtart=input_text\n",
        "outputs = inf_learn.blurr_generate(cvtart, early_stopping=False, num_return_sequences=1)\n",
        "\n",
        "for idx, o in enumerate(outputs):\n",
        "    print(f'=== Prediction {idx+1} ===\\n{o}\\n')"
      ]
    },
    {
      "cell_type": "code",
      "execution_count": null,
      "metadata": {
        "id": "WGkutgsiWZg6"
      },
      "outputs": [],
      "source": [
        "# a = list(outputs[0].values())\n",
        "# print(a[0])"
      ]
    },
    {
      "cell_type": "code",
      "execution_count": null,
      "metadata": {
        "id": "XQRifUJfWaRc"
      },
      "outputs": [],
      "source": [
        "# result = translator.translate(a[0], src='en', dest='hi')\n",
        "# print(result.text)"
      ]
    },
    {
      "cell_type": "code",
      "execution_count": null,
      "metadata": {
        "id": "eUjXsqLXTQBE"
      },
      "outputs": [],
      "source": [
        "# !pip install pytube\n",
        "# !pip install pysrt\n",
        "# !pip install SpeechRecognition\n",
        "# !pip install pydub\n",
        "# !pip install noisereduce"
      ]
    },
    {
      "cell_type": "code",
      "source": [
        "!pip install gradio"
      ],
      "metadata": {
        "id": "qpDhNwRbcUB5"
      },
      "execution_count": null,
      "outputs": []
    },
    {
      "cell_type": "code",
      "source": [
        "!pip install youtube_transcript_api"
      ],
      "metadata": {
        "id": "7CERZdsuUc88"
      },
      "execution_count": null,
      "outputs": []
    },
    {
      "cell_type": "code",
      "source": [
        "# import gradio as gr\n",
        "# from gradio.mix import Series\n",
        "# from youtube_transcript_api import YouTubeTranscriptApi\n",
        "\n",
        "# def generate_transcript(url):\n",
        "#     _id = url.split(\"=\")[1].split(\"&\")[0]\n",
        "\n",
        "#     transcript = YouTubeTranscriptApi.get_transcript(_id)\n",
        "#     script = \"\"\n",
        "\n",
        "#     for text in transcript:\n",
        "#         t = text[\"text\"]\n",
        "#         if t != '[Music]':\n",
        "#             script += t + \" \"\n",
        "\n",
        "#     return script\n",
        "\n",
        "# transcriber = gr.Interface(generate_transcript, 'text', 'text')\n",
        "# summarizer = gr.Interface.load(\"huggingface/sshleifer/distilbart-cnn-12-6\")\n",
        "\n",
        "# gradio_ui = Series(transcriber, summarizer,\n",
        "#                   inputs = gr.inputs.Textbox(label = \"Enter the YouTube URL below:\"),\n",
        "#                   outputs = gr.outputs.Textbox(label = \"Transcript Summary\"),\n",
        "#                   examples = [\"https://www.youtube.com/watch?v=Cu3R5it4cQs&list\", \"https://www.youtube.com/watch?v=HB4I2CgkcCo\"],\n",
        "#                   title = \"YouTube Transcript Summarizer\",\n",
        "#                   theme = \"peach\",\n",
        "#                   description = \"This application uses the sshleifer/distilbart-cnn-12-6 model to summarize a short YouTube video that has English subtitles. For it to work, the input URL must follow the format similar to the given examples, specifically having the video's ID at the end. Examples are videos from GCFLearnFree.org YouTube Channel.\"\n",
        "#                    )\n",
        "\n",
        "# gradio_ui.launch()"
      ],
      "metadata": {
        "id": "3CAsv3UNcVYl"
      },
      "execution_count": null,
      "outputs": []
    },
    {
      "cell_type": "code",
      "source": [
        "import gradio as gr\n",
        "from gradio.mix import Series\n",
        "from youtube_transcript_api import YouTubeTranscriptApi\n",
        "\n",
        "def generate_transcript(url):\n",
        "    _id = url.split(\"=\")[1].split(\"&\")[0]\n",
        "\n",
        "    transcript = YouTubeTranscriptApi.get_transcript(_id)\n",
        "    script = \"\"\n",
        "\n",
        "    for text in transcript:\n",
        "        t = text[\"text\"]\n",
        "        if t != '[Music]':\n",
        "            script += t + \" \"\n",
        "\n",
        "    return script\n",
        "\n",
        "transcriber = gr.Interface(generate_transcript, 'text', 'text')\n",
        "summarizer = gr.Interface.load(\"huggingface/sshleifer/distilbart-cnn-12-6\")\n",
        "\n",
        "gradio_ui = Series(transcriber, summarizer,\n",
        "                  inputs = gr.inputs.Textbox(label = \"Enter the YouTube URL below:\"),\n",
        "                  outputs = gr.outputs.Textbox(label = \"Transcript Summary\"),\n",
        "                  examples = [\"https://www.youtube.com/watch?v=Cu3R5it4cQs&list\", \"https://www.youtube.com/watch?v=HB4I2CgkcCo\"],\n",
        "                  title = \"YouTube Transcript Summarizer\",\n",
        "                  theme = \"peach\",\n",
        "                  description = \"This application uses the sshleifer/distilbart-cnn-12-6 model to summarize a short YouTube video that has English subtitles. For it to work, the input URL must follow the format similar to the given examples, specifically having the video's ID at the end. Examples are videos from GCFLearnFree.org YouTube Channel.\"\n",
        "                   )\n",
        "\n",
        "gradio_ui.launch()"
      ],
      "metadata": {
        "id": "rbMZxnXXXsok"
      },
      "execution_count": null,
      "outputs": []
    },
    {
      "cell_type": "code",
      "source": [
        "import matplotlib.pyplot as plt"
      ],
      "metadata": {
        "id": "96UWLbryZ3zo"
      },
      "execution_count": null,
      "outputs": []
    },
    {
      "cell_type": "code",
      "source": [
        "indices=[i for i in range(11)]\n",
        "rouge1=[0.15,0.389,0.388,0.4257,0.4206,0.4252,0.4228,0.4165,0.4282,0.4249,0.4220]\n",
        "rouge2=[0.15,0.1746,0.1710,0.191256,0.187484,0.1897,0.1854,0.1792,0.1873,0.1830,0.1817]\n",
        "rougeL=[0.15,0.2852,0.2866,0.3036,0.3055,0.3060,0.3113,0.3082,0.3096,0.3113,0.3082]\n",
        "precision=[0.15,0.8786,0.8754,0.8762,0.8774,0.8783,0.8749,0.8752,0.8770,0.8752,0.8748]\n",
        "recall=[0.15,0.8866,0.8862,0.8962,0.8961,0.8966,0.8983,0.8973,0.8987,0.8977,0.8978]\n",
        "f1=[0.15,0.8825,0.8806,0.8860,0.8865,0.8873,0.8864,0.8860,0.8876,0.8862,0.8860]\n",
        "def plotGraph(rouge1,rouge2,rougeL,precision,recall,f1):\n",
        "  plt.plot(indices, rouge1, label = \"rouge1\")\n",
        "  plt.plot(indices, rouge2, label = \"rouge2\")\n",
        "  plt.plot(indices, rougeL, label = \"rougeL\")\n",
        "  plt.plot(indices, precision, label = \"precision\")\n",
        "  plt.plot(indices, recall, label = \"recall\")\n",
        "  plt.plot(indices, f1, label = \"f1-score\")\n",
        "  # plt.xlim(0,20)\n",
        "  plt.ylim(0.15,0.95)\n",
        "  plt.xlabel('epoch')\n",
        "  plt.ylabel('score')\n",
        "  plt.title('ROUGE and Bert score')\n",
        "  # plt.legend([\"rouge1\", \"rouge2\",\"rougeL\",\"precision\",\"recall\",\"f1-score\"], loc =\"right\",ncol=2)\n",
        "  # plt.legend(bbox_to_anchor =(0.87, -0.2),loc=\"upper right\", ncol = 1)\n",
        "  plt.legend(bbox_to_anchor=(1.28,1.03), loc='upper right')\n",
        "\n",
        "  plt.savefig('score')"
      ],
      "metadata": {
        "id": "IlswsiQCpgmy"
      },
      "execution_count": null,
      "outputs": []
    },
    {
      "cell_type": "code",
      "source": [
        "plotGraph(rouge1,rouge2,rougeL,precision,recall,f1)"
      ],
      "metadata": {
        "colab": {
          "base_uri": "https://localhost:8080/",
          "height": 295
        },
        "id": "0RtWDexNaYPe",
        "outputId": "7cf461b9-7261-4c6c-f477-58feabbb824a"
      },
      "execution_count": null,
      "outputs": [
        {
          "output_type": "display_data",
          "data": {
            "text/plain": [
              "<Figure size 432x288 with 1 Axes>"
            ],
            "image/png": "[encoded data removed]"
          },
          "metadata": {
            "needs_background": "light"
          }
        }
      ]
    }
  ],
  "metadata": {
    "colab": {
      "provenance": []
    },
    "gpuClass": "standard",
    "kernelspec": {
      "display_name": "Python 3",
      "language": "python",
      "name": "python3"
    },
    "language_info": {
      "codemirror_mode": {
        "name": "ipython",
        "version": 3
      },
      "file_extension": ".py",
      "mimetype": "text/x-python",
      "name": "python",
      "nbconvert_exporter": "python",
      "pygments_lexer": "ipython3",
      "version": "3.7.6"
    },
    "varInspector": {
      "cols": {
        "lenName": 16,
        "lenType": 16,
        "lenVar": 40
      },
      "kernels_config": {
        "python": {
          "delete_cmd_postfix": "",
          "delete_cmd_prefix": "del ",
          "library": "var_list.py",
          "varRefreshCmd": "print(var_dic_list())"
        },
        "r": {
          "delete_cmd_postfix": ") ",
          "delete_cmd_prefix": "rm(",
          "library": "var_list.r",
          "varRefreshCmd": "cat(var_dic_list()) "
        }
      },
      "types_to_exclude": [
        "module",
        "function",
        "builtin_function_or_method",
        "instance",
        "_Feature"
      ],
      "window_display": false
    },
    "accelerator": "GPU",
    "widgets": {
      "application/vnd.jupyter.widget-state+json": {
        "189d8d13a1fc455987f959235a4f11f4": {
          "model_module": "@jupyter-widgets/controls",
          "model_name": "HBoxModel",
          "model_module_version": "1.5.0",
          "state": {
            "_dom_classes": [],
            "_model_module": "@jupyter-widgets/controls",
            "_model_module_version": "1.5.0",
            "_model_name": "HBoxModel",
            "_view_count": null,
            "_view_module": "@jupyter-widgets/controls",
            "_view_module_version": "1.5.0",
            "_view_name": "HBoxView",
            "box_style": "",
            "children": [
              "IPY_MODEL_239f3b480f7e487cac440e8b10ef0d8c",
              "IPY_MODEL_16c4694f60ed4a0e9a1b50b3cc103f54",
              "IPY_MODEL_16fbd2c6879946178188f929217e2e5f"
            ],
            "layout": "IPY_MODEL_d7a2eb26ee964557bbe72b78d74c2074"
          }
        },
        "239f3b480f7e487cac440e8b10ef0d8c": {
          "model_module": "@jupyter-widgets/controls",
          "model_name": "HTMLModel",
          "model_module_version": "1.5.0",
          "state": {
            "_dom_classes": [],
            "_model_module": "@jupyter-widgets/controls",
            "_model_module_version": "1.5.0",
            "_model_name": "HTMLModel",
            "_view_count": null,
            "_view_module": "@jupyter-widgets/controls",
            "_view_module_version": "1.5.0",
            "_view_name": "HTMLView",
            "description": "",
            "description_tooltip": null,
            "layout": "IPY_MODEL_0081ec227102487fbc23177d0092eaf2",
            "placeholder": "​",
            "style": "IPY_MODEL_99ee595dbefb4eb59c91fc93e36a4b38",
            "value": "Downloading builder script: "
          }
        },
        "16c4694f60ed4a0e9a1b50b3cc103f54": {
          "model_module": "@jupyter-widgets/controls",
          "model_name": "FloatProgressModel",
          "model_module_version": "1.5.0",
          "state": {
            "_dom_classes": [],
            "_model_module": "@jupyter-widgets/controls",
            "_model_module_version": "1.5.0",
            "_model_name": "FloatProgressModel",
            "_view_count": null,
            "_view_module": "@jupyter-widgets/controls",
            "_view_module_version": "1.5.0",
            "_view_name": "ProgressView",
            "bar_style": "success",
            "description": "",
            "description_tooltip": null,
            "layout": "IPY_MODEL_cc42073f36104fa791490ac0c1f59c72",
            "max": 1715,
            "min": 0,
            "orientation": "horizontal",
            "style": "IPY_MODEL_414f7ca58b4e4eff9f22571b5dfc9b78",
            "value": 1715
          }
        },
        "16fbd2c6879946178188f929217e2e5f": {
          "model_module": "@jupyter-widgets/controls",
          "model_name": "HTMLModel",
          "model_module_version": "1.5.0",
          "state": {
            "_dom_classes": [],
            "_model_module": "@jupyter-widgets/controls",
            "_model_module_version": "1.5.0",
            "_model_name": "HTMLModel",
            "_view_count": null,
            "_view_module": "@jupyter-widgets/controls",
            "_view_module_version": "1.5.0",
            "_view_name": "HTMLView",
            "description": "",
            "description_tooltip": null,
            "layout": "IPY_MODEL_b7e76446b6ad4f02ae75c34847e83c27",
            "placeholder": "​",
            "style": "IPY_MODEL_a414e99b20614e0f983c7c4e68d7b9d9",
            "value": " 4.50k/? [00:00&lt;00:00, 64.3kB/s]"
          }
        },
        "d7a2eb26ee964557bbe72b78d74c2074": {
          "model_module": "@jupyter-widgets/base",
          "model_name": "LayoutModel",
          "model_module_version": "1.2.0",
          "state": {
            "_model_module": "@jupyter-widgets/base",
            "_model_module_version": "1.2.0",
            "_model_name": "LayoutModel",
            "_view_count": null,
            "_view_module": "@jupyter-widgets/base",
            "_view_module_version": "1.2.0",
            "_view_name": "LayoutView",
            "align_content": null,
            "align_items": null,
            "align_self": null,
            "border": null,
            "bottom": null,
            "display": null,
            "flex": null,
            "flex_flow": null,
            "grid_area": null,
            "grid_auto_columns": null,
            "grid_auto_flow": null,
            "grid_auto_rows": null,
            "grid_column": null,
            "grid_gap": null,
            "grid_row": null,
            "grid_template_areas": null,
            "grid_template_columns": null,
            "grid_template_rows": null,
            "height": null,
            "justify_content": null,
            "justify_items": null,
            "left": null,
            "margin": null,
            "max_height": null,
            "max_width": null,
            "min_height": null,
            "min_width": null,
            "object_fit": null,
            "object_position": null,
            "order": null,
            "overflow": null,
            "overflow_x": null,
            "overflow_y": null,
            "padding": null,
            "right": null,
            "top": null,
            "visibility": null,
            "width": null
          }
        },
        "0081ec227102487fbc23177d0092eaf2": {
          "model_module": "@jupyter-widgets/base",
          "model_name": "LayoutModel",
          "model_module_version": "1.2.0",
          "state": {
            "_model_module": "@jupyter-widgets/base",
            "_model_module_version": "1.2.0",
            "_model_name": "LayoutModel",
            "_view_count": null,
            "_view_module": "@jupyter-widgets/base",
            "_view_module_version": "1.2.0",
            "_view_name": "LayoutView",
            "align_content": null,
            "align_items": null,
            "align_self": null,
            "border": null,
            "bottom": null,
            "display": null,
            "flex": null,
            "flex_flow": null,
            "grid_area": null,
            "grid_auto_columns": null,
            "grid_auto_flow": null,
            "grid_auto_rows": null,
            "grid_column": null,
            "grid_gap": null,
            "grid_row": null,
            "grid_template_areas": null,
            "grid_template_columns": null,
            "grid_template_rows": null,
            "height": null,
            "justify_content": null,
            "justify_items": null,
            "left": null,
            "margin": null,
            "max_height": null,
            "max_width": null,
            "min_height": null,
            "min_width": null,
            "object_fit": null,
            "object_position": null,
            "order": null,
            "overflow": null,
            "overflow_x": null,
            "overflow_y": null,
            "padding": null,
            "right": null,
            "top": null,
            "visibility": null,
            "width": null
          }
        },
        "99ee595dbefb4eb59c91fc93e36a4b38": {
          "model_module": "@jupyter-widgets/controls",
          "model_name": "DescriptionStyleModel",
          "model_module_version": "1.5.0",
          "state": {
            "_model_module": "@jupyter-widgets/controls",
            "_model_module_version": "1.5.0",
            "_model_name": "DescriptionStyleModel",
            "_view_count": null,
            "_view_module": "@jupyter-widgets/base",
            "_view_module_version": "1.2.0",
            "_view_name": "StyleView",
            "description_width": ""
          }
        },
        "cc42073f36104fa791490ac0c1f59c72": {
          "model_module": "@jupyter-widgets/base",
          "model_name": "LayoutModel",
          "model_module_version": "1.2.0",
          "state": {
            "_model_module": "@jupyter-widgets/base",
            "_model_module_version": "1.2.0",
            "_model_name": "LayoutModel",
            "_view_count": null,
            "_view_module": "@jupyter-widgets/base",
            "_view_module_version": "1.2.0",
            "_view_name": "LayoutView",
            "align_content": null,
            "align_items": null,
            "align_self": null,
            "border": null,
            "bottom": null,
            "display": null,
            "flex": null,
            "flex_flow": null,
            "grid_area": null,
            "grid_auto_columns": null,
            "grid_auto_flow": null,
            "grid_auto_rows": null,
            "grid_column": null,
            "grid_gap": null,
            "grid_row": null,
            "grid_template_areas": null,
            "grid_template_columns": null,
            "grid_template_rows": null,
            "height": null,
            "justify_content": null,
            "justify_items": null,
            "left": null,
            "margin": null,
            "max_height": null,
            "max_width": null,
            "min_height": null,
            "min_width": null,
            "object_fit": null,
            "object_position": null,
            "order": null,
            "overflow": null,
            "overflow_x": null,
            "overflow_y": null,
            "padding": null,
            "right": null,
            "top": null,
            "visibility": null,
            "width": null
          }
        },
        "414f7ca58b4e4eff9f22571b5dfc9b78": {
          "model_module": "@jupyter-widgets/controls",
          "model_name": "ProgressStyleModel",
          "model_module_version": "1.5.0",
          "state": {
            "_model_module": "@jupyter-widgets/controls",
            "_model_module_version": "1.5.0",
            "_model_name": "ProgressStyleModel",
            "_view_count": null,
            "_view_module": "@jupyter-widgets/base",
            "_view_module_version": "1.2.0",
            "_view_name": "StyleView",
            "bar_color": null,
            "description_width": ""
          }
        },
        "b7e76446b6ad4f02ae75c34847e83c27": {
          "model_module": "@jupyter-widgets/base",
          "model_name": "LayoutModel",
          "model_module_version": "1.2.0",
          "state": {
            "_model_module": "@jupyter-widgets/base",
            "_model_module_version": "1.2.0",
            "_model_name": "LayoutModel",
            "_view_count": null,
            "_view_module": "@jupyter-widgets/base",
            "_view_module_version": "1.2.0",
            "_view_name": "LayoutView",
            "align_content": null,
            "align_items": null,
            "align_self": null,
            "border": null,
            "bottom": null,
            "display": null,
            "flex": null,
            "flex_flow": null,
            "grid_area": null,
            "grid_auto_columns": null,
            "grid_auto_flow": null,
            "grid_auto_rows": null,
            "grid_column": null,
            "grid_gap": null,
            "grid_row": null,
            "grid_template_areas": null,
            "grid_template_columns": null,
            "grid_template_rows": null,
            "height": null,
            "justify_content": null,
            "justify_items": null,
            "left": null,
            "margin": null,
            "max_height": null,
            "max_width": null,
            "min_height": null,
            "min_width": null,
            "object_fit": null,
            "object_position": null,
            "order": null,
            "overflow": null,
            "overflow_x": null,
            "overflow_y": null,
            "padding": null,
            "right": null,
            "top": null,
            "visibility": null,
            "width": null
          }
        },
        "a414e99b20614e0f983c7c4e68d7b9d9": {
          "model_module": "@jupyter-widgets/controls",
          "model_name": "DescriptionStyleModel",
          "model_module_version": "1.5.0",
          "state": {
            "_model_module": "@jupyter-widgets/controls",
            "_model_module_version": "1.5.0",
            "_model_name": "DescriptionStyleModel",
            "_view_count": null,
            "_view_module": "@jupyter-widgets/base",
            "_view_module_version": "1.2.0",
            "_view_name": "StyleView",
            "description_width": ""
          }
        },
        "58e0f91d6c82403699c1cd95a58d29cb": {
          "model_module": "@jupyter-widgets/controls",
          "model_name": "HBoxModel",
          "model_module_version": "1.5.0",
          "state": {
            "_dom_classes": [],
            "_model_module": "@jupyter-widgets/controls",
            "_model_module_version": "1.5.0",
            "_model_name": "HBoxModel",
            "_view_count": null,
            "_view_module": "@jupyter-widgets/controls",
            "_view_module_version": "1.5.0",
            "_view_name": "HBoxView",
            "box_style": "",
            "children": [
              "IPY_MODEL_e37a12ff90364fe48aa73fb035df4db8",
              "IPY_MODEL_a12c40e0f6ab4fb2bdb1b9125541222f",
              "IPY_MODEL_58558b4c19d54bb2a497d10d8139fe08"
            ],
            "layout": "IPY_MODEL_c2a2a89cacff4978a113eec8a809b5e6"
          }
        },
        "e37a12ff90364fe48aa73fb035df4db8": {
          "model_module": "@jupyter-widgets/controls",
          "model_name": "HTMLModel",
          "model_module_version": "1.5.0",
          "state": {
            "_dom_classes": [],
            "_model_module": "@jupyter-widgets/controls",
            "_model_module_version": "1.5.0",
            "_model_name": "HTMLModel",
            "_view_count": null,
            "_view_module": "@jupyter-widgets/controls",
            "_view_module_version": "1.5.0",
            "_view_name": "HTMLView",
            "description": "",
            "description_tooltip": null,
            "layout": "IPY_MODEL_a3d3444e608a4ebb831710525aafd36b",
            "placeholder": "​",
            "style": "IPY_MODEL_cc41c529ca314218a5be5763991d07ea",
            "value": "Downloading extra modules: "
          }
        },
        "a12c40e0f6ab4fb2bdb1b9125541222f": {
          "model_module": "@jupyter-widgets/controls",
          "model_name": "FloatProgressModel",
          "model_module_version": "1.5.0",
          "state": {
            "_dom_classes": [],
            "_model_module": "@jupyter-widgets/controls",
            "_model_module_version": "1.5.0",
            "_model_name": "FloatProgressModel",
            "_view_count": null,
            "_view_module": "@jupyter-widgets/controls",
            "_view_module_version": "1.5.0",
            "_view_name": "ProgressView",
            "bar_style": "success",
            "description": "",
            "description_tooltip": null,
            "layout": "IPY_MODEL_c522ed8dcede492e9463b5c856b91e8b",
            "max": 1119,
            "min": 0,
            "orientation": "horizontal",
            "style": "IPY_MODEL_87ff6f4825db47ed94377fc9d4beb230",
            "value": 1119
          }
        },
        "58558b4c19d54bb2a497d10d8139fe08": {
          "model_module": "@jupyter-widgets/controls",
          "model_name": "HTMLModel",
          "model_module_version": "1.5.0",
          "state": {
            "_dom_classes": [],
            "_model_module": "@jupyter-widgets/controls",
            "_model_module_version": "1.5.0",
            "_model_name": "HTMLModel",
            "_view_count": null,
            "_view_module": "@jupyter-widgets/controls",
            "_view_module_version": "1.5.0",
            "_view_name": "HTMLView",
            "description": "",
            "description_tooltip": null,
            "layout": "IPY_MODEL_23e44a18e1fc47e284762a2f8a354e68",
            "placeholder": "​",
            "style": "IPY_MODEL_f9e1e4b976bc449a8915957ef4206008",
            "value": " 3.31k/? [00:00&lt;00:00, 43.5kB/s]"
          }
        },
        "c2a2a89cacff4978a113eec8a809b5e6": {
          "model_module": "@jupyter-widgets/base",
          "model_name": "LayoutModel",
          "model_module_version": "1.2.0",
          "state": {
            "_model_module": "@jupyter-widgets/base",
            "_model_module_version": "1.2.0",
            "_model_name": "LayoutModel",
            "_view_count": null,
            "_view_module": "@jupyter-widgets/base",
            "_view_module_version": "1.2.0",
            "_view_name": "LayoutView",
            "align_content": null,
            "align_items": null,
            "align_self": null,
            "border": null,
            "bottom": null,
            "display": null,
            "flex": null,
            "flex_flow": null,
            "grid_area": null,
            "grid_auto_columns": null,
            "grid_auto_flow": null,
            "grid_auto_rows": null,
            "grid_column": null,
            "grid_gap": null,
            "grid_row": null,
            "grid_template_areas": null,
            "grid_template_columns": null,
            "grid_template_rows": null,
            "height": null,
            "justify_content": null,
            "justify_items": null,
            "left": null,
            "margin": null,
            "max_height": null,
            "max_width": null,
            "min_height": null,
            "min_width": null,
            "object_fit": null,
            "object_position": null,
            "order": null,
            "overflow": null,
            "overflow_x": null,
            "overflow_y": null,
            "padding": null,
            "right": null,
            "top": null,
            "visibility": null,
            "width": null
          }
        },
        "a3d3444e608a4ebb831710525aafd36b": {
          "model_module": "@jupyter-widgets/base",
          "model_name": "LayoutModel",
          "model_module_version": "1.2.0",
          "state": {
            "_model_module": "@jupyter-widgets/base",
            "_model_module_version": "1.2.0",
            "_model_name": "LayoutModel",
            "_view_count": null,
            "_view_module": "@jupyter-widgets/base",
            "_view_module_version": "1.2.0",
            "_view_name": "LayoutView",
            "align_content": null,
            "align_items": null,
            "align_self": null,
            "border": null,
            "bottom": null,
            "display": null,
            "flex": null,
            "flex_flow": null,
            "grid_area": null,
            "grid_auto_columns": null,
            "grid_auto_flow": null,
            "grid_auto_rows": null,
            "grid_column": null,
            "grid_gap": null,
            "grid_row": null,
            "grid_template_areas": null,
            "grid_template_columns": null,
            "grid_template_rows": null,
            "height": null,
            "justify_content": null,
            "justify_items": null,
            "left": null,
            "margin": null,
            "max_height": null,
            "max_width": null,
            "min_height": null,
            "min_width": null,
            "object_fit": null,
            "object_position": null,
            "order": null,
            "overflow": null,
            "overflow_x": null,
            "overflow_y": null,
            "padding": null,
            "right": null,
            "top": null,
            "visibility": null,
            "width": null
          }
        },
        "cc41c529ca314218a5be5763991d07ea": {
          "model_module": "@jupyter-widgets/controls",
          "model_name": "DescriptionStyleModel",
          "model_module_version": "1.5.0",
          "state": {
            "_model_module": "@jupyter-widgets/controls",
            "_model_module_version": "1.5.0",
            "_model_name": "DescriptionStyleModel",
            "_view_count": null,
            "_view_module": "@jupyter-widgets/base",
            "_view_module_version": "1.2.0",
            "_view_name": "StyleView",
            "description_width": ""
          }
        },
        "c522ed8dcede492e9463b5c856b91e8b": {
          "model_module": "@jupyter-widgets/base",
          "model_name": "LayoutModel",
          "model_module_version": "1.2.0",
          "state": {
            "_model_module": "@jupyter-widgets/base",
            "_model_module_version": "1.2.0",
            "_model_name": "LayoutModel",
            "_view_count": null,
            "_view_module": "@jupyter-widgets/base",
            "_view_module_version": "1.2.0",
            "_view_name": "LayoutView",
            "align_content": null,
            "align_items": null,
            "align_self": null,
            "border": null,
            "bottom": null,
            "display": null,
            "flex": null,
            "flex_flow": null,
            "grid_area": null,
            "grid_auto_columns": null,
            "grid_auto_flow": null,
            "grid_auto_rows": null,
            "grid_column": null,
            "grid_gap": null,
            "grid_row": null,
            "grid_template_areas": null,
            "grid_template_columns": null,
            "grid_template_rows": null,
            "height": null,
            "justify_content": null,
            "justify_items": null,
            "left": null,
            "margin": null,
            "max_height": null,
            "max_width": null,
            "min_height": null,
            "min_width": null,
            "object_fit": null,
            "object_position": null,
            "order": null,
            "overflow": null,
            "overflow_x": null,
            "overflow_y": null,
            "padding": null,
            "right": null,
            "top": null,
            "visibility": null,
            "width": null
          }
        },
        "87ff6f4825db47ed94377fc9d4beb230": {
          "model_module": "@jupyter-widgets/controls",
          "model_name": "ProgressStyleModel",
          "model_module_version": "1.5.0",
          "state": {
            "_model_module": "@jupyter-widgets/controls",
            "_model_module_version": "1.5.0",
            "_model_name": "ProgressStyleModel",
            "_view_count": null,
            "_view_module": "@jupyter-widgets/base",
            "_view_module_version": "1.2.0",
            "_view_name": "StyleView",
            "bar_color": null,
            "description_width": ""
          }
        },
        "23e44a18e1fc47e284762a2f8a354e68": {
          "model_module": "@jupyter-widgets/base",
          "model_name": "LayoutModel",
          "model_module_version": "1.2.0",
          "state": {
            "_model_module": "@jupyter-widgets/base",
            "_model_module_version": "1.2.0",
            "_model_name": "LayoutModel",
            "_view_count": null,
            "_view_module": "@jupyter-widgets/base",
            "_view_module_version": "1.2.0",
            "_view_name": "LayoutView",
            "align_content": null,
            "align_items": null,
            "align_self": null,
            "border": null,
            "bottom": null,
            "display": null,
            "flex": null,
            "flex_flow": null,
            "grid_area": null,
            "grid_auto_columns": null,
            "grid_auto_flow": null,
            "grid_auto_rows": null,
            "grid_column": null,
            "grid_gap": null,
            "grid_row": null,
            "grid_template_areas": null,
            "grid_template_columns": null,
            "grid_template_rows": null,
            "height": null,
            "justify_content": null,
            "justify_items": null,
            "left": null,
            "margin": null,
            "max_height": null,
            "max_width": null,
            "min_height": null,
            "min_width": null,
            "object_fit": null,
            "object_position": null,
            "order": null,
            "overflow": null,
            "overflow_x": null,
            "overflow_y": null,
            "padding": null,
            "right": null,
            "top": null,
            "visibility": null,
            "width": null
          }
        },
        "f9e1e4b976bc449a8915957ef4206008": {
          "model_module": "@jupyter-widgets/controls",
          "model_name": "DescriptionStyleModel",
          "model_module_version": "1.5.0",
          "state": {
            "_model_module": "@jupyter-widgets/controls",
            "_model_module_version": "1.5.0",
            "_model_name": "DescriptionStyleModel",
            "_view_count": null,
            "_view_module": "@jupyter-widgets/base",
            "_view_module_version": "1.2.0",
            "_view_name": "StyleView",
            "description_width": ""
          }
        },
        "286b043dbb824cd8929d8c70dd740380": {
          "model_module": "@jupyter-widgets/controls",
          "model_name": "HBoxModel",
          "model_module_version": "1.5.0",
          "state": {
            "_dom_classes": [],
            "_model_module": "@jupyter-widgets/controls",
            "_model_module_version": "1.5.0",
            "_model_name": "HBoxModel",
            "_view_count": null,
            "_view_module": "@jupyter-widgets/controls",
            "_view_module_version": "1.5.0",
            "_view_name": "HBoxView",
            "box_style": "",
            "children": [
              "IPY_MODEL_6b063334cae540c59de6a48e03d7eb1b",
              "IPY_MODEL_299f2f64160b47e181609e9c21a598f1",
              "IPY_MODEL_782c842c1fc04690837fc20c54b7af5c"
            ],
            "layout": "IPY_MODEL_9e4b59b796c9432eab9a608f75dbf2a9"
          }
        },
        "6b063334cae540c59de6a48e03d7eb1b": {
          "model_module": "@jupyter-widgets/controls",
          "model_name": "HTMLModel",
          "model_module_version": "1.5.0",
          "state": {
            "_dom_classes": [],
            "_model_module": "@jupyter-widgets/controls",
            "_model_module_version": "1.5.0",
            "_model_name": "HTMLModel",
            "_view_count": null,
            "_view_module": "@jupyter-widgets/controls",
            "_view_module_version": "1.5.0",
            "_view_name": "HTMLView",
            "description": "",
            "description_tooltip": null,
            "layout": "IPY_MODEL_73624f498543451590a25ced9910b113",
            "placeholder": "​",
            "style": "IPY_MODEL_eb5a01d8ed8d4f32bdb50fb6caaf82da",
            "value": "Downloading config.json: 100%"
          }
        },
        "299f2f64160b47e181609e9c21a598f1": {
          "model_module": "@jupyter-widgets/controls",
          "model_name": "FloatProgressModel",
          "model_module_version": "1.5.0",
          "state": {
            "_dom_classes": [],
            "_model_module": "@jupyter-widgets/controls",
            "_model_module_version": "1.5.0",
            "_model_name": "FloatProgressModel",
            "_view_count": null,
            "_view_module": "@jupyter-widgets/controls",
            "_view_module_version": "1.5.0",
            "_view_name": "ProgressView",
            "bar_style": "success",
            "description": "",
            "description_tooltip": null,
            "layout": "IPY_MODEL_a1e6a7a5196144a59189caef95c04533",
            "max": 1585,
            "min": 0,
            "orientation": "horizontal",
            "style": "IPY_MODEL_f257847c32644611b2d1762736f3022f",
            "value": 1585
          }
        },
        "782c842c1fc04690837fc20c54b7af5c": {
          "model_module": "@jupyter-widgets/controls",
          "model_name": "HTMLModel",
          "model_module_version": "1.5.0",
          "state": {
            "_dom_classes": [],
            "_model_module": "@jupyter-widgets/controls",
            "_model_module_version": "1.5.0",
            "_model_name": "HTMLModel",
            "_view_count": null,
            "_view_module": "@jupyter-widgets/controls",
            "_view_module_version": "1.5.0",
            "_view_name": "HTMLView",
            "description": "",
            "description_tooltip": null,
            "layout": "IPY_MODEL_346a146526404c1ea1eeafd040753a59",
            "placeholder": "​",
            "style": "IPY_MODEL_d937cd035e0c418e971e31ab15bf1b89",
            "value": " 1.55k/1.55k [00:00&lt;00:00, 36.8kB/s]"
          }
        },
        "9e4b59b796c9432eab9a608f75dbf2a9": {
          "model_module": "@jupyter-widgets/base",
          "model_name": "LayoutModel",
          "model_module_version": "1.2.0",
          "state": {
            "_model_module": "@jupyter-widgets/base",
            "_model_module_version": "1.2.0",
            "_model_name": "LayoutModel",
            "_view_count": null,
            "_view_module": "@jupyter-widgets/base",
            "_view_module_version": "1.2.0",
            "_view_name": "LayoutView",
            "align_content": null,
            "align_items": null,
            "align_self": null,
            "border": null,
            "bottom": null,
            "display": null,
            "flex": null,
            "flex_flow": null,
            "grid_area": null,
            "grid_auto_columns": null,
            "grid_auto_flow": null,
            "grid_auto_rows": null,
            "grid_column": null,
            "grid_gap": null,
            "grid_row": null,
            "grid_template_areas": null,
            "grid_template_columns": null,
            "grid_template_rows": null,
            "height": null,
            "justify_content": null,
            "justify_items": null,
            "left": null,
            "margin": null,
            "max_height": null,
            "max_width": null,
            "min_height": null,
            "min_width": null,
            "object_fit": null,
            "object_position": null,
            "order": null,
            "overflow": null,
            "overflow_x": null,
            "overflow_y": null,
            "padding": null,
            "right": null,
            "top": null,
            "visibility": null,
            "width": null
          }
        },
        "73624f498543451590a25ced9910b113": {
          "model_module": "@jupyter-widgets/base",
          "model_name": "LayoutModel",
          "model_module_version": "1.2.0",
          "state": {
            "_model_module": "@jupyter-widgets/base",
            "_model_module_version": "1.2.0",
            "_model_name": "LayoutModel",
            "_view_count": null,
            "_view_module": "@jupyter-widgets/base",
            "_view_module_version": "1.2.0",
            "_view_name": "LayoutView",
            "align_content": null,
            "align_items": null,
            "align_self": null,
            "border": null,
            "bottom": null,
            "display": null,
            "flex": null,
            "flex_flow": null,
            "grid_area": null,
            "grid_auto_columns": null,
            "grid_auto_flow": null,
            "grid_auto_rows": null,
            "grid_column": null,
            "grid_gap": null,
            "grid_row": null,
            "grid_template_areas": null,
            "grid_template_columns": null,
            "grid_template_rows": null,
            "height": null,
            "justify_content": null,
            "justify_items": null,
            "left": null,
            "margin": null,
            "max_height": null,
            "max_width": null,
            "min_height": null,
            "min_width": null,
            "object_fit": null,
            "object_position": null,
            "order": null,
            "overflow": null,
            "overflow_x": null,
            "overflow_y": null,
            "padding": null,
            "right": null,
            "top": null,
            "visibility": null,
            "width": null
          }
        },
        "eb5a01d8ed8d4f32bdb50fb6caaf82da": {
          "model_module": "@jupyter-widgets/controls",
          "model_name": "DescriptionStyleModel",
          "model_module_version": "1.5.0",
          "state": {
            "_model_module": "@jupyter-widgets/controls",
            "_model_module_version": "1.5.0",
            "_model_name": "DescriptionStyleModel",
            "_view_count": null,
            "_view_module": "@jupyter-widgets/base",
            "_view_module_version": "1.2.0",
            "_view_name": "StyleView",
            "description_width": ""
          }
        },
        "a1e6a7a5196144a59189caef95c04533": {
          "model_module": "@jupyter-widgets/base",
          "model_name": "LayoutModel",
          "model_module_version": "1.2.0",
          "state": {
            "_model_module": "@jupyter-widgets/base",
            "_model_module_version": "1.2.0",
            "_model_name": "LayoutModel",
            "_view_count": null,
            "_view_module": "@jupyter-widgets/base",
            "_view_module_version": "1.2.0",
            "_view_name": "LayoutView",
            "align_content": null,
            "align_items": null,
            "align_self": null,
            "border": null,
            "bottom": null,
            "display": null,
            "flex": null,
            "flex_flow": null,
            "grid_area": null,
            "grid_auto_columns": null,
            "grid_auto_flow": null,
            "grid_auto_rows": null,
            "grid_column": null,
            "grid_gap": null,
            "grid_row": null,
            "grid_template_areas": null,
            "grid_template_columns": null,
            "grid_template_rows": null,
            "height": null,
            "justify_content": null,
            "justify_items": null,
            "left": null,
            "margin": null,
            "max_height": null,
            "max_width": null,
            "min_height": null,
            "min_width": null,
            "object_fit": null,
            "object_position": null,
            "order": null,
            "overflow": null,
            "overflow_x": null,
            "overflow_y": null,
            "padding": null,
            "right": null,
            "top": null,
            "visibility": null,
            "width": null
          }
        },
        "f257847c32644611b2d1762736f3022f": {
          "model_module": "@jupyter-widgets/controls",
          "model_name": "ProgressStyleModel",
          "model_module_version": "1.5.0",
          "state": {
            "_model_module": "@jupyter-widgets/controls",
            "_model_module_version": "1.5.0",
            "_model_name": "ProgressStyleModel",
            "_view_count": null,
            "_view_module": "@jupyter-widgets/base",
            "_view_module_version": "1.2.0",
            "_view_name": "StyleView",
            "bar_color": null,
            "description_width": ""
          }
        },
        "346a146526404c1ea1eeafd040753a59": {
          "model_module": "@jupyter-widgets/base",
          "model_name": "LayoutModel",
          "model_module_version": "1.2.0",
          "state": {
            "_model_module": "@jupyter-widgets/base",
            "_model_module_version": "1.2.0",
            "_model_name": "LayoutModel",
            "_view_count": null,
            "_view_module": "@jupyter-widgets/base",
            "_view_module_version": "1.2.0",
            "_view_name": "LayoutView",
            "align_content": null,
            "align_items": null,
            "align_self": null,
            "border": null,
            "bottom": null,
            "display": null,
            "flex": null,
            "flex_flow": null,
            "grid_area": null,
            "grid_auto_columns": null,
            "grid_auto_flow": null,
            "grid_auto_rows": null,
            "grid_column": null,
            "grid_gap": null,
            "grid_row": null,
            "grid_template_areas": null,
            "grid_template_columns": null,
            "grid_template_rows": null,
            "height": null,
            "justify_content": null,
            "justify_items": null,
            "left": null,
            "margin": null,
            "max_height": null,
            "max_width": null,
            "min_height": null,
            "min_width": null,
            "object_fit": null,
            "object_position": null,
            "order": null,
            "overflow": null,
            "overflow_x": null,
            "overflow_y": null,
            "padding": null,
            "right": null,
            "top": null,
            "visibility": null,
            "width": null
          }
        },
        "d937cd035e0c418e971e31ab15bf1b89": {
          "model_module": "@jupyter-widgets/controls",
          "model_name": "DescriptionStyleModel",
          "model_module_version": "1.5.0",
          "state": {
            "_model_module": "@jupyter-widgets/controls",
            "_model_module_version": "1.5.0",
            "_model_name": "DescriptionStyleModel",
            "_view_count": null,
            "_view_module": "@jupyter-widgets/base",
            "_view_module_version": "1.2.0",
            "_view_name": "StyleView",
            "description_width": ""
          }
        },
        "cb9aa0a107564279a74d087fc63c46f8": {
          "model_module": "@jupyter-widgets/controls",
          "model_name": "HBoxModel",
          "model_module_version": "1.5.0",
          "state": {
            "_dom_classes": [],
            "_model_module": "@jupyter-widgets/controls",
            "_model_module_version": "1.5.0",
            "_model_name": "HBoxModel",
            "_view_count": null,
            "_view_module": "@jupyter-widgets/controls",
            "_view_module_version": "1.5.0",
            "_view_name": "HBoxView",
            "box_style": "",
            "children": [
              "IPY_MODEL_430ddd308c2b45b09b8bb18be449ab8e",
              "IPY_MODEL_4da9ed39cb5b43248adf319a4028845f",
              "IPY_MODEL_6d5239111bef4daa9a7217911d34db5a"
            ],
            "layout": "IPY_MODEL_05339dfb184749fc8a078beaa17ad396"
          }
        },
        "430ddd308c2b45b09b8bb18be449ab8e": {
          "model_module": "@jupyter-widgets/controls",
          "model_name": "HTMLModel",
          "model_module_version": "1.5.0",
          "state": {
            "_dom_classes": [],
            "_model_module": "@jupyter-widgets/controls",
            "_model_module_version": "1.5.0",
            "_model_name": "HTMLModel",
            "_view_count": null,
            "_view_module": "@jupyter-widgets/controls",
            "_view_module_version": "1.5.0",
            "_view_name": "HTMLView",
            "description": "",
            "description_tooltip": null,
            "layout": "IPY_MODEL_2fbf9b80fe2245dbb8a678adafa6347f",
            "placeholder": "​",
            "style": "IPY_MODEL_a44d081179d34d1da611491c87f76e89",
            "value": "Downloading vocab.json: 100%"
          }
        },
        "4da9ed39cb5b43248adf319a4028845f": {
          "model_module": "@jupyter-widgets/controls",
          "model_name": "FloatProgressModel",
          "model_module_version": "1.5.0",
          "state": {
            "_dom_classes": [],
            "_model_module": "@jupyter-widgets/controls",
            "_model_module_version": "1.5.0",
            "_model_name": "FloatProgressModel",
            "_view_count": null,
            "_view_module": "@jupyter-widgets/controls",
            "_view_module_version": "1.5.0",
            "_view_name": "ProgressView",
            "bar_style": "success",
            "description": "",
            "description_tooltip": null,
            "layout": "IPY_MODEL_4aee0586926d4e7e8253a8545df490a5",
            "max": 898823,
            "min": 0,
            "orientation": "horizontal",
            "style": "IPY_MODEL_825764a96f3a41ef9708d39e149b3066",
            "value": 898823
          }
        },
        "6d5239111bef4daa9a7217911d34db5a": {
          "model_module": "@jupyter-widgets/controls",
          "model_name": "HTMLModel",
          "model_module_version": "1.5.0",
          "state": {
            "_dom_classes": [],
            "_model_module": "@jupyter-widgets/controls",
            "_model_module_version": "1.5.0",
            "_model_name": "HTMLModel",
            "_view_count": null,
            "_view_module": "@jupyter-widgets/controls",
            "_view_module_version": "1.5.0",
            "_view_name": "HTMLView",
            "description": "",
            "description_tooltip": null,
            "layout": "IPY_MODEL_292afa7f7baa431d9ff4ea9500b84803",
            "placeholder": "​",
            "style": "IPY_MODEL_ac261de1251a410a8635d63672a7a51d",
            "value": " 878k/878k [00:00&lt;00:00, 3.04MB/s]"
          }
        },
        "05339dfb184749fc8a078beaa17ad396": {
          "model_module": "@jupyter-widgets/base",
          "model_name": "LayoutModel",
          "model_module_version": "1.2.0",
          "state": {
            "_model_module": "@jupyter-widgets/base",
            "_model_module_version": "1.2.0",
            "_model_name": "LayoutModel",
            "_view_count": null,
            "_view_module": "@jupyter-widgets/base",
            "_view_module_version": "1.2.0",
            "_view_name": "LayoutView",
            "align_content": null,
            "align_items": null,
            "align_self": null,
            "border": null,
            "bottom": null,
            "display": null,
            "flex": null,
            "flex_flow": null,
            "grid_area": null,
            "grid_auto_columns": null,
            "grid_auto_flow": null,
            "grid_auto_rows": null,
            "grid_column": null,
            "grid_gap": null,
            "grid_row": null,
            "grid_template_areas": null,
            "grid_template_columns": null,
            "grid_template_rows": null,
            "height": null,
            "justify_content": null,
            "justify_items": null,
            "left": null,
            "margin": null,
            "max_height": null,
            "max_width": null,
            "min_height": null,
            "min_width": null,
            "object_fit": null,
            "object_position": null,
            "order": null,
            "overflow": null,
            "overflow_x": null,
            "overflow_y": null,
            "padding": null,
            "right": null,
            "top": null,
            "visibility": null,
            "width": null
          }
        },
        "2fbf9b80fe2245dbb8a678adafa6347f": {
          "model_module": "@jupyter-widgets/base",
          "model_name": "LayoutModel",
          "model_module_version": "1.2.0",
          "state": {
            "_model_module": "@jupyter-widgets/base",
            "_model_module_version": "1.2.0",
            "_model_name": "LayoutModel",
            "_view_count": null,
            "_view_module": "@jupyter-widgets/base",
            "_view_module_version": "1.2.0",
            "_view_name": "LayoutView",
            "align_content": null,
            "align_items": null,
            "align_self": null,
            "border": null,
            "bottom": null,
            "display": null,
            "flex": null,
            "flex_flow": null,
            "grid_area": null,
            "grid_auto_columns": null,
            "grid_auto_flow": null,
            "grid_auto_rows": null,
            "grid_column": null,
            "grid_gap": null,
            "grid_row": null,
            "grid_template_areas": null,
            "grid_template_columns": null,
            "grid_template_rows": null,
            "height": null,
            "justify_content": null,
            "justify_items": null,
            "left": null,
            "margin": null,
            "max_height": null,
            "max_width": null,
            "min_height": null,
            "min_width": null,
            "object_fit": null,
            "object_position": null,
            "order": null,
            "overflow": null,
            "overflow_x": null,
            "overflow_y": null,
            "padding": null,
            "right": null,
            "top": null,
            "visibility": null,
            "width": null
          }
        },
        "a44d081179d34d1da611491c87f76e89": {
          "model_module": "@jupyter-widgets/controls",
          "model_name": "DescriptionStyleModel",
          "model_module_version": "1.5.0",
          "state": {
            "_model_module": "@jupyter-widgets/controls",
            "_model_module_version": "1.5.0",
            "_model_name": "DescriptionStyleModel",
            "_view_count": null,
            "_view_module": "@jupyter-widgets/base",
            "_view_module_version": "1.2.0",
            "_view_name": "StyleView",
            "description_width": ""
          }
        },
        "4aee0586926d4e7e8253a8545df490a5": {
          "model_module": "@jupyter-widgets/base",
          "model_name": "LayoutModel",
          "model_module_version": "1.2.0",
          "state": {
            "_model_module": "@jupyter-widgets/base",
            "_model_module_version": "1.2.0",
            "_model_name": "LayoutModel",
            "_view_count": null,
            "_view_module": "@jupyter-widgets/base",
            "_view_module_version": "1.2.0",
            "_view_name": "LayoutView",
            "align_content": null,
            "align_items": null,
            "align_self": null,
            "border": null,
            "bottom": null,
            "display": null,
            "flex": null,
            "flex_flow": null,
            "grid_area": null,
            "grid_auto_columns": null,
            "grid_auto_flow": null,
            "grid_auto_rows": null,
            "grid_column": null,
            "grid_gap": null,
            "grid_row": null,
            "grid_template_areas": null,
            "grid_template_columns": null,
            "grid_template_rows": null,
            "height": null,
            "justify_content": null,
            "justify_items": null,
            "left": null,
            "margin": null,
            "max_height": null,
            "max_width": null,
            "min_height": null,
            "min_width": null,
            "object_fit": null,
            "object_position": null,
            "order": null,
            "overflow": null,
            "overflow_x": null,
            "overflow_y": null,
            "padding": null,
            "right": null,
            "top": null,
            "visibility": null,
            "width": null
          }
        },
        "825764a96f3a41ef9708d39e149b3066": {
          "model_module": "@jupyter-widgets/controls",
          "model_name": "ProgressStyleModel",
          "model_module_version": "1.5.0",
          "state": {
            "_model_module": "@jupyter-widgets/controls",
            "_model_module_version": "1.5.0",
            "_model_name": "ProgressStyleModel",
            "_view_count": null,
            "_view_module": "@jupyter-widgets/base",
            "_view_module_version": "1.2.0",
            "_view_name": "StyleView",
            "bar_color": null,
            "description_width": ""
          }
        },
        "292afa7f7baa431d9ff4ea9500b84803": {
          "model_module": "@jupyter-widgets/base",
          "model_name": "LayoutModel",
          "model_module_version": "1.2.0",
          "state": {
            "_model_module": "@jupyter-widgets/base",
            "_model_module_version": "1.2.0",
            "_model_name": "LayoutModel",
            "_view_count": null,
            "_view_module": "@jupyter-widgets/base",
            "_view_module_version": "1.2.0",
            "_view_name": "LayoutView",
            "align_content": null,
            "align_items": null,
            "align_self": null,
            "border": null,
            "bottom": null,
            "display": null,
            "flex": null,
            "flex_flow": null,
            "grid_area": null,
            "grid_auto_columns": null,
            "grid_auto_flow": null,
            "grid_auto_rows": null,
            "grid_column": null,
            "grid_gap": null,
            "grid_row": null,
            "grid_template_areas": null,
            "grid_template_columns": null,
            "grid_template_rows": null,
            "height": null,
            "justify_content": null,
            "justify_items": null,
            "left": null,
            "margin": null,
            "max_height": null,
            "max_width": null,
            "min_height": null,
            "min_width": null,
            "object_fit": null,
            "object_position": null,
            "order": null,
            "overflow": null,
            "overflow_x": null,
            "overflow_y": null,
            "padding": null,
            "right": null,
            "top": null,
            "visibility": null,
            "width": null
          }
        },
        "ac261de1251a410a8635d63672a7a51d": {
          "model_module": "@jupyter-widgets/controls",
          "model_name": "DescriptionStyleModel",
          "model_module_version": "1.5.0",
          "state": {
            "_model_module": "@jupyter-widgets/controls",
            "_model_module_version": "1.5.0",
            "_model_name": "DescriptionStyleModel",
            "_view_count": null,
            "_view_module": "@jupyter-widgets/base",
            "_view_module_version": "1.2.0",
            "_view_name": "StyleView",
            "description_width": ""
          }
        },
        "8d1b43a7436d49729bc66deb541b98ac": {
          "model_module": "@jupyter-widgets/controls",
          "model_name": "HBoxModel",
          "model_module_version": "1.5.0",
          "state": {
            "_dom_classes": [],
            "_model_module": "@jupyter-widgets/controls",
            "_model_module_version": "1.5.0",
            "_model_name": "HBoxModel",
            "_view_count": null,
            "_view_module": "@jupyter-widgets/controls",
            "_view_module_version": "1.5.0",
            "_view_name": "HBoxView",
            "box_style": "",
            "children": [
              "IPY_MODEL_1ac7c116f652464ea2c0868833485800",
              "IPY_MODEL_3767fb1d1d9c458d8d3513cbbc64d01c",
              "IPY_MODEL_fbe208890acc4924a295745677263569"
            ],
            "layout": "IPY_MODEL_555c8cd4302740eba876afacd0d3f49d"
          }
        },
        "1ac7c116f652464ea2c0868833485800": {
          "model_module": "@jupyter-widgets/controls",
          "model_name": "HTMLModel",
          "model_module_version": "1.5.0",
          "state": {
            "_dom_classes": [],
            "_model_module": "@jupyter-widgets/controls",
            "_model_module_version": "1.5.0",
            "_model_name": "HTMLModel",
            "_view_count": null,
            "_view_module": "@jupyter-widgets/controls",
            "_view_module_version": "1.5.0",
            "_view_name": "HTMLView",
            "description": "",
            "description_tooltip": null,
            "layout": "IPY_MODEL_2610862229654e43afc16d200361b3ad",
            "placeholder": "​",
            "style": "IPY_MODEL_fab972d8712a4550b617ac2f72ef8ad6",
            "value": "Downloading merges.txt: 100%"
          }
        },
        "3767fb1d1d9c458d8d3513cbbc64d01c": {
          "model_module": "@jupyter-widgets/controls",
          "model_name": "FloatProgressModel",
          "model_module_version": "1.5.0",
          "state": {
            "_dom_classes": [],
            "_model_module": "@jupyter-widgets/controls",
            "_model_module_version": "1.5.0",
            "_model_name": "FloatProgressModel",
            "_view_count": null,
            "_view_module": "@jupyter-widgets/controls",
            "_view_module_version": "1.5.0",
            "_view_name": "ProgressView",
            "bar_style": "success",
            "description": "",
            "description_tooltip": null,
            "layout": "IPY_MODEL_e03f1eac34bb49f0b412d1d855f171b7",
            "max": 456318,
            "min": 0,
            "orientation": "horizontal",
            "style": "IPY_MODEL_8f3baa9bfe714670ab01ae3c762813cd",
            "value": 456318
          }
        },
        "fbe208890acc4924a295745677263569": {
          "model_module": "@jupyter-widgets/controls",
          "model_name": "HTMLModel",
          "model_module_version": "1.5.0",
          "state": {
            "_dom_classes": [],
            "_model_module": "@jupyter-widgets/controls",
            "_model_module_version": "1.5.0",
            "_model_name": "HTMLModel",
            "_view_count": null,
            "_view_module": "@jupyter-widgets/controls",
            "_view_module_version": "1.5.0",
            "_view_name": "HTMLView",
            "description": "",
            "description_tooltip": null,
            "layout": "IPY_MODEL_0a2b78f22673431eaf95b18f860ef0ac",
            "placeholder": "​",
            "style": "IPY_MODEL_0ede8c7a47764f3a9756ee6177b3e181",
            "value": " 446k/446k [00:00&lt;00:00, 920kB/s]"
          }
        },
        "555c8cd4302740eba876afacd0d3f49d": {
          "model_module": "@jupyter-widgets/base",
          "model_name": "LayoutModel",
          "model_module_version": "1.2.0",
          "state": {
            "_model_module": "@jupyter-widgets/base",
            "_model_module_version": "1.2.0",
            "_model_name": "LayoutModel",
            "_view_count": null,
            "_view_module": "@jupyter-widgets/base",
            "_view_module_version": "1.2.0",
            "_view_name": "LayoutView",
            "align_content": null,
            "align_items": null,
            "align_self": null,
            "border": null,
            "bottom": null,
            "display": null,
            "flex": null,
            "flex_flow": null,
            "grid_area": null,
            "grid_auto_columns": null,
            "grid_auto_flow": null,
            "grid_auto_rows": null,
            "grid_column": null,
            "grid_gap": null,
            "grid_row": null,
            "grid_template_areas": null,
            "grid_template_columns": null,
            "grid_template_rows": null,
            "height": null,
            "justify_content": null,
            "justify_items": null,
            "left": null,
            "margin": null,
            "max_height": null,
            "max_width": null,
            "min_height": null,
            "min_width": null,
            "object_fit": null,
            "object_position": null,
            "order": null,
            "overflow": null,
            "overflow_x": null,
            "overflow_y": null,
            "padding": null,
            "right": null,
            "top": null,
            "visibility": null,
            "width": null
          }
        },
        "2610862229654e43afc16d200361b3ad": {
          "model_module": "@jupyter-widgets/base",
          "model_name": "LayoutModel",
          "model_module_version": "1.2.0",
          "state": {
            "_model_module": "@jupyter-widgets/base",
            "_model_module_version": "1.2.0",
            "_model_name": "LayoutModel",
            "_view_count": null,
            "_view_module": "@jupyter-widgets/base",
            "_view_module_version": "1.2.0",
            "_view_name": "LayoutView",
            "align_content": null,
            "align_items": null,
            "align_self": null,
            "border": null,
            "bottom": null,
            "display": null,
            "flex": null,
            "flex_flow": null,
            "grid_area": null,
            "grid_auto_columns": null,
            "grid_auto_flow": null,
            "grid_auto_rows": null,
            "grid_column": null,
            "grid_gap": null,
            "grid_row": null,
            "grid_template_areas": null,
            "grid_template_columns": null,
            "grid_template_rows": null,
            "height": null,
            "justify_content": null,
            "justify_items": null,
            "left": null,
            "margin": null,
            "max_height": null,
            "max_width": null,
            "min_height": null,
            "min_width": null,
            "object_fit": null,
            "object_position": null,
            "order": null,
            "overflow": null,
            "overflow_x": null,
            "overflow_y": null,
            "padding": null,
            "right": null,
            "top": null,
            "visibility": null,
            "width": null
          }
        },
        "fab972d8712a4550b617ac2f72ef8ad6": {
          "model_module": "@jupyter-widgets/controls",
          "model_name": "DescriptionStyleModel",
          "model_module_version": "1.5.0",
          "state": {
            "_model_module": "@jupyter-widgets/controls",
            "_model_module_version": "1.5.0",
            "_model_name": "DescriptionStyleModel",
            "_view_count": null,
            "_view_module": "@jupyter-widgets/base",
            "_view_module_version": "1.2.0",
            "_view_name": "StyleView",
            "description_width": ""
          }
        },
        "e03f1eac34bb49f0b412d1d855f171b7": {
          "model_module": "@jupyter-widgets/base",
          "model_name": "LayoutModel",
          "model_module_version": "1.2.0",
          "state": {
            "_model_module": "@jupyter-widgets/base",
            "_model_module_version": "1.2.0",
            "_model_name": "LayoutModel",
            "_view_count": null,
            "_view_module": "@jupyter-widgets/base",
            "_view_module_version": "1.2.0",
            "_view_name": "LayoutView",
            "align_content": null,
            "align_items": null,
            "align_self": null,
            "border": null,
            "bottom": null,
            "display": null,
            "flex": null,
            "flex_flow": null,
            "grid_area": null,
            "grid_auto_columns": null,
            "grid_auto_flow": null,
            "grid_auto_rows": null,
            "grid_column": null,
            "grid_gap": null,
            "grid_row": null,
            "grid_template_areas": null,
            "grid_template_columns": null,
            "grid_template_rows": null,
            "height": null,
            "justify_content": null,
            "justify_items": null,
            "left": null,
            "margin": null,
            "max_height": null,
            "max_width": null,
            "min_height": null,
            "min_width": null,
            "object_fit": null,
            "object_position": null,
            "order": null,
            "overflow": null,
            "overflow_x": null,
            "overflow_y": null,
            "padding": null,
            "right": null,
            "top": null,
            "visibility": null,
            "width": null
          }
        },
        "8f3baa9bfe714670ab01ae3c762813cd": {
          "model_module": "@jupyter-widgets/controls",
          "model_name": "ProgressStyleModel",
          "model_module_version": "1.5.0",
          "state": {
            "_model_module": "@jupyter-widgets/controls",
            "_model_module_version": "1.5.0",
            "_model_name": "ProgressStyleModel",
            "_view_count": null,
            "_view_module": "@jupyter-widgets/base",
            "_view_module_version": "1.2.0",
            "_view_name": "StyleView",
            "bar_color": null,
            "description_width": ""
          }
        },
        "0a2b78f22673431eaf95b18f860ef0ac": {
          "model_module": "@jupyter-widgets/base",
          "model_name": "LayoutModel",
          "model_module_version": "1.2.0",
          "state": {
            "_model_module": "@jupyter-widgets/base",
            "_model_module_version": "1.2.0",
            "_model_name": "LayoutModel",
            "_view_count": null,
            "_view_module": "@jupyter-widgets/base",
            "_view_module_version": "1.2.0",
            "_view_name": "LayoutView",
            "align_content": null,
            "align_items": null,
            "align_self": null,
            "border": null,
            "bottom": null,
            "display": null,
            "flex": null,
            "flex_flow": null,
            "grid_area": null,
            "grid_auto_columns": null,
            "grid_auto_flow": null,
            "grid_auto_rows": null,
            "grid_column": null,
            "grid_gap": null,
            "grid_row": null,
            "grid_template_areas": null,
            "grid_template_columns": null,
            "grid_template_rows": null,
            "height": null,
            "justify_content": null,
            "justify_items": null,
            "left": null,
            "margin": null,
            "max_height": null,
            "max_width": null,
            "min_height": null,
            "min_width": null,
            "object_fit": null,
            "object_position": null,
            "order": null,
            "overflow": null,
            "overflow_x": null,
            "overflow_y": null,
            "padding": null,
            "right": null,
            "top": null,
            "visibility": null,
            "width": null
          }
        },
        "0ede8c7a47764f3a9756ee6177b3e181": {
          "model_module": "@jupyter-widgets/controls",
          "model_name": "DescriptionStyleModel",
          "model_module_version": "1.5.0",
          "state": {
            "_model_module": "@jupyter-widgets/controls",
            "_model_module_version": "1.5.0",
            "_model_name": "DescriptionStyleModel",
            "_view_count": null,
            "_view_module": "@jupyter-widgets/base",
            "_view_module_version": "1.2.0",
            "_view_name": "StyleView",
            "description_width": ""
          }
        },
        "e7937857f3084fe0b93b97f00025c4cb": {
          "model_module": "@jupyter-widgets/controls",
          "model_name": "HBoxModel",
          "model_module_version": "1.5.0",
          "state": {
            "_dom_classes": [],
            "_model_module": "@jupyter-widgets/controls",
            "_model_module_version": "1.5.0",
            "_model_name": "HBoxModel",
            "_view_count": null,
            "_view_module": "@jupyter-widgets/controls",
            "_view_module_version": "1.5.0",
            "_view_name": "HBoxView",
            "box_style": "",
            "children": [
              "IPY_MODEL_d85bb54f81e144f58772e2820a892075",
              "IPY_MODEL_788765559f2d4fbaabbf6b14e8fa0ee5",
              "IPY_MODEL_e51ab6364fbb4773a6dc3a0bebbae279"
            ],
            "layout": "IPY_MODEL_867ca0ba46e54564a0f6465aa18183e0"
          }
        },
        "d85bb54f81e144f58772e2820a892075": {
          "model_module": "@jupyter-widgets/controls",
          "model_name": "HTMLModel",
          "model_module_version": "1.5.0",
          "state": {
            "_dom_classes": [],
            "_model_module": "@jupyter-widgets/controls",
            "_model_module_version": "1.5.0",
            "_model_name": "HTMLModel",
            "_view_count": null,
            "_view_module": "@jupyter-widgets/controls",
            "_view_module_version": "1.5.0",
            "_view_name": "HTMLView",
            "description": "",
            "description_tooltip": null,
            "layout": "IPY_MODEL_5c5ed32b63cf491aa872b000dbdaf1b3",
            "placeholder": "​",
            "style": "IPY_MODEL_478d8c28e0904a45a8e76288754e0bcc",
            "value": "Downloading tokenizer.json: 100%"
          }
        },
        "788765559f2d4fbaabbf6b14e8fa0ee5": {
          "model_module": "@jupyter-widgets/controls",
          "model_name": "FloatProgressModel",
          "model_module_version": "1.5.0",
          "state": {
            "_dom_classes": [],
            "_model_module": "@jupyter-widgets/controls",
            "_model_module_version": "1.5.0",
            "_model_name": "FloatProgressModel",
            "_view_count": null,
            "_view_module": "@jupyter-widgets/controls",
            "_view_module_version": "1.5.0",
            "_view_name": "ProgressView",
            "bar_style": "success",
            "description": "",
            "description_tooltip": null,
            "layout": "IPY_MODEL_37690231253f442d845a5904f1447bde",
            "max": 1355863,
            "min": 0,
            "orientation": "horizontal",
            "style": "IPY_MODEL_3e5aef5b417b4436ae687de517f37a56",
            "value": 1355863
          }
        },
        "e51ab6364fbb4773a6dc3a0bebbae279": {
          "model_module": "@jupyter-widgets/controls",
          "model_name": "HTMLModel",
          "model_module_version": "1.5.0",
          "state": {
            "_dom_classes": [],
            "_model_module": "@jupyter-widgets/controls",
            "_model_module_version": "1.5.0",
            "_model_name": "HTMLModel",
            "_view_count": null,
            "_view_module": "@jupyter-widgets/controls",
            "_view_module_version": "1.5.0",
            "_view_name": "HTMLView",
            "description": "",
            "description_tooltip": null,
            "layout": "IPY_MODEL_09f8981fcb8d4c209e4e920c6cf527df",
            "placeholder": "​",
            "style": "IPY_MODEL_db861b3c24d847278ddfe32009b34aae",
            "value": " 1.29M/1.29M [00:00&lt;00:00, 3.18MB/s]"
          }
        },
        "867ca0ba46e54564a0f6465aa18183e0": {
          "model_module": "@jupyter-widgets/base",
          "model_name": "LayoutModel",
          "model_module_version": "1.2.0",
          "state": {
            "_model_module": "@jupyter-widgets/base",
            "_model_module_version": "1.2.0",
            "_model_name": "LayoutModel",
            "_view_count": null,
            "_view_module": "@jupyter-widgets/base",
            "_view_module_version": "1.2.0",
            "_view_name": "LayoutView",
            "align_content": null,
            "align_items": null,
            "align_self": null,
            "border": null,
            "bottom": null,
            "display": null,
            "flex": null,
            "flex_flow": null,
            "grid_area": null,
            "grid_auto_columns": null,
            "grid_auto_flow": null,
            "grid_auto_rows": null,
            "grid_column": null,
            "grid_gap": null,
            "grid_row": null,
            "grid_template_areas": null,
            "grid_template_columns": null,
            "grid_template_rows": null,
            "height": null,
            "justify_content": null,
            "justify_items": null,
            "left": null,
            "margin": null,
            "max_height": null,
            "max_width": null,
            "min_height": null,
            "min_width": null,
            "object_fit": null,
            "object_position": null,
            "order": null,
            "overflow": null,
            "overflow_x": null,
            "overflow_y": null,
            "padding": null,
            "right": null,
            "top": null,
            "visibility": null,
            "width": null
          }
        },
        "5c5ed32b63cf491aa872b000dbdaf1b3": {
          "model_module": "@jupyter-widgets/base",
          "model_name": "LayoutModel",
          "model_module_version": "1.2.0",
          "state": {
            "_model_module": "@jupyter-widgets/base",
            "_model_module_version": "1.2.0",
            "_model_name": "LayoutModel",
            "_view_count": null,
            "_view_module": "@jupyter-widgets/base",
            "_view_module_version": "1.2.0",
            "_view_name": "LayoutView",
            "align_content": null,
            "align_items": null,
            "align_self": null,
            "border": null,
            "bottom": null,
            "display": null,
            "flex": null,
            "flex_flow": null,
            "grid_area": null,
            "grid_auto_columns": null,
            "grid_auto_flow": null,
            "grid_auto_rows": null,
            "grid_column": null,
            "grid_gap": null,
            "grid_row": null,
            "grid_template_areas": null,
            "grid_template_columns": null,
            "grid_template_rows": null,
            "height": null,
            "justify_content": null,
            "justify_items": null,
            "left": null,
            "margin": null,
            "max_height": null,
            "max_width": null,
            "min_height": null,
            "min_width": null,
            "object_fit": null,
            "object_position": null,
            "order": null,
            "overflow": null,
            "overflow_x": null,
            "overflow_y": null,
            "padding": null,
            "right": null,
            "top": null,
            "visibility": null,
            "width": null
          }
        },
        "478d8c28e0904a45a8e76288754e0bcc": {
          "model_module": "@jupyter-widgets/controls",
          "model_name": "DescriptionStyleModel",
          "model_module_version": "1.5.0",
          "state": {
            "_model_module": "@jupyter-widgets/controls",
            "_model_module_version": "1.5.0",
            "_model_name": "DescriptionStyleModel",
            "_view_count": null,
            "_view_module": "@jupyter-widgets/base",
            "_view_module_version": "1.2.0",
            "_view_name": "StyleView",
            "description_width": ""
          }
        },
        "37690231253f442d845a5904f1447bde": {
          "model_module": "@jupyter-widgets/base",
          "model_name": "LayoutModel",
          "model_module_version": "1.2.0",
          "state": {
            "_model_module": "@jupyter-widgets/base",
            "_model_module_version": "1.2.0",
            "_model_name": "LayoutModel",
            "_view_count": null,
            "_view_module": "@jupyter-widgets/base",
            "_view_module_version": "1.2.0",
            "_view_name": "LayoutView",
            "align_content": null,
            "align_items": null,
            "align_self": null,
            "border": null,
            "bottom": null,
            "display": null,
            "flex": null,
            "flex_flow": null,
            "grid_area": null,
            "grid_auto_columns": null,
            "grid_auto_flow": null,
            "grid_auto_rows": null,
            "grid_column": null,
            "grid_gap": null,
            "grid_row": null,
            "grid_template_areas": null,
            "grid_template_columns": null,
            "grid_template_rows": null,
            "height": null,
            "justify_content": null,
            "justify_items": null,
            "left": null,
            "margin": null,
            "max_height": null,
            "max_width": null,
            "min_height": null,
            "min_width": null,
            "object_fit": null,
            "object_position": null,
            "order": null,
            "overflow": null,
            "overflow_x": null,
            "overflow_y": null,
            "padding": null,
            "right": null,
            "top": null,
            "visibility": null,
            "width": null
          }
        },
        "3e5aef5b417b4436ae687de517f37a56": {
          "model_module": "@jupyter-widgets/controls",
          "model_name": "ProgressStyleModel",
          "model_module_version": "1.5.0",
          "state": {
            "_model_module": "@jupyter-widgets/controls",
            "_model_module_version": "1.5.0",
            "_model_name": "ProgressStyleModel",
            "_view_count": null,
            "_view_module": "@jupyter-widgets/base",
            "_view_module_version": "1.2.0",
            "_view_name": "StyleView",
            "bar_color": null,
            "description_width": ""
          }
        },
        "09f8981fcb8d4c209e4e920c6cf527df": {
          "model_module": "@jupyter-widgets/base",
          "model_name": "LayoutModel",
          "model_module_version": "1.2.0",
          "state": {
            "_model_module": "@jupyter-widgets/base",
            "_model_module_version": "1.2.0",
            "_model_name": "LayoutModel",
            "_view_count": null,
            "_view_module": "@jupyter-widgets/base",
            "_view_module_version": "1.2.0",
            "_view_name": "LayoutView",
            "align_content": null,
            "align_items": null,
            "align_self": null,
            "border": null,
            "bottom": null,
            "display": null,
            "flex": null,
            "flex_flow": null,
            "grid_area": null,
            "grid_auto_columns": null,
            "grid_auto_flow": null,
            "grid_auto_rows": null,
            "grid_column": null,
            "grid_gap": null,
            "grid_row": null,
            "grid_template_areas": null,
            "grid_template_columns": null,
            "grid_template_rows": null,
            "height": null,
            "justify_content": null,
            "justify_items": null,
            "left": null,
            "margin": null,
            "max_height": null,
            "max_width": null,
            "min_height": null,
            "min_width": null,
            "object_fit": null,
            "object_position": null,
            "order": null,
            "overflow": null,
            "overflow_x": null,
            "overflow_y": null,
            "padding": null,
            "right": null,
            "top": null,
            "visibility": null,
            "width": null
          }
        },
        "db861b3c24d847278ddfe32009b34aae": {
          "model_module": "@jupyter-widgets/controls",
          "model_name": "DescriptionStyleModel",
          "model_module_version": "1.5.0",
          "state": {
            "_model_module": "@jupyter-widgets/controls",
            "_model_module_version": "1.5.0",
            "_model_name": "DescriptionStyleModel",
            "_view_count": null,
            "_view_module": "@jupyter-widgets/base",
            "_view_module_version": "1.2.0",
            "_view_name": "StyleView",
            "description_width": ""
          }
        },
        "a06828cdc0ec44568590ea7d4b1e5d06": {
          "model_module": "@jupyter-widgets/controls",
          "model_name": "HBoxModel",
          "model_module_version": "1.5.0",
          "state": {
            "_dom_classes": [],
            "_model_module": "@jupyter-widgets/controls",
            "_model_module_version": "1.5.0",
            "_model_name": "HBoxModel",
            "_view_count": null,
            "_view_module": "@jupyter-widgets/controls",
            "_view_module_version": "1.5.0",
            "_view_name": "HBoxView",
            "box_style": "",
            "children": [
              "IPY_MODEL_aa2dbe9d2ec7492db9156dfe94c709eb",
              "IPY_MODEL_e6fd0735da2c4e7f86a95390f9df0edd",
              "IPY_MODEL_abdd782151e64cae89710c8258e9e3ca"
            ],
            "layout": "IPY_MODEL_b5ed94c348024789bb448a3e09a932c9"
          }
        },
        "aa2dbe9d2ec7492db9156dfe94c709eb": {
          "model_module": "@jupyter-widgets/controls",
          "model_name": "HTMLModel",
          "model_module_version": "1.5.0",
          "state": {
            "_dom_classes": [],
            "_model_module": "@jupyter-widgets/controls",
            "_model_module_version": "1.5.0",
            "_model_name": "HTMLModel",
            "_view_count": null,
            "_view_module": "@jupyter-widgets/controls",
            "_view_module_version": "1.5.0",
            "_view_name": "HTMLView",
            "description": "",
            "description_tooltip": null,
            "layout": "IPY_MODEL_cd035a6a4f424abab45af8faaf85b3f8",
            "placeholder": "​",
            "style": "IPY_MODEL_e914245ff4fd4f37be11a3e5dad20216",
            "value": "Downloading pytorch_model.bin: 100%"
          }
        },
        "e6fd0735da2c4e7f86a95390f9df0edd": {
          "model_module": "@jupyter-widgets/controls",
          "model_name": "FloatProgressModel",
          "model_module_version": "1.5.0",
          "state": {
            "_dom_classes": [],
            "_model_module": "@jupyter-widgets/controls",
            "_model_module_version": "1.5.0",
            "_model_name": "FloatProgressModel",
            "_view_count": null,
            "_view_module": "@jupyter-widgets/controls",
            "_view_module_version": "1.5.0",
            "_view_name": "ProgressView",
            "bar_style": "success",
            "description": "",
            "description_tooltip": null,
            "layout": "IPY_MODEL_b4f367a64a4d41f3a4057fc50e5e3f2f",
            "max": 1625270765,
            "min": 0,
            "orientation": "horizontal",
            "style": "IPY_MODEL_2e3474fc4ba747c1ad4033b0d79486a8",
            "value": 1625270765
          }
        },
        "abdd782151e64cae89710c8258e9e3ca": {
          "model_module": "@jupyter-widgets/controls",
          "model_name": "HTMLModel",
          "model_module_version": "1.5.0",
          "state": {
            "_dom_classes": [],
            "_model_module": "@jupyter-widgets/controls",
            "_model_module_version": "1.5.0",
            "_model_name": "HTMLModel",
            "_view_count": null,
            "_view_module": "@jupyter-widgets/controls",
            "_view_module_version": "1.5.0",
            "_view_name": "HTMLView",
            "description": "",
            "description_tooltip": null,
            "layout": "IPY_MODEL_d911ce3eb38b496aa2f4c477cfd8a340",
            "placeholder": "​",
            "style": "IPY_MODEL_d54756ae62064410814bb229c76ac81f",
            "value": " 1.51G/1.51G [00:34&lt;00:00, 49.1MB/s]"
          }
        },
        "b5ed94c348024789bb448a3e09a932c9": {
          "model_module": "@jupyter-widgets/base",
          "model_name": "LayoutModel",
          "model_module_version": "1.2.0",
          "state": {
            "_model_module": "@jupyter-widgets/base",
            "_model_module_version": "1.2.0",
            "_model_name": "LayoutModel",
            "_view_count": null,
            "_view_module": "@jupyter-widgets/base",
            "_view_module_version": "1.2.0",
            "_view_name": "LayoutView",
            "align_content": null,
            "align_items": null,
            "align_self": null,
            "border": null,
            "bottom": null,
            "display": null,
            "flex": null,
            "flex_flow": null,
            "grid_area": null,
            "grid_auto_columns": null,
            "grid_auto_flow": null,
            "grid_auto_rows": null,
            "grid_column": null,
            "grid_gap": null,
            "grid_row": null,
            "grid_template_areas": null,
            "grid_template_columns": null,
            "grid_template_rows": null,
            "height": null,
            "justify_content": null,
            "justify_items": null,
            "left": null,
            "margin": null,
            "max_height": null,
            "max_width": null,
            "min_height": null,
            "min_width": null,
            "object_fit": null,
            "object_position": null,
            "order": null,
            "overflow": null,
            "overflow_x": null,
            "overflow_y": null,
            "padding": null,
            "right": null,
            "top": null,
            "visibility": null,
            "width": null
          }
        },
        "cd035a6a4f424abab45af8faaf85b3f8": {
          "model_module": "@jupyter-widgets/base",
          "model_name": "LayoutModel",
          "model_module_version": "1.2.0",
          "state": {
            "_model_module": "@jupyter-widgets/base",
            "_model_module_version": "1.2.0",
            "_model_name": "LayoutModel",
            "_view_count": null,
            "_view_module": "@jupyter-widgets/base",
            "_view_module_version": "1.2.0",
            "_view_name": "LayoutView",
            "align_content": null,
            "align_items": null,
            "align_self": null,
            "border": null,
            "bottom": null,
            "display": null,
            "flex": null,
            "flex_flow": null,
            "grid_area": null,
            "grid_auto_columns": null,
            "grid_auto_flow": null,
            "grid_auto_rows": null,
            "grid_column": null,
            "grid_gap": null,
            "grid_row": null,
            "grid_template_areas": null,
            "grid_template_columns": null,
            "grid_template_rows": null,
            "height": null,
            "justify_content": null,
            "justify_items": null,
            "left": null,
            "margin": null,
            "max_height": null,
            "max_width": null,
            "min_height": null,
            "min_width": null,
            "object_fit": null,
            "object_position": null,
            "order": null,
            "overflow": null,
            "overflow_x": null,
            "overflow_y": null,
            "padding": null,
            "right": null,
            "top": null,
            "visibility": null,
            "width": null
          }
        },
        "e914245ff4fd4f37be11a3e5dad20216": {
          "model_module": "@jupyter-widgets/controls",
          "model_name": "DescriptionStyleModel",
          "model_module_version": "1.5.0",
          "state": {
            "_model_module": "@jupyter-widgets/controls",
            "_model_module_version": "1.5.0",
            "_model_name": "DescriptionStyleModel",
            "_view_count": null,
            "_view_module": "@jupyter-widgets/base",
            "_view_module_version": "1.2.0",
            "_view_name": "StyleView",
            "description_width": ""
          }
        },
        "b4f367a64a4d41f3a4057fc50e5e3f2f": {
          "model_module": "@jupyter-widgets/base",
          "model_name": "LayoutModel",
          "model_module_version": "1.2.0",
          "state": {
            "_model_module": "@jupyter-widgets/base",
            "_model_module_version": "1.2.0",
            "_model_name": "LayoutModel",
            "_view_count": null,
            "_view_module": "@jupyter-widgets/base",
            "_view_module_version": "1.2.0",
            "_view_name": "LayoutView",
            "align_content": null,
            "align_items": null,
            "align_self": null,
            "border": null,
            "bottom": null,
            "display": null,
            "flex": null,
            "flex_flow": null,
            "grid_area": null,
            "grid_auto_columns": null,
            "grid_auto_flow": null,
            "grid_auto_rows": null,
            "grid_column": null,
            "grid_gap": null,
            "grid_row": null,
            "grid_template_areas": null,
            "grid_template_columns": null,
            "grid_template_rows": null,
            "height": null,
            "justify_content": null,
            "justify_items": null,
            "left": null,
            "margin": null,
            "max_height": null,
            "max_width": null,
            "min_height": null,
            "min_width": null,
            "object_fit": null,
            "object_position": null,
            "order": null,
            "overflow": null,
            "overflow_x": null,
            "overflow_y": null,
            "padding": null,
            "right": null,
            "top": null,
            "visibility": null,
            "width": null
          }
        },
        "2e3474fc4ba747c1ad4033b0d79486a8": {
          "model_module": "@jupyter-widgets/controls",
          "model_name": "ProgressStyleModel",
          "model_module_version": "1.5.0",
          "state": {
            "_model_module": "@jupyter-widgets/controls",
            "_model_module_version": "1.5.0",
            "_model_name": "ProgressStyleModel",
            "_view_count": null,
            "_view_module": "@jupyter-widgets/base",
            "_view_module_version": "1.2.0",
            "_view_name": "StyleView",
            "bar_color": null,
            "description_width": ""
          }
        },
        "d911ce3eb38b496aa2f4c477cfd8a340": {
          "model_module": "@jupyter-widgets/base",
          "model_name": "LayoutModel",
          "model_module_version": "1.2.0",
          "state": {
            "_model_module": "@jupyter-widgets/base",
            "_model_module_version": "1.2.0",
            "_model_name": "LayoutModel",
            "_view_count": null,
            "_view_module": "@jupyter-widgets/base",
            "_view_module_version": "1.2.0",
            "_view_name": "LayoutView",
            "align_content": null,
            "align_items": null,
            "align_self": null,
            "border": null,
            "bottom": null,
            "display": null,
            "flex": null,
            "flex_flow": null,
            "grid_area": null,
            "grid_auto_columns": null,
            "grid_auto_flow": null,
            "grid_auto_rows": null,
            "grid_column": null,
            "grid_gap": null,
            "grid_row": null,
            "grid_template_areas": null,
            "grid_template_columns": null,
            "grid_template_rows": null,
            "height": null,
            "justify_content": null,
            "justify_items": null,
            "left": null,
            "margin": null,
            "max_height": null,
            "max_width": null,
            "min_height": null,
            "min_width": null,
            "object_fit": null,
            "object_position": null,
            "order": null,
            "overflow": null,
            "overflow_x": null,
            "overflow_y": null,
            "padding": null,
            "right": null,
            "top": null,
            "visibility": null,
            "width": null
          }
        },
        "d54756ae62064410814bb229c76ac81f": {
          "model_module": "@jupyter-widgets/controls",
          "model_name": "DescriptionStyleModel",
          "model_module_version": "1.5.0",
          "state": {
            "_model_module": "@jupyter-widgets/controls",
            "_model_module_version": "1.5.0",
            "_model_name": "DescriptionStyleModel",
            "_view_count": null,
            "_view_module": "@jupyter-widgets/base",
            "_view_module_version": "1.2.0",
            "_view_name": "StyleView",
            "description_width": ""
          }
        },
        "3c0702b16b8e44059455178b5f5cb8d9": {
          "model_module": "@jupyter-widgets/controls",
          "model_name": "HBoxModel",
          "model_module_version": "1.5.0",
          "state": {
            "_dom_classes": [],
            "_model_module": "@jupyter-widgets/controls",
            "_model_module_version": "1.5.0",
            "_model_name": "HBoxModel",
            "_view_count": null,
            "_view_module": "@jupyter-widgets/controls",
            "_view_module_version": "1.5.0",
            "_view_name": "HBoxView",
            "box_style": "",
            "children": [
              "IPY_MODEL_88516e410f5c494b95fb14e5a16e7988",
              "IPY_MODEL_9a7487d7898b4bca996bb479debf89bb",
              "IPY_MODEL_8dca31a4148740a9ba8f3b3dfb1e80be"
            ],
            "layout": "IPY_MODEL_0968f6d6ad6b4a0bbf8ae9529866dfef"
          }
        },
        "88516e410f5c494b95fb14e5a16e7988": {
          "model_module": "@jupyter-widgets/controls",
          "model_name": "HTMLModel",
          "model_module_version": "1.5.0",
          "state": {
            "_dom_classes": [],
            "_model_module": "@jupyter-widgets/controls",
            "_model_module_version": "1.5.0",
            "_model_name": "HTMLModel",
            "_view_count": null,
            "_view_module": "@jupyter-widgets/controls",
            "_view_module_version": "1.5.0",
            "_view_name": "HTMLView",
            "description": "",
            "description_tooltip": null,
            "layout": "IPY_MODEL_9480cf38e76e46a2be598aa2fec4a808",
            "placeholder": "​",
            "style": "IPY_MODEL_421528bfa80a4d59bc1f653e47645f3f",
            "value": "Downloading builder script: "
          }
        },
        "9a7487d7898b4bca996bb479debf89bb": {
          "model_module": "@jupyter-widgets/controls",
          "model_name": "FloatProgressModel",
          "model_module_version": "1.5.0",
          "state": {
            "_dom_classes": [],
            "_model_module": "@jupyter-widgets/controls",
            "_model_module_version": "1.5.0",
            "_model_name": "FloatProgressModel",
            "_view_count": null,
            "_view_module": "@jupyter-widgets/controls",
            "_view_module_version": "1.5.0",
            "_view_name": "ProgressView",
            "bar_style": "success",
            "description": "",
            "description_tooltip": null,
            "layout": "IPY_MODEL_42b7e32233f640ac9d555ceba4339867",
            "max": 2160,
            "min": 0,
            "orientation": "horizontal",
            "style": "IPY_MODEL_1299b39079e64b5581d298b23bac7f4c",
            "value": 2160
          }
        },
        "8dca31a4148740a9ba8f3b3dfb1e80be": {
          "model_module": "@jupyter-widgets/controls",
          "model_name": "HTMLModel",
          "model_module_version": "1.5.0",
          "state": {
            "_dom_classes": [],
            "_model_module": "@jupyter-widgets/controls",
            "_model_module_version": "1.5.0",
            "_model_name": "HTMLModel",
            "_view_count": null,
            "_view_module": "@jupyter-widgets/controls",
            "_view_module_version": "1.5.0",
            "_view_name": "HTMLView",
            "description": "",
            "description_tooltip": null,
            "layout": "IPY_MODEL_6125b31f2a8d41c5870600a96519d75c",
            "placeholder": "​",
            "style": "IPY_MODEL_0e0e1791c78e4851b183ecacfe09fb61",
            "value": " 5.60k/? [00:00&lt;00:00, 134kB/s]"
          }
        },
        "0968f6d6ad6b4a0bbf8ae9529866dfef": {
          "model_module": "@jupyter-widgets/base",
          "model_name": "LayoutModel",
          "model_module_version": "1.2.0",
          "state": {
            "_model_module": "@jupyter-widgets/base",
            "_model_module_version": "1.2.0",
            "_model_name": "LayoutModel",
            "_view_count": null,
            "_view_module": "@jupyter-widgets/base",
            "_view_module_version": "1.2.0",
            "_view_name": "LayoutView",
            "align_content": null,
            "align_items": null,
            "align_self": null,
            "border": null,
            "bottom": null,
            "display": null,
            "flex": null,
            "flex_flow": null,
            "grid_area": null,
            "grid_auto_columns": null,
            "grid_auto_flow": null,
            "grid_auto_rows": null,
            "grid_column": null,
            "grid_gap": null,
            "grid_row": null,
            "grid_template_areas": null,
            "grid_template_columns": null,
            "grid_template_rows": null,
            "height": null,
            "justify_content": null,
            "justify_items": null,
            "left": null,
            "margin": null,
            "max_height": null,
            "max_width": null,
            "min_height": null,
            "min_width": null,
            "object_fit": null,
            "object_position": null,
            "order": null,
            "overflow": null,
            "overflow_x": null,
            "overflow_y": null,
            "padding": null,
            "right": null,
            "top": null,
            "visibility": null,
            "width": null
          }
        },
        "9480cf38e76e46a2be598aa2fec4a808": {
          "model_module": "@jupyter-widgets/base",
          "model_name": "LayoutModel",
          "model_module_version": "1.2.0",
          "state": {
            "_model_module": "@jupyter-widgets/base",
            "_model_module_version": "1.2.0",
            "_model_name": "LayoutModel",
            "_view_count": null,
            "_view_module": "@jupyter-widgets/base",
            "_view_module_version": "1.2.0",
            "_view_name": "LayoutView",
            "align_content": null,
            "align_items": null,
            "align_self": null,
            "border": null,
            "bottom": null,
            "display": null,
            "flex": null,
            "flex_flow": null,
            "grid_area": null,
            "grid_auto_columns": null,
            "grid_auto_flow": null,
            "grid_auto_rows": null,
            "grid_column": null,
            "grid_gap": null,
            "grid_row": null,
            "grid_template_areas": null,
            "grid_template_columns": null,
            "grid_template_rows": null,
            "height": null,
            "justify_content": null,
            "justify_items": null,
            "left": null,
            "margin": null,
            "max_height": null,
            "max_width": null,
            "min_height": null,
            "min_width": null,
            "object_fit": null,
            "object_position": null,
            "order": null,
            "overflow": null,
            "overflow_x": null,
            "overflow_y": null,
            "padding": null,
            "right": null,
            "top": null,
            "visibility": null,
            "width": null
          }
        },
        "421528bfa80a4d59bc1f653e47645f3f": {
          "model_module": "@jupyter-widgets/controls",
          "model_name": "DescriptionStyleModel",
          "model_module_version": "1.5.0",
          "state": {
            "_model_module": "@jupyter-widgets/controls",
            "_model_module_version": "1.5.0",
            "_model_name": "DescriptionStyleModel",
            "_view_count": null,
            "_view_module": "@jupyter-widgets/base",
            "_view_module_version": "1.2.0",
            "_view_name": "StyleView",
            "description_width": ""
          }
        },
        "42b7e32233f640ac9d555ceba4339867": {
          "model_module": "@jupyter-widgets/base",
          "model_name": "LayoutModel",
          "model_module_version": "1.2.0",
          "state": {
            "_model_module": "@jupyter-widgets/base",
            "_model_module_version": "1.2.0",
            "_model_name": "LayoutModel",
            "_view_count": null,
            "_view_module": "@jupyter-widgets/base",
            "_view_module_version": "1.2.0",
            "_view_name": "LayoutView",
            "align_content": null,
            "align_items": null,
            "align_self": null,
            "border": null,
            "bottom": null,
            "display": null,
            "flex": null,
            "flex_flow": null,
            "grid_area": null,
            "grid_auto_columns": null,
            "grid_auto_flow": null,
            "grid_auto_rows": null,
            "grid_column": null,
            "grid_gap": null,
            "grid_row": null,
            "grid_template_areas": null,
            "grid_template_columns": null,
            "grid_template_rows": null,
            "height": null,
            "justify_content": null,
            "justify_items": null,
            "left": null,
            "margin": null,
            "max_height": null,
            "max_width": null,
            "min_height": null,
            "min_width": null,
            "object_fit": null,
            "object_position": null,
            "order": null,
            "overflow": null,
            "overflow_x": null,
            "overflow_y": null,
            "padding": null,
            "right": null,
            "top": null,
            "visibility": null,
            "width": null
          }
        },
        "1299b39079e64b5581d298b23bac7f4c": {
          "model_module": "@jupyter-widgets/controls",
          "model_name": "ProgressStyleModel",
          "model_module_version": "1.5.0",
          "state": {
            "_model_module": "@jupyter-widgets/controls",
            "_model_module_version": "1.5.0",
            "_model_name": "ProgressStyleModel",
            "_view_count": null,
            "_view_module": "@jupyter-widgets/base",
            "_view_module_version": "1.2.0",
            "_view_name": "StyleView",
            "bar_color": null,
            "description_width": ""
          }
        },
        "6125b31f2a8d41c5870600a96519d75c": {
          "model_module": "@jupyter-widgets/base",
          "model_name": "LayoutModel",
          "model_module_version": "1.2.0",
          "state": {
            "_model_module": "@jupyter-widgets/base",
            "_model_module_version": "1.2.0",
            "_model_name": "LayoutModel",
            "_view_count": null,
            "_view_module": "@jupyter-widgets/base",
            "_view_module_version": "1.2.0",
            "_view_name": "LayoutView",
            "align_content": null,
            "align_items": null,
            "align_self": null,
            "border": null,
            "bottom": null,
            "display": null,
            "flex": null,
            "flex_flow": null,
            "grid_area": null,
            "grid_auto_columns": null,
            "grid_auto_flow": null,
            "grid_auto_rows": null,
            "grid_column": null,
            "grid_gap": null,
            "grid_row": null,
            "grid_template_areas": null,
            "grid_template_columns": null,
            "grid_template_rows": null,
            "height": null,
            "justify_content": null,
            "justify_items": null,
            "left": null,
            "margin": null,
            "max_height": null,
            "max_width": null,
            "min_height": null,
            "min_width": null,
            "object_fit": null,
            "object_position": null,
            "order": null,
            "overflow": null,
            "overflow_x": null,
            "overflow_y": null,
            "padding": null,
            "right": null,
            "top": null,
            "visibility": null,
            "width": null
          }
        },
        "0e0e1791c78e4851b183ecacfe09fb61": {
          "model_module": "@jupyter-widgets/controls",
          "model_name": "DescriptionStyleModel",
          "model_module_version": "1.5.0",
          "state": {
            "_model_module": "@jupyter-widgets/controls",
            "_model_module_version": "1.5.0",
            "_model_name": "DescriptionStyleModel",
            "_view_count": null,
            "_view_module": "@jupyter-widgets/base",
            "_view_module_version": "1.2.0",
            "_view_name": "StyleView",
            "description_width": ""
          }
        },
        "36c5d2673de642b19fe8eb7c298c16f2": {
          "model_module": "@jupyter-widgets/controls",
          "model_name": "HBoxModel",
          "model_module_version": "1.5.0",
          "state": {
            "_dom_classes": [],
            "_model_module": "@jupyter-widgets/controls",
            "_model_module_version": "1.5.0",
            "_model_name": "HBoxModel",
            "_view_count": null,
            "_view_module": "@jupyter-widgets/controls",
            "_view_module_version": "1.5.0",
            "_view_name": "HBoxView",
            "box_style": "",
            "children": [
              "IPY_MODEL_ee3997529c174fe986fdd5012ae0433e",
              "IPY_MODEL_e62211e1bdb24956bc2204e46080431a",
              "IPY_MODEL_1ebadc7c0fa241c5a5f34a05335d0688"
            ],
            "layout": "IPY_MODEL_888d83fc61524d73a3d46e753139342a"
          }
        },
        "ee3997529c174fe986fdd5012ae0433e": {
          "model_module": "@jupyter-widgets/controls",
          "model_name": "HTMLModel",
          "model_module_version": "1.5.0",
          "state": {
            "_dom_classes": [],
            "_model_module": "@jupyter-widgets/controls",
            "_model_module_version": "1.5.0",
            "_model_name": "HTMLModel",
            "_view_count": null,
            "_view_module": "@jupyter-widgets/controls",
            "_view_module_version": "1.5.0",
            "_view_name": "HTMLView",
            "description": "",
            "description_tooltip": null,
            "layout": "IPY_MODEL_b42b6fdd13be46f68413dc9f394b619a",
            "placeholder": "​",
            "style": "IPY_MODEL_79d6abb2272e4f15b7fd5fa7a0b8e65f",
            "value": "Downloading builder script: "
          }
        },
        "e62211e1bdb24956bc2204e46080431a": {
          "model_module": "@jupyter-widgets/controls",
          "model_name": "FloatProgressModel",
          "model_module_version": "1.5.0",
          "state": {
            "_dom_classes": [],
            "_model_module": "@jupyter-widgets/controls",
            "_model_module_version": "1.5.0",
            "_model_name": "FloatProgressModel",
            "_view_count": null,
            "_view_module": "@jupyter-widgets/controls",
            "_view_module_version": "1.5.0",
            "_view_name": "ProgressView",
            "bar_style": "success",
            "description": "",
            "description_tooltip": null,
            "layout": "IPY_MODEL_c033f9c04b9b4a7193166c64dc53bf3b",
            "max": 2923,
            "min": 0,
            "orientation": "horizontal",
            "style": "IPY_MODEL_d5879790c419450ca8f983321391e5ff",
            "value": 2923
          }
        },
        "1ebadc7c0fa241c5a5f34a05335d0688": {
          "model_module": "@jupyter-widgets/controls",
          "model_name": "HTMLModel",
          "model_module_version": "1.5.0",
          "state": {
            "_dom_classes": [],
            "_model_module": "@jupyter-widgets/controls",
            "_model_module_version": "1.5.0",
            "_model_name": "HTMLModel",
            "_view_count": null,
            "_view_module": "@jupyter-widgets/controls",
            "_view_module_version": "1.5.0",
            "_view_name": "HTMLView",
            "description": "",
            "description_tooltip": null,
            "layout": "IPY_MODEL_a1aab94f00b94c47acb8313e5f63f37d",
            "placeholder": "​",
            "style": "IPY_MODEL_eb343d6580b346249a2459c0717534ff",
            "value": " 8.10k/? [00:00&lt;00:00, 152kB/s]"
          }
        },
        "888d83fc61524d73a3d46e753139342a": {
          "model_module": "@jupyter-widgets/base",
          "model_name": "LayoutModel",
          "model_module_version": "1.2.0",
          "state": {
            "_model_module": "@jupyter-widgets/base",
            "_model_module_version": "1.2.0",
            "_model_name": "LayoutModel",
            "_view_count": null,
            "_view_module": "@jupyter-widgets/base",
            "_view_module_version": "1.2.0",
            "_view_name": "LayoutView",
            "align_content": null,
            "align_items": null,
            "align_self": null,
            "border": null,
            "bottom": null,
            "display": null,
            "flex": null,
            "flex_flow": null,
            "grid_area": null,
            "grid_auto_columns": null,
            "grid_auto_flow": null,
            "grid_auto_rows": null,
            "grid_column": null,
            "grid_gap": null,
            "grid_row": null,
            "grid_template_areas": null,
            "grid_template_columns": null,
            "grid_template_rows": null,
            "height": null,
            "justify_content": null,
            "justify_items": null,
            "left": null,
            "margin": null,
            "max_height": null,
            "max_width": null,
            "min_height": null,
            "min_width": null,
            "object_fit": null,
            "object_position": null,
            "order": null,
            "overflow": null,
            "overflow_x": null,
            "overflow_y": null,
            "padding": null,
            "right": null,
            "top": null,
            "visibility": null,
            "width": null
          }
        },
        "b42b6fdd13be46f68413dc9f394b619a": {
          "model_module": "@jupyter-widgets/base",
          "model_name": "LayoutModel",
          "model_module_version": "1.2.0",
          "state": {
            "_model_module": "@jupyter-widgets/base",
            "_model_module_version": "1.2.0",
            "_model_name": "LayoutModel",
            "_view_count": null,
            "_view_module": "@jupyter-widgets/base",
            "_view_module_version": "1.2.0",
            "_view_name": "LayoutView",
            "align_content": null,
            "align_items": null,
            "align_self": null,
            "border": null,
            "bottom": null,
            "display": null,
            "flex": null,
            "flex_flow": null,
            "grid_area": null,
            "grid_auto_columns": null,
            "grid_auto_flow": null,
            "grid_auto_rows": null,
            "grid_column": null,
            "grid_gap": null,
            "grid_row": null,
            "grid_template_areas": null,
            "grid_template_columns": null,
            "grid_template_rows": null,
            "height": null,
            "justify_content": null,
            "justify_items": null,
            "left": null,
            "margin": null,
            "max_height": null,
            "max_width": null,
            "min_height": null,
            "min_width": null,
            "object_fit": null,
            "object_position": null,
            "order": null,
            "overflow": null,
            "overflow_x": null,
            "overflow_y": null,
            "padding": null,
            "right": null,
            "top": null,
            "visibility": null,
            "width": null
          }
        },
        "79d6abb2272e4f15b7fd5fa7a0b8e65f": {
          "model_module": "@jupyter-widgets/controls",
          "model_name": "DescriptionStyleModel",
          "model_module_version": "1.5.0",
          "state": {
            "_model_module": "@jupyter-widgets/controls",
            "_model_module_version": "1.5.0",
            "_model_name": "DescriptionStyleModel",
            "_view_count": null,
            "_view_module": "@jupyter-widgets/base",
            "_view_module_version": "1.2.0",
            "_view_name": "StyleView",
            "description_width": ""
          }
        },
        "c033f9c04b9b4a7193166c64dc53bf3b": {
          "model_module": "@jupyter-widgets/base",
          "model_name": "LayoutModel",
          "model_module_version": "1.2.0",
          "state": {
            "_model_module": "@jupyter-widgets/base",
            "_model_module_version": "1.2.0",
            "_model_name": "LayoutModel",
            "_view_count": null,
            "_view_module": "@jupyter-widgets/base",
            "_view_module_version": "1.2.0",
            "_view_name": "LayoutView",
            "align_content": null,
            "align_items": null,
            "align_self": null,
            "border": null,
            "bottom": null,
            "display": null,
            "flex": null,
            "flex_flow": null,
            "grid_area": null,
            "grid_auto_columns": null,
            "grid_auto_flow": null,
            "grid_auto_rows": null,
            "grid_column": null,
            "grid_gap": null,
            "grid_row": null,
            "grid_template_areas": null,
            "grid_template_columns": null,
            "grid_template_rows": null,
            "height": null,
            "justify_content": null,
            "justify_items": null,
            "left": null,
            "margin": null,
            "max_height": null,
            "max_width": null,
            "min_height": null,
            "min_width": null,
            "object_fit": null,
            "object_position": null,
            "order": null,
            "overflow": null,
            "overflow_x": null,
            "overflow_y": null,
            "padding": null,
            "right": null,
            "top": null,
            "visibility": null,
            "width": null
          }
        },
        "d5879790c419450ca8f983321391e5ff": {
          "model_module": "@jupyter-widgets/controls",
          "model_name": "ProgressStyleModel",
          "model_module_version": "1.5.0",
          "state": {
            "_model_module": "@jupyter-widgets/controls",
            "_model_module_version": "1.5.0",
            "_model_name": "ProgressStyleModel",
            "_view_count": null,
            "_view_module": "@jupyter-widgets/base",
            "_view_module_version": "1.2.0",
            "_view_name": "StyleView",
            "bar_color": null,
            "description_width": ""
          }
        },
        "a1aab94f00b94c47acb8313e5f63f37d": {
          "model_module": "@jupyter-widgets/base",
          "model_name": "LayoutModel",
          "model_module_version": "1.2.0",
          "state": {
            "_model_module": "@jupyter-widgets/base",
            "_model_module_version": "1.2.0",
            "_model_name": "LayoutModel",
            "_view_count": null,
            "_view_module": "@jupyter-widgets/base",
            "_view_module_version": "1.2.0",
            "_view_name": "LayoutView",
            "align_content": null,
            "align_items": null,
            "align_self": null,
            "border": null,
            "bottom": null,
            "display": null,
            "flex": null,
            "flex_flow": null,
            "grid_area": null,
            "grid_auto_columns": null,
            "grid_auto_flow": null,
            "grid_auto_rows": null,
            "grid_column": null,
            "grid_gap": null,
            "grid_row": null,
            "grid_template_areas": null,
            "grid_template_columns": null,
            "grid_template_rows": null,
            "height": null,
            "justify_content": null,
            "justify_items": null,
            "left": null,
            "margin": null,
            "max_height": null,
            "max_width": null,
            "min_height": null,
            "min_width": null,
            "object_fit": null,
            "object_position": null,
            "order": null,
            "overflow": null,
            "overflow_x": null,
            "overflow_y": null,
            "padding": null,
            "right": null,
            "top": null,
            "visibility": null,
            "width": null
          }
        },
        "eb343d6580b346249a2459c0717534ff": {
          "model_module": "@jupyter-widgets/controls",
          "model_name": "DescriptionStyleModel",
          "model_module_version": "1.5.0",
          "state": {
            "_model_module": "@jupyter-widgets/controls",
            "_model_module_version": "1.5.0",
            "_model_name": "DescriptionStyleModel",
            "_view_count": null,
            "_view_module": "@jupyter-widgets/base",
            "_view_module_version": "1.2.0",
            "_view_name": "StyleView",
            "description_width": ""
          }
        }
      }
    }
  },
  "nbformat": 4,
  "nbformat_minor": 0
}